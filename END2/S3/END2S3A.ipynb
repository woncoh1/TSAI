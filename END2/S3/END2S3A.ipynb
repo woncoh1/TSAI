{
  "nbformat": 4,
  "nbformat_minor": 0,
  "metadata": {
    "colab": {
      "name": "END2S3A.ipynb",
      "provenance": [],
      "collapsed_sections": [],
      "toc_visible": true,
      "authorship_tag": "ABX9TyNB2IWoamU+E6kQnYU9RJ5J",
      "include_colab_link": true
    },
    "kernelspec": {
      "name": "python3",
      "display_name": "Python 3"
    },
    "language_info": {
      "name": "python"
    },
    "accelerator": "GPU"
  },
  "cells": [
    {
      "cell_type": "markdown",
      "metadata": {
        "id": "view-in-github",
        "colab_type": "text"
      },
      "source": [
        "<a href=\"https://colab.research.google.com/github/woncoh1/TSAI/blob/main/END2/S3/END2S3A.ipynb\" target=\"_parent\"><img src=\"https://colab.research.google.com/assets/colab-badge.svg\" alt=\"Open In Colab\"/></a>"
      ]
    },
    {
      "cell_type": "markdown",
      "metadata": {
        "id": "RfHZJHZ83EVt"
      },
      "source": [
        "# Instruction\n",
        "\n",
        "1. Write a neural network that can:\n",
        "    1. take 2 inputs:\n",
        "        1. an image from MNIST dataset, and\n",
        "        2. a random number between 0 and 9\n",
        "    2. and gives two outputs:\n",
        "        1. the \"number\" that was represented by the MNIST image, and\n",
        "        2. the \"sum\" of this number with the random number that was generated and sent as the input to the network\n",
        "        3. you can mix fully connected layers and convolution layers\n",
        "        4. you can use one-hot encoding to represent the random number input as well as the \"summed\" output. \n",
        "\n",
        "2. Your code MUST be:\n",
        "    1. well documented (via readme file on github and comments in the code)\n",
        "    2. must mention the data representation\n",
        "    3. must mention your data generation strategy\n",
        "    4. must mention how you have combined the two inputs\n",
        "    5. must mention how you are evaluating your results\n",
        "    6. must mention \"what\" results you finally got and how did you evaluate your results\n",
        "    7. must mention what loss function you picked and why!\n",
        "    8. training MUST happen on the GPU\n",
        "\n",
        "3. Once done:\n",
        "    1. upload the code with short training logs in the readme file from colab to GitHub, and \n",
        "    2. share the GitHub link (public repository)\n"
      ]
    },
    {
      "cell_type": "markdown",
      "metadata": {
        "id": "yOGdKtrY3dVX"
      },
      "source": [
        "# 0. Setup\n",
        "\n",
        "1. Library\n",
        "2. Hyperparameter\n",
        "3. Option"
      ]
    },
    {
      "cell_type": "code",
      "metadata": {
        "colab": {
          "base_uri": "https://localhost:8080/"
        },
        "id": "JmoJHuYH4ePb",
        "outputId": "21c50ae8-5bd6-40cc-de3d-b93bfa10338a"
      },
      "source": [
        "!python --version"
      ],
      "execution_count": 1,
      "outputs": [
        {
          "output_type": "stream",
          "text": [
            "Python 3.7.10\n"
          ],
          "name": "stdout"
        }
      ]
    },
    {
      "cell_type": "markdown",
      "metadata": {
        "id": "ER4ymmOCZncV"
      },
      "source": [
        "## 0-1 Install Packages"
      ]
    },
    {
      "cell_type": "code",
      "metadata": {
        "colab": {
          "base_uri": "https://localhost:8080/"
        },
        "id": "Wrq8gVJwZkc0",
        "outputId": "cb39e50a-c42f-49b4-945b-6132eaa9ce13"
      },
      "source": [
        "!pip install torchsummary"
      ],
      "execution_count": 2,
      "outputs": [
        {
          "output_type": "stream",
          "text": [
            "Requirement already satisfied: torchsummary in /usr/local/lib/python3.7/dist-packages (1.5.1)\n"
          ],
          "name": "stdout"
        }
      ]
    },
    {
      "cell_type": "markdown",
      "metadata": {
        "id": "8QEONW7R4jXv"
      },
      "source": [
        "## 0-2 Load Libraries"
      ]
    },
    {
      "cell_type": "code",
      "metadata": {
        "id": "eFHqwtCyG8BG"
      },
      "source": [
        "import numpy as np\n",
        "import matplotlib.pyplot as plt\n",
        "\n",
        "import torch\n",
        "import torchvision\n",
        "import torchvision.transforms as transforms\n",
        "from torch.utils.data import Dataset\n",
        "\n",
        "import torch.nn as nn\n",
        "import torch.nn.functional as F\n",
        "import torch.optim as optim\n",
        "from torchsummary import summary\n",
        "\n",
        "from tqdm import tqdm"
      ],
      "execution_count": 3,
      "outputs": []
    },
    {
      "cell_type": "markdown",
      "metadata": {
        "id": "MigFnZA777JC"
      },
      "source": [
        "## 0-3 Define Hyperparameters"
      ]
    },
    {
      "cell_type": "code",
      "metadata": {
        "id": "bXw2zWl37_ib"
      },
      "source": [
        "# 1-1-1 Download Datasets\n",
        "mnist_mean = (0.1307,)\n",
        "mnist_std = (0.3081,)\n",
        "\n",
        "# 1-1-3 Create Batches\n",
        "torch.manual_seed(1) # for reproducibility\n",
        "batch_size = 128\n",
        "use_cuda = torch.cuda.is_available()\n",
        "device = torch.device(\"cuda\" if use_cuda else \"cpu\")\n",
        "gpu_config = {'num_workers': 1, 'pin_memory': True} if use_cuda else {}\n",
        "\n",
        "# 1-3-2 Instantiate Optimizer\n",
        "lr_mnist = 0.01\n",
        "mo_mnist = 0.90\n",
        "\n",
        "# 1-3-4 Train Epochs\n",
        "epochs_mnist = 5\n",
        "\n",
        "# 1-3-2 Instantiate Optimizer\n",
        "lr_add = 1e-2 \n",
        "\n",
        "# 2-1-1 Generate Data\n",
        "sample_size = 1_000_000 # number of samples\n",
        "input_dim = 2         # input dimension\n",
        "output_dim = 1         # output dimension\n",
        "\n",
        "# 2-3-3 Train Epochs\n",
        "epochs_add = 100"
      ],
      "execution_count": 4,
      "outputs": []
    },
    {
      "cell_type": "markdown",
      "metadata": {
        "id": "CuwoWJaCGUAo"
      },
      "source": [
        "## 0-4 Set Options"
      ]
    },
    {
      "cell_type": "code",
      "metadata": {
        "id": "fEOjvvQrGV4v"
      },
      "source": [
        "torch.set_printoptions(linewidth=120)"
      ],
      "execution_count": 5,
      "outputs": []
    },
    {
      "cell_type": "markdown",
      "metadata": {
        "id": "5Q9cfUxA10Ou"
      },
      "source": [
        "# 1. MNIST"
      ]
    },
    {
      "cell_type": "markdown",
      "metadata": {
        "id": "hAKI1f4n6fUT"
      },
      "source": [
        "## 1-1 Prepare Data\n",
        "\n",
        "1. Download and process MNIST dataset\n",
        "2. Split transformed dataset into training and testing datasets\n",
        "3. Create batches for training"
      ]
    },
    {
      "cell_type": "markdown",
      "metadata": {
        "id": "9l-MdcKB6tRg"
      },
      "source": [
        "### 1-1-1 Download Datasets\n",
        "\n",
        "Download and transform MNIST dataset\n"
      ]
    },
    {
      "cell_type": "code",
      "metadata": {
        "id": "A2UzKSH67xZj"
      },
      "source": [
        "def load_dataset(train=False):\n",
        "    dataset = torchvision.datasets.MNIST(\n",
        "        root='../data', \n",
        "        train=train, \n",
        "        download=True,\n",
        "        transform=transforms.Compose(\n",
        "            [\n",
        "             transforms.ToTensor(),\n",
        "             transforms.Normalize((0.1307,), (0.3081,))\n",
        "            ]\n",
        "        )\n",
        "    )\n",
        "    return dataset"
      ],
      "execution_count": 6,
      "outputs": []
    },
    {
      "cell_type": "code",
      "metadata": {
        "id": "At02QwzPFBiR"
      },
      "source": [
        "# split training and testing datasets\n",
        "train_set = load_dataset(train=True)\n",
        "test_set = load_dataset(train=False)"
      ],
      "execution_count": 7,
      "outputs": []
    },
    {
      "cell_type": "markdown",
      "metadata": {
        "id": "3fCcr2Mm7vpK"
      },
      "source": [
        "### 1-1-2 Inspect Datasets"
      ]
    },
    {
      "cell_type": "code",
      "metadata": {
        "id": "LA2HFDxKHLvM",
        "colab": {
          "base_uri": "https://localhost:8080/"
        },
        "outputId": "b7d98d74-9460-40d2-c6ee-9374c3c18fda"
      },
      "source": [
        "# size of training set\n",
        "len(train_set)"
      ],
      "execution_count": 8,
      "outputs": [
        {
          "output_type": "execute_result",
          "data": {
            "text/plain": [
              "60000"
            ]
          },
          "metadata": {
            "tags": []
          },
          "execution_count": 8
        }
      ]
    },
    {
      "cell_type": "code",
      "metadata": {
        "id": "RCrcy7HeDaeH",
        "colab": {
          "base_uri": "https://localhost:8080/"
        },
        "outputId": "68bb82d7-4652-4bac-e35e-72a0ff0b619a"
      },
      "source": [
        "# range of label values\n",
        "train_set.train_labels.min(), train_set.train_labels.max()"
      ],
      "execution_count": 9,
      "outputs": [
        {
          "output_type": "stream",
          "text": [
            "/usr/local/lib/python3.7/dist-packages/torchvision/datasets/mnist.py:54: UserWarning: train_labels has been renamed targets\n",
            "  warnings.warn(\"train_labels has been renamed targets\")\n"
          ],
          "name": "stderr"
        },
        {
          "output_type": "execute_result",
          "data": {
            "text/plain": [
              "(tensor(0), tensor(9))"
            ]
          },
          "metadata": {
            "tags": []
          },
          "execution_count": 9
        }
      ]
    },
    {
      "cell_type": "code",
      "metadata": {
        "id": "3XPK1pmWDcDu",
        "colab": {
          "base_uri": "https://localhost:8080/"
        },
        "outputId": "8f9460e4-5ef8-4b01-a861-2944066c8452"
      },
      "source": [
        "# frequency of each label\n",
        "train_set.train_labels.bincount() "
      ],
      "execution_count": 10,
      "outputs": [
        {
          "output_type": "stream",
          "text": [
            "/usr/local/lib/python3.7/dist-packages/torchvision/datasets/mnist.py:54: UserWarning: train_labels has been renamed targets\n",
            "  warnings.warn(\"train_labels has been renamed targets\")\n"
          ],
          "name": "stderr"
        },
        {
          "output_type": "execute_result",
          "data": {
            "text/plain": [
              "tensor([5923, 6742, 5958, 6131, 5842, 5421, 5918, 6265, 5851, 5949])"
            ]
          },
          "metadata": {
            "tags": []
          },
          "execution_count": 10
        }
      ]
    },
    {
      "cell_type": "code",
      "metadata": {
        "id": "oQZMwcnPDrmw",
        "colab": {
          "base_uri": "https://localhost:8080/"
        },
        "outputId": "06640b58-cbb7-429e-8c39-8f7500f557e5"
      },
      "source": [
        "# sample from the training set\n",
        "sample = next(iter(train_set))\n",
        "len(sample), type(sample)"
      ],
      "execution_count": 11,
      "outputs": [
        {
          "output_type": "execute_result",
          "data": {
            "text/plain": [
              "(2, tuple)"
            ]
          },
          "metadata": {
            "tags": []
          },
          "execution_count": 11
        }
      ]
    },
    {
      "cell_type": "code",
      "metadata": {
        "id": "lfpdYT6BDyqH",
        "colab": {
          "base_uri": "https://localhost:8080/"
        },
        "outputId": "14a1f9b6-aa06-4b3c-cfcc-1c22cfd68a4a"
      },
      "source": [
        "# separate image and label from sample\n",
        "image, label = sample\n",
        "image.shape, label"
      ],
      "execution_count": 12,
      "outputs": [
        {
          "output_type": "execute_result",
          "data": {
            "text/plain": [
              "(torch.Size([1, 28, 28]), 5)"
            ]
          },
          "metadata": {
            "tags": []
          },
          "execution_count": 12
        }
      ]
    },
    {
      "cell_type": "code",
      "metadata": {
        "id": "_stHOH_nD8-M",
        "colab": {
          "base_uri": "https://localhost:8080/",
          "height": 282
        },
        "outputId": "420bbe34-1282-4490-f6fd-2de12baf7268"
      },
      "source": [
        "# view image\n",
        "plt.imshow(image.squeeze(), cmap='gray')\n",
        "print('label:', label)"
      ],
      "execution_count": 13,
      "outputs": [
        {
          "output_type": "stream",
          "text": [
            "label: 5\n"
          ],
          "name": "stdout"
        },
        {
          "output_type": "display_data",
          "data": {
            "image/png": "[encoded data removed]",
            "text/plain": [
              "<Figure size 432x288 with 1 Axes>"
            ]
          },
          "metadata": {
            "tags": [],
            "needs_background": "light"
          }
        }
      ]
    },
    {
      "cell_type": "markdown",
      "metadata": {
        "id": "JAUy4rX0F5HJ"
      },
      "source": [
        "### 1-1-3 Create Batches\n",
        "\n",
        "Convert training and testing data into batch iterator:\n",
        "1. Set batch size\n",
        "2. Shuffle data\n",
        "3. Configure GPU (if available)\n",
        "\n",
        "Our workhorse `torch.utils.data.DataLoader` is an iterator which provides all these features:\n",
        "1. Batching the data\n",
        "2. Shuffling the data\n",
        "3.  Loading the data in parallel using multiprocessing workers"
      ]
    },
    {
      "cell_type": "code",
      "metadata": {
        "id": "_pE74vFl-mwP"
      },
      "source": [
        "def make_batch(dataset):\n",
        "    data_loader = torch.utils.data.DataLoader(\n",
        "        dataset=dataset,\n",
        "        batch_size=batch_size, \n",
        "        shuffle=True, \n",
        "        **gpu_config,\n",
        "    )\n",
        "    return data_loader"
      ],
      "execution_count": 14,
      "outputs": []
    },
    {
      "cell_type": "code",
      "metadata": {
        "id": "m3p3ezuYFN3p"
      },
      "source": [
        "train_loader = make_batch(train_set)\n",
        "test_loader = make_batch(test_set)"
      ],
      "execution_count": 15,
      "outputs": []
    },
    {
      "cell_type": "markdown",
      "metadata": {
        "id": "6a2cCEBUGCla"
      },
      "source": [
        "### 1-1-4 Inspect Batches"
      ]
    },
    {
      "cell_type": "code",
      "metadata": {
        "id": "O4e2WNkDEDB-",
        "colab": {
          "base_uri": "https://localhost:8080/"
        },
        "outputId": "0761b798-56ed-45e6-8cb4-2ae11553ea3b"
      },
      "source": [
        "# sample a training batch\n",
        "batch = next(iter(train_loader))\n",
        "len(batch), type(batch)"
      ],
      "execution_count": 16,
      "outputs": [
        {
          "output_type": "execute_result",
          "data": {
            "text/plain": [
              "(2, list)"
            ]
          },
          "metadata": {
            "tags": []
          },
          "execution_count": 16
        }
      ]
    },
    {
      "cell_type": "code",
      "metadata": {
        "id": "JcslAmgvEFY5"
      },
      "source": [
        "# separate images from labels\n",
        "images, labels = batch"
      ],
      "execution_count": 17,
      "outputs": []
    },
    {
      "cell_type": "code",
      "metadata": {
        "id": "zzV3E0vVEJZS",
        "colab": {
          "base_uri": "https://localhost:8080/",
          "height": 954
        },
        "outputId": "35498fb8-6eee-4031-a2b6-caaba6fefdac"
      },
      "source": [
        "# view grid of images\n",
        "grid = torchvision.utils.make_grid(images, nrow=10)\n",
        "plt.figure(figsize=(15,15))\n",
        "plt.imshow(np.transpose(grid, (1,2,0)))\n",
        "print('labels:', labels)"
      ],
      "execution_count": 18,
      "outputs": [
        {
          "output_type": "stream",
          "text": [
            "Clipping input data to the valid range for imshow with RGB data ([0..1] for floats or [0..255] for integers).\n"
          ],
          "name": "stderr"
        },
        {
          "output_type": "stream",
          "text": [
            "labels: tensor([6, 1, 4, 0, 7, 1, 8, 9, 0, 1, 2, 4, 2, 5, 9, 3, 9, 5, 1, 4, 1, 1, 3, 3, 2, 4, 3, 7, 8, 8, 1, 1, 4, 5, 4, 5, 0,\n",
            "        1, 0, 0, 7, 3, 7, 5, 0, 4, 1, 5, 3, 7, 9, 4, 6, 2, 6, 8, 5, 1, 5, 0, 0, 0, 3, 9, 9, 2, 4, 9, 2, 0, 3, 6, 5, 1,\n",
            "        9, 8, 9, 3, 1, 6, 6, 1, 0, 3, 8, 0, 9, 8, 5, 3, 3, 0, 8, 4, 1, 9, 7, 0, 2, 4, 8, 4, 7, 8, 5, 6, 1, 8, 5, 8, 3,\n",
            "        5, 0, 3, 0, 4, 7, 4, 3, 8, 4, 7, 1, 5, 0, 5, 5, 7])\n"
          ],
          "name": "stdout"
        },
        {
          "output_type": "display_data",
          "data": {
            "image/png": "[encoded data removed]",
            "text/plain": [
              "<Figure size 1080x1080 with 1 Axes>"
            ]
          },
          "metadata": {
            "tags": [],
            "needs_background": "light"
          }
        }
      ]
    },
    {
      "cell_type": "markdown",
      "metadata": {
        "id": "2ueyPrQ93UE8"
      },
      "source": [
        "## 1-2 Build Model\n",
        "\n",
        "1. NN for handwritten digit recognition\n",
        "2. NN for learning addition of two arbitrary integers within range [0, 9]"
      ]
    },
    {
      "cell_type": "markdown",
      "metadata": {
        "id": "kPsFk-YGZ4F0"
      },
      "source": [
        "### 1-2-1 Define Model"
      ]
    },
    {
      "cell_type": "code",
      "metadata": {
        "id": "2FmEKSyoZGGx"
      },
      "source": [
        "# Define model (neural network) structure\n",
        "class DigitRecognizer(nn.Module):\n",
        "\n",
        "    # Parts list describing building blocks\n",
        "    def __init__(self):\n",
        "        super().__init__()\n",
        "        self.conv1 = nn.Conv2d(in_channels=1,              # Dimensions for inputs, kernels, outputs and receptive fields (RF)\n",
        "                               out_channels=32,            # Format: Width x Height x (# of channels)\n",
        "                               kernel_size=3,              # Example input dimensions: 28 x 28 x 1\n",
        "                               padding=1)                  # Input: 28 x 28 x 1   , Kernel: 3 x 3 x 1   , Output: 28 x 28 x 32  , RF: 3  x 3  (RF increases despite padding) \n",
        "        self.conv2 = nn.Conv2d(32, 64, 3, padding=1)       # Input: 28 x 28 x 32  , Kernel: 3 x 3 x 32  , Output: 28 x 28 x 64  , RF: 5  x 5   \n",
        "        self.pool1 = nn.MaxPool2d(kernel_size=2, stride=2) # Input: 28 x 28 x 64  , Kernel: 2 x 2 x 1   , Output: 14 x 14 x 64  , RF: 10 x 10  \n",
        "        self.conv3 = nn.Conv2d(64, 128, 3, padding=1)      # Input: 14 x 14 x 64  , Kernel: 3 x 3 x 64  , Output: 14 x 14 x 128 , RF: 12 x 12  \n",
        "        self.conv4 = nn.Conv2d(128, 256, 3, padding=1)     # Input: 14 x 14 x 128 , Kernel: 3 x 3 x 128 , Output: 14 x 14 x 256 , RF: 14 x 14  \n",
        "        self.pool2 = nn.MaxPool2d(2, 2)                    # Input: 7  x 7  x 256 , Kernel: 2 x 2 x 1   , Output: 7  x 7  x 256 , RF: 28 x 28 (no more max-pooling after 7 x 7)\n",
        "        self.conv5 = nn.Conv2d(256, 512, 3)                # Input: 7  x 7  x 256 , Kernel: 3 x 3 x 256 , Output: 5  x 5  x 512 , RF: 30 x 30  \n",
        "        self.conv6 = nn.Conv2d(512, 1024, 3)               # Input: 5  x 5  x 512 , Kernel: 3 x 3 x 512 , Output: 3  x 3  x 1024, RF: 32 x 32  \n",
        "        self.conv7 = nn.Conv2d(1024, 10, 3)                # Input: 3  x 3  x 1024, Kernel: 3 x 3 x 1024, Output: 1  x 1  x 10  , RF: 34 x 34 \n",
        "\n",
        "    # Step-by-step manual for assembling building blocks \n",
        "    def forward(self, x):\n",
        "        x = self.pool1(F.relu(self.conv2(F.relu(self.conv1(x)))))\n",
        "        x = self.pool2(F.relu(self.conv4(F.relu(self.conv3(x)))))\n",
        "        x = F.relu(self.conv6(F.relu(self.conv5(x))))\n",
        "        x = self.conv7(x) # CEO: output should be at least 2 or 3 layers away from information loss (e.g. relu, max-pooling, batch norm, dropout, etc)\n",
        "        x = x.view(-1, 10) # flatten for softmax\n",
        "        return F.log_softmax(x, dim=1)"
      ],
      "execution_count": 19,
      "outputs": []
    },
    {
      "cell_type": "markdown",
      "metadata": {
        "id": "QvS9Vc6CaAvN"
      },
      "source": [
        "### 1-2-2 Instantiate Model"
      ]
    },
    {
      "cell_type": "code",
      "metadata": {
        "id": "zuJ8hJ5AZWay",
        "colab": {
          "base_uri": "https://localhost:8080/"
        },
        "outputId": "33550de8-f8c3-48a6-dbda-331467c57409"
      },
      "source": [
        "# Instantiate model into device and view model summary\n",
        "model_mnist = DigitRecognizer().to(device)\n",
        "summary(model_mnist, input_size=(1, 28, 28)) # default input size of MNIST dataset"
      ],
      "execution_count": 20,
      "outputs": [
        {
          "output_type": "stream",
          "text": [
            "----------------------------------------------------------------\n",
            "        Layer (type)               Output Shape         Param #\n",
            "================================================================\n",
            "            Conv2d-1           [-1, 32, 28, 28]             320\n",
            "            Conv2d-2           [-1, 64, 28, 28]          18,496\n",
            "         MaxPool2d-3           [-1, 64, 14, 14]               0\n",
            "            Conv2d-4          [-1, 128, 14, 14]          73,856\n",
            "            Conv2d-5          [-1, 256, 14, 14]         295,168\n",
            "         MaxPool2d-6            [-1, 256, 7, 7]               0\n",
            "            Conv2d-7            [-1, 512, 5, 5]       1,180,160\n",
            "            Conv2d-8           [-1, 1024, 3, 3]       4,719,616\n",
            "            Conv2d-9             [-1, 10, 1, 1]          92,170\n",
            "================================================================\n",
            "Total params: 6,379,786\n",
            "Trainable params: 6,379,786\n",
            "Non-trainable params: 0\n",
            "----------------------------------------------------------------\n",
            "Input size (MB): 0.00\n",
            "Forward/backward pass size (MB): 1.51\n",
            "Params size (MB): 24.34\n",
            "Estimated Total Size (MB): 25.85\n",
            "----------------------------------------------------------------\n"
          ],
          "name": "stdout"
        }
      ]
    },
    {
      "cell_type": "markdown",
      "metadata": {
        "id": "-mDw8W0l3WN-"
      },
      "source": [
        "## 1-3 Train Model"
      ]
    },
    {
      "cell_type": "markdown",
      "metadata": {
        "id": "Ke8sw6k8hP5C"
      },
      "source": [
        "### 1-3-1 Instantiate Loss"
      ]
    },
    {
      "cell_type": "code",
      "metadata": {
        "id": "yzNcUL9YhUbx"
      },
      "source": [
        "criterion = nn.NLLLoss()"
      ],
      "execution_count": 21,
      "outputs": []
    },
    {
      "cell_type": "markdown",
      "metadata": {
        "id": "wBCvixgXbouM"
      },
      "source": [
        "### 1-3-2 Instantiate Optimizer\n"
      ]
    },
    {
      "cell_type": "code",
      "metadata": {
        "id": "dS8eEr0abAfI"
      },
      "source": [
        "optimizer = optim.SGD(model_mnist.parameters(), \n",
        "                      lr=lr_mnist, \n",
        "                      momentum=mo_mnist)"
      ],
      "execution_count": 22,
      "outputs": []
    },
    {
      "cell_type": "markdown",
      "metadata": {
        "id": "kaDNMkIIbZR_"
      },
      "source": [
        "### 1-3-3 Define Trainer"
      ]
    },
    {
      "cell_type": "code",
      "metadata": {
        "id": "F5DqIN7zazgN"
      },
      "source": [
        "# Optimize model parameters\n",
        "def train(model: 'neural network', \n",
        "          device: 'CPU or GPU', \n",
        "          train_loader: 'training batch', \n",
        "          optimizer: 'weight-optimizing algorithm'):\n",
        "    # set model to train mode, enabling features like regularization\n",
        "    model.train() \n",
        "    # use progress meter\n",
        "    pbar = tqdm(train_loader) \n",
        "    # iterate for every batch\n",
        "    for batch_idx, (data, target) in enumerate(pbar): \n",
        "        # instantiate data and target to device\n",
        "        data, target = data.to(device), target.to(device) \n",
        "        \n",
        "        # zero previously accumulated gradients for mini-batch update\n",
        "        optimizer.zero_grad()\n",
        "        # forward pass\n",
        "        output = model(data)\n",
        "        # define loss function\n",
        "        loss = criterion(output, target) \n",
        "        # calculate gradients \n",
        "        loss.backward() \n",
        "        # update parameters\n",
        "        optimizer.step() \n",
        "        \n",
        "        # configure progress meter                                            \n",
        "        pbar.set_description(desc= f'Loss= {loss.item(): .4f} | Batch ID= {batch_idx}') "
      ],
      "execution_count": 23,
      "outputs": []
    },
    {
      "cell_type": "markdown",
      "metadata": {
        "id": "DPox7vYEbtl6"
      },
      "source": [
        "### 1-3-4 Train Epochs"
      ]
    },
    {
      "cell_type": "code",
      "metadata": {
        "id": "vIl3BzD2a-6t",
        "colab": {
          "base_uri": "https://localhost:8080/"
        },
        "outputId": "2e7f9066-8705-479f-94e6-74fa15a800ba"
      },
      "source": [
        "# Bring batches, model, loss function and optimizer together to actually\n",
        "# carry out training and testing of the model\n",
        "for epoch in range(epochs_mnist):\n",
        "    train(model_mnist, device, train_loader, optimizer)"
      ],
      "execution_count": 24,
      "outputs": [
        {
          "output_type": "stream",
          "text": [
            "Loss=  0.0654 | Batch ID= 468: 100%|██████████| 469/469 [00:18<00:00, 25.21it/s]\n",
            "Loss=  0.1059 | Batch ID= 468: 100%|██████████| 469/469 [00:18<00:00, 24.93it/s]\n",
            "Loss=  0.1008 | Batch ID= 468: 100%|██████████| 469/469 [00:19<00:00, 24.60it/s]\n",
            "Loss=  0.0470 | Batch ID= 468: 100%|██████████| 469/469 [00:19<00:00, 24.56it/s]\n",
            "Loss=  0.0570 | Batch ID= 468: 100%|██████████| 469/469 [00:19<00:00, 24.56it/s]\n"
          ],
          "name": "stderr"
        }
      ]
    },
    {
      "cell_type": "markdown",
      "metadata": {
        "id": "Cks-bF8f4ENV"
      },
      "source": [
        "## 1-4 Test Model"
      ]
    },
    {
      "cell_type": "markdown",
      "metadata": {
        "id": "S9HcYtbebc57"
      },
      "source": [
        "### 1-4-1 Define Tester"
      ]
    },
    {
      "cell_type": "code",
      "metadata": {
        "id": "Mf8EnYIxa66r"
      },
      "source": [
        "# Test how well model parameters are optimized\n",
        "def test(model, device, test_loader: 'testing batch'):\n",
        "    # set model to evaluation mode, disabling features like regularization\n",
        "    model.eval()\n",
        "    # iteratively accumulate test loss and # of correct predictions\n",
        "    test_loss = 0\n",
        "    correct = 0\n",
        "    with torch.no_grad():\n",
        "        for data, target in test_loader:\n",
        "            data, target = data.to(device), target.to(device)\n",
        "            output = model(data)\n",
        "\n",
        "            # sum up batch loss\n",
        "            test_loss += criterion(output, target).sum().item()   \n",
        "            # get the index of the max log-probability\n",
        "            pred = output.argmax(dim=1, keepdim=True)\n",
        "            # update # of correct predictions  \n",
        "            correct += pred.eq(target.view_as(pred)).sum().item()\n",
        "    \n",
        "    # get average test loss per batch\n",
        "    test_loss /= len(test_loader.dataset)\n",
        "\n",
        "    print('\\nAverage loss: {:.4f}, Accuracy: {}/{} ({:.0f}%)\\n'.format(\n",
        "        test_loss, correct, len(test_loader.dataset),\n",
        "        100. * correct / len(test_loader.dataset)))"
      ],
      "execution_count": 25,
      "outputs": []
    },
    {
      "cell_type": "markdown",
      "metadata": {
        "id": "v7p7WGekcBoc"
      },
      "source": [
        "### 1-4-2 Test Model"
      ]
    },
    {
      "cell_type": "code",
      "metadata": {
        "id": "ofsoENttcFPe",
        "colab": {
          "base_uri": "https://localhost:8080/"
        },
        "outputId": "3578636a-1b71-4243-c9a2-998138091842"
      },
      "source": [
        "test(model_mnist, device, test_loader)"
      ],
      "execution_count": 26,
      "outputs": [
        {
          "output_type": "stream",
          "text": [
            "\n",
            "Average loss: 0.0003, Accuracy: 9907/10000 (99%)\n",
            "\n"
          ],
          "name": "stdout"
        }
      ]
    },
    {
      "cell_type": "code",
      "metadata": {
        "colab": {
          "base_uri": "https://localhost:8080/"
        },
        "id": "ySIn2jxh5Yjo",
        "outputId": "8f27894a-3f15-44c5-9ec2-c359342b00cf"
      },
      "source": [
        "images, labels = batch\n",
        "target = labels[1]\n",
        "target.item()"
      ],
      "execution_count": 27,
      "outputs": [
        {
          "output_type": "execute_result",
          "data": {
            "text/plain": [
              "1"
            ]
          },
          "metadata": {
            "tags": []
          },
          "execution_count": 27
        }
      ]
    },
    {
      "cell_type": "code",
      "metadata": {
        "colab": {
          "base_uri": "https://localhost:8080/"
        },
        "id": "9kxsNEex6AZ5",
        "outputId": "d776fa73-c244-4c4e-8ff9-6b003edc1b97"
      },
      "source": [
        " input = images[1].unsqueeze(0).to(device)\n",
        " output = model_mnist(input)\n",
        " prediction = output.argmax(dim=1).squeeze(0)\n",
        " prediction.item()"
      ],
      "execution_count": 28,
      "outputs": [
        {
          "output_type": "execute_result",
          "data": {
            "text/plain": [
              "1"
            ]
          },
          "metadata": {
            "tags": []
          },
          "execution_count": 28
        }
      ]
    },
    {
      "cell_type": "markdown",
      "metadata": {
        "id": "-TTdZGjG2Pmi"
      },
      "source": [
        "# 2. Addition"
      ]
    },
    {
      "cell_type": "markdown",
      "metadata": {
        "id": "spr_s6XY20mB"
      },
      "source": [
        "## 2-1 Prepare Data"
      ]
    },
    {
      "cell_type": "markdown",
      "metadata": {
        "id": "mjWntKmeLvuN"
      },
      "source": [
        "### 2-1-1 Generate Data"
      ]
    },
    {
      "cell_type": "code",
      "metadata": {
        "id": "B3hsqq9oXCTD"
      },
      "source": [
        "X = torch.rand(sample_size, input_dim).to(device)        \n",
        "y = torch.sum(X, axis=-1).reshape(-1, output_dim) "
      ],
      "execution_count": 29,
      "outputs": []
    },
    {
      "cell_type": "markdown",
      "metadata": {
        "id": "4d1N5ov6LzqA"
      },
      "source": [
        "### 2-1-2 Inspect Data"
      ]
    },
    {
      "cell_type": "code",
      "metadata": {
        "colab": {
          "base_uri": "https://localhost:8080/"
        },
        "id": "UtcTaZPWL0V1",
        "outputId": "b1399b04-fc08-4e89-dd04-4b6d1bd1e07a"
      },
      "source": [
        "print(X[0])\n",
        "print()\n",
        "print(y)"
      ],
      "execution_count": 30,
      "outputs": [
        {
          "output_type": "stream",
          "text": [
            "tensor([0.8207, 0.0614], device='cuda:0')\n",
            "\n",
            "tensor([[0.8821],\n",
            "        [0.7485],\n",
            "        [1.5321],\n",
            "        ...,\n",
            "        [1.2935],\n",
            "        [0.9198],\n",
            "        [0.8347]], device='cuda:0')\n"
          ],
          "name": "stdout"
        }
      ]
    },
    {
      "cell_type": "markdown",
      "metadata": {
        "id": "RJkUgU1122_N"
      },
      "source": [
        "## 2-2 Build Model"
      ]
    },
    {
      "cell_type": "markdown",
      "metadata": {
        "id": "kyC-KuALLJfz"
      },
      "source": [
        "### 2-2-1 Define Model"
      ]
    },
    {
      "cell_type": "code",
      "metadata": {
        "id": "eCXv-b1yiZBz"
      },
      "source": [
        "# 3 fully connected layers\n",
        "model_add = torch.nn.Sequential(\n",
        "    torch.nn.Linear(input_dim, 100),\n",
        "    torch.nn.ReLU(),\n",
        "    torch.nn.Linear(100, 100), \n",
        "    torch.nn.ReLU(),\n",
        "    torch.nn.Linear(100, output_dim)\n",
        "    )"
      ],
      "execution_count": 31,
      "outputs": []
    },
    {
      "cell_type": "markdown",
      "metadata": {
        "id": "5-X9vE2XLMkJ"
      },
      "source": [
        "### 2-2-2 Instantiate Model"
      ]
    },
    {
      "cell_type": "code",
      "metadata": {
        "colab": {
          "base_uri": "https://localhost:8080/"
        },
        "id": "BrSW1yfmLQGU",
        "outputId": "534c73dc-a709-4eb2-fa07-1e1fb81e9b67"
      },
      "source": [
        "model_add.to(device)\n",
        "summary(model_add, input_size=(1, 1, 2))"
      ],
      "execution_count": 32,
      "outputs": [
        {
          "output_type": "stream",
          "text": [
            "----------------------------------------------------------------\n",
            "        Layer (type)               Output Shape         Param #\n",
            "================================================================\n",
            "            Linear-1            [-1, 1, 1, 100]             300\n",
            "              ReLU-2            [-1, 1, 1, 100]               0\n",
            "            Linear-3            [-1, 1, 1, 100]          10,100\n",
            "              ReLU-4            [-1, 1, 1, 100]               0\n",
            "            Linear-5              [-1, 1, 1, 1]             101\n",
            "================================================================\n",
            "Total params: 10,501\n",
            "Trainable params: 10,501\n",
            "Non-trainable params: 0\n",
            "----------------------------------------------------------------\n",
            "Input size (MB): 0.00\n",
            "Forward/backward pass size (MB): 0.00\n",
            "Params size (MB): 0.04\n",
            "Estimated Total Size (MB): 0.04\n",
            "----------------------------------------------------------------\n"
          ],
          "name": "stdout"
        }
      ]
    },
    {
      "cell_type": "markdown",
      "metadata": {
        "id": "9xTQvDdC24t_"
      },
      "source": [
        "## 2-3 Train Model"
      ]
    },
    {
      "cell_type": "markdown",
      "metadata": {
        "id": "3tmg1191KSYn"
      },
      "source": [
        "### 2-3-1 Instantiate Loss"
      ]
    },
    {
      "cell_type": "code",
      "metadata": {
        "id": "xFE-xHO9KUId"
      },
      "source": [
        "criterion = torch.nn.MSELoss()"
      ],
      "execution_count": 33,
      "outputs": []
    },
    {
      "cell_type": "markdown",
      "metadata": {
        "id": "SkVRvlIYKZ7F"
      },
      "source": [
        "### 2-3-2 Instantiate Optimizer"
      ]
    },
    {
      "cell_type": "code",
      "metadata": {
        "id": "9sEufG0y4Ycq"
      },
      "source": [
        "optimizer = torch.optim.Adam(model_add.parameters(), lr=lr_add)"
      ],
      "execution_count": 34,
      "outputs": []
    },
    {
      "cell_type": "markdown",
      "metadata": {
        "id": "jo1FMf3lKgCH"
      },
      "source": [
        "### 2-3-3 Train Epochs"
      ]
    },
    {
      "cell_type": "code",
      "metadata": {
        "colab": {
          "base_uri": "https://localhost:8080/"
        },
        "id": "6RKzhe-k1ha4",
        "outputId": "a490b11a-7c72-428b-e93f-7e764bdacde0"
      },
      "source": [
        "for epoch in range(epochs_add):\n",
        "    y_pred = model_add(X)  # forward step\n",
        "    loss = criterion(y_pred, y)  # compute loss\n",
        "    loss.backward()  # backprop (compute gradients)\n",
        "    optimizer.step()  # update weights (gradient descent step)\n",
        "    optimizer.zero_grad()  # reset gradients\n",
        "    if epoch % 10 == 0:\n",
        "        print(f\"Epoch: {epoch+1: <2} | Loss: {loss.item():.6f}\")"
      ],
      "execution_count": 35,
      "outputs": [
        {
          "output_type": "stream",
          "text": [
            "Epoch: 1  | Loss: 1.144227\n",
            "Epoch: 11 | Loss: 0.036835\n",
            "Epoch: 21 | Loss: 0.022791\n",
            "Epoch: 31 | Loss: 0.007687\n",
            "Epoch: 41 | Loss: 0.000618\n",
            "Epoch: 51 | Loss: 0.000258\n",
            "Epoch: 61 | Loss: 0.000225\n",
            "Epoch: 71 | Loss: 0.000088\n",
            "Epoch: 81 | Loss: 0.000050\n",
            "Epoch: 91 | Loss: 0.000032\n"
          ],
          "name": "stdout"
        }
      ]
    },
    {
      "cell_type": "markdown",
      "metadata": {
        "id": "8P9KS7_j28ya"
      },
      "source": [
        "## 2-4 Test Model"
      ]
    },
    {
      "cell_type": "code",
      "metadata": {
        "colab": {
          "base_uri": "https://localhost:8080/"
        },
        "id": "DStBDklh3EU0",
        "outputId": "1ed37f4a-5549-4a75-f7bf-7c32b01955a5"
      },
      "source": [
        "X_test = 0.1 * torch.randint(low=0, high=10, size=(5, input_dim)).to(device)\n",
        "X_test"
      ],
      "execution_count": 36,
      "outputs": [
        {
          "output_type": "execute_result",
          "data": {
            "text/plain": [
              "tensor([[0.1000, 0.3000],\n",
              "        [0.3000, 0.5000],\n",
              "        [0.0000, 0.0000],\n",
              "        [0.4000, 0.1000],\n",
              "        [0.1000, 0.1000]], device='cuda:0')"
            ]
          },
          "metadata": {
            "tags": []
          },
          "execution_count": 36
        }
      ]
    },
    {
      "cell_type": "code",
      "metadata": {
        "colab": {
          "base_uri": "https://localhost:8080/"
        },
        "id": "2I4vF3r33GQh",
        "outputId": "489155b2-867a-4e43-fee7-1eee8772a944"
      },
      "source": [
        "y_pred = torch.round(10 * model_add(X_test))\n",
        "y_pred"
      ],
      "execution_count": 37,
      "outputs": [
        {
          "output_type": "execute_result",
          "data": {
            "text/plain": [
              "tensor([[4.],\n",
              "        [8.],\n",
              "        [0.],\n",
              "        [5.],\n",
              "        [2.]], device='cuda:0', grad_fn=<RoundBackward>)"
            ]
          },
          "metadata": {
            "tags": []
          },
          "execution_count": 37
        }
      ]
    },
    {
      "cell_type": "code",
      "metadata": {
        "colab": {
          "base_uri": "https://localhost:8080/"
        },
        "id": "pVx-ymQk3IKi",
        "outputId": "3af69dc3-a77f-485a-d026-188d36a3186b"
      },
      "source": [
        "y_targ = torch.round(10 * torch.sum(X_test, axis=-1).reshape(-1, output_dim))\n",
        "y_targ"
      ],
      "execution_count": 38,
      "outputs": [
        {
          "output_type": "execute_result",
          "data": {
            "text/plain": [
              "tensor([[4.],\n",
              "        [8.],\n",
              "        [0.],\n",
              "        [5.],\n",
              "        [2.]], device='cuda:0')"
            ]
          },
          "metadata": {
            "tags": []
          },
          "execution_count": 38
        }
      ]
    },
    {
      "cell_type": "markdown",
      "metadata": {
        "id": "d2l3wzey3XwX"
      },
      "source": [
        "# 3. MNIST + Addition"
      ]
    },
    {
      "cell_type": "markdown",
      "metadata": {
        "id": "BUl5UvAcNKHI"
      },
      "source": [
        "## 3-1 Build Model"
      ]
    },
    {
      "cell_type": "code",
      "metadata": {
        "id": "E4Rsa9zB_9Nm"
      },
      "source": [
        "def model_combined(input_image, input_number):\n",
        "    input_image = input_image.unsqueeze(0).to(device)\n",
        "    \n",
        "    input_number = input_number.item()\n",
        "    input_number *= 0.1 \n",
        "\n",
        "    output_number = model_mnist(input_image)\n",
        "    output_number = output_number.argmax(dim=1).squeeze(0)\n",
        "    output_number = output_number.item()\n",
        "    output_number *= 0.1\n",
        "\n",
        "    numbers = torch.tensor([[input_number, output_number]]).to(device)\n",
        "    sum_total = torch.round(10 * model_add(numbers))\n",
        "\n",
        "    output_number = int(10 * output_number)\n",
        "    sum_total = int(sum_total.item())\n",
        "\n",
        "    return output_number, sum_total"
      ],
      "execution_count": 39,
      "outputs": []
    },
    {
      "cell_type": "markdown",
      "metadata": {
        "id": "ndvpJnZpNMYj"
      },
      "source": [
        "## 3-2 Test Model"
      ]
    },
    {
      "cell_type": "code",
      "metadata": {
        "id": "KJwghDNP3ryg"
      },
      "source": [
        "def make_randint():\n",
        "    return torch.randint(low=0, high=10, size=(1,))\n",
        "\n",
        "def test_combined(model, device, test_loader: 'testing batch'):\n",
        "    correct = 0\n",
        "    count = 0\n",
        "\n",
        "    for batch in test_loader:\n",
        "\n",
        "        images, labels = batch\n",
        "\n",
        "        for i in range(len(images)):\n",
        "            input_image = images[i]\n",
        "            input_number = make_randint()\n",
        "\n",
        "            output_number = labels[i]\n",
        "            target = (output_number.item(), \n",
        "                      input_number.item() + output_number.item())\n",
        "            prediction = model(input_image, input_number)\n",
        "\n",
        "            correct += target == prediction\n",
        "            count += 1\n",
        "\n",
        "    print(f\"Accuracy: {correct} / {count} ({100 * correct / count}%)\")"
      ],
      "execution_count": 40,
      "outputs": []
    },
    {
      "cell_type": "code",
      "metadata": {
        "colab": {
          "base_uri": "https://localhost:8080/"
        },
        "id": "RLVjwUuQaAIK",
        "outputId": "7f999abc-972f-4df9-c0a9-79f92a143cbc"
      },
      "source": [
        "test_combined(model_combined, device, test_loader)"
      ],
      "execution_count": 41,
      "outputs": [
        {
          "output_type": "stream",
          "text": [
            "Accuracy: 9907 / 10000 (99.07%)\n"
          ],
          "name": "stdout"
        }
      ]
    },
    {
      "cell_type": "code",
      "metadata": {
        "id": "SD7pVUSiZNLX"
      },
      "source": [
        ""
      ],
      "execution_count": 41,
      "outputs": []
    }
  ]
}