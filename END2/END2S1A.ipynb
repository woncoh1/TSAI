{
  "nbformat": 4,
  "nbformat_minor": 0,
  "metadata": {
    "colab": {
      "name": "END2S1A.ipynb",
      "provenance": [],
      "collapsed_sections": [],
      "toc_visible": true,
      "include_colab_link": true
    },
    "kernelspec": {
      "name": "python3",
      "display_name": "Python 3"
    },
    "language_info": {
      "name": "python"
    }
  },
  "cells": [
    {
      "cell_type": "markdown",
      "metadata": {
        "id": "view-in-github",
        "colab_type": "text"
      },
      "source": [
        "<a href=\"https://colab.research.google.com/github/woncoh1/TSAI/blob/main/END2/END2S1A.ipynb\" target=\"_parent\"><img src=\"https://colab.research.google.com/assets/colab-badge.svg\" alt=\"Open In Colab\"/></a>"
      ]
    },
    {
      "cell_type": "markdown",
      "metadata": {
        "id": "1Td7nst7-mWG"
      },
      "source": [
        "# Setup"
      ]
    },
    {
      "cell_type": "markdown",
      "metadata": {
        "id": "7K-4-z9r8sIz"
      },
      "source": [
        "## Import Libraries"
      ]
    },
    {
      "cell_type": "code",
      "metadata": {
        "colab": {
          "base_uri": "https://localhost:8080/"
        },
        "id": "GC_6PeobwwkH",
        "outputId": "d431cbc5-ebfb-4809-8a8c-b192d60d0050"
      },
      "source": [
        "import torch\n",
        "from torch.autograd import Variable\n",
        "import torch.nn as nn\n",
        "import torch.nn.functional as F\n",
        "import torch.optim as optim\n",
        "import numpy as np\n",
        "import matplotlib.pyplot as plt\n",
        "%matplotlib inline\n",
        "torch.manual_seed(2)"
      ],
      "execution_count": 1,
      "outputs": [
        {
          "output_type": "execute_result",
          "data": {
            "text/plain": [
              "<torch._C.Generator at 0x7fb9890a3710>"
            ]
          },
          "metadata": {
            "tags": []
          },
          "execution_count": 1
        }
      ]
    },
    {
      "cell_type": "markdown",
      "metadata": {
        "id": "gc6oBzfi8vzS"
      },
      "source": [
        "# Data"
      ]
    },
    {
      "cell_type": "code",
      "metadata": {
        "id": "bL64bMTkw2GP"
      },
      "source": [
        "X = torch.Tensor([[0,0], [0,1], [1,0], [1,1]])\n",
        "Y = torch.Tensor([0, 1, 1, 0]).view(-1,1)"
      ],
      "execution_count": 2,
      "outputs": []
    },
    {
      "cell_type": "markdown",
      "metadata": {
        "id": "TFB8A19781u4"
      },
      "source": [
        "## Inspect Data"
      ]
    },
    {
      "cell_type": "code",
      "metadata": {
        "colab": {
          "base_uri": "https://localhost:8080/"
        },
        "id": "m72jlILU8y6P",
        "outputId": "c074604e-d5e3-47b2-b421-946f04a31e46"
      },
      "source": [
        "X"
      ],
      "execution_count": 3,
      "outputs": [
        {
          "output_type": "execute_result",
          "data": {
            "text/plain": [
              "tensor([[0., 0.],\n",
              "        [0., 1.],\n",
              "        [1., 0.],\n",
              "        [1., 1.]])"
            ]
          },
          "metadata": {
            "tags": []
          },
          "execution_count": 3
        }
      ]
    },
    {
      "cell_type": "code",
      "metadata": {
        "colab": {
          "base_uri": "https://localhost:8080/"
        },
        "id": "izka3MM19Bx5",
        "outputId": "68c4ae01-60ba-47ef-b2ee-aaecdfb7667d"
      },
      "source": [
        "Y"
      ],
      "execution_count": 4,
      "outputs": [
        {
          "output_type": "execute_result",
          "data": {
            "text/plain": [
              "tensor([[0.],\n",
              "        [1.],\n",
              "        [1.],\n",
              "        [0.]])"
            ]
          },
          "metadata": {
            "tags": []
          },
          "execution_count": 4
        }
      ]
    },
    {
      "cell_type": "markdown",
      "metadata": {
        "id": "w6CH3K1l-NRE"
      },
      "source": [
        "# Model"
      ]
    },
    {
      "cell_type": "markdown",
      "metadata": {
        "id": "MhnwzTC-9H8n"
      },
      "source": [
        "## Define Model"
      ]
    },
    {
      "cell_type": "code",
      "metadata": {
        "id": "aC82kEAIw3Wf"
      },
      "source": [
        "class XOR(nn.Module):\n",
        "    # parts list\n",
        "    def __init__(self, input_dim = 2, output_dim=1):\n",
        "        super(XOR, self).__init__()\n",
        "        self.lin1 = nn.Linear(input_dim, 11, bias=True)\n",
        "        self.lin2 = nn.Linear(11, output_dim, bias=False)\n",
        "    # assembly\n",
        "    def forward(self, x):\n",
        "        x = self.lin1(x)\n",
        "        x = torch.tanh(x)\n",
        "        x = self.lin2(x)\n",
        "        return x"
      ],
      "execution_count": 5,
      "outputs": []
    },
    {
      "cell_type": "markdown",
      "metadata": {
        "id": "-TNU1Wzv9cKk"
      },
      "source": [
        "## Instantiate Model"
      ]
    },
    {
      "cell_type": "code",
      "metadata": {
        "colab": {
          "base_uri": "https://localhost:8080/"
        },
        "id": "8gQIQExYw65K",
        "outputId": "3bff595b-878b-4ad1-fc34-05400966afc4"
      },
      "source": [
        "model = XOR()\n",
        "print(model)"
      ],
      "execution_count": 6,
      "outputs": [
        {
          "output_type": "stream",
          "text": [
            "XOR(\n",
            "  (lin1): Linear(in_features=2, out_features=11, bias=True)\n",
            "  (lin2): Linear(in_features=11, out_features=1, bias=False)\n",
            ")\n"
          ],
          "name": "stdout"
        }
      ]
    },
    {
      "cell_type": "markdown",
      "metadata": {
        "id": "7v1vFTw69hAy"
      },
      "source": [
        "## Summerize Model"
      ]
    },
    {
      "cell_type": "code",
      "metadata": {
        "colab": {
          "base_uri": "https://localhost:8080/"
        },
        "id": "3eAWWNue9jRv",
        "outputId": "686e57b5-b5f1-4e2f-b6d1-99f8e3268794"
      },
      "source": [
        "from torchsummary import summary\n",
        "summary(model, (2,2))"
      ],
      "execution_count": 7,
      "outputs": [
        {
          "output_type": "stream",
          "text": [
            "----------------------------------------------------------------\n",
            "        Layer (type)               Output Shape         Param #\n",
            "================================================================\n",
            "            Linear-1                [-1, 2, 11]              33\n",
            "            Linear-2                 [-1, 2, 1]              11\n",
            "================================================================\n",
            "Total params: 44\n",
            "Trainable params: 44\n",
            "Non-trainable params: 0\n",
            "----------------------------------------------------------------\n",
            "Input size (MB): 0.00\n",
            "Forward/backward pass size (MB): 0.00\n",
            "Params size (MB): 0.00\n",
            "Estimated Total Size (MB): 0.00\n",
            "----------------------------------------------------------------\n"
          ],
          "name": "stdout"
        }
      ]
    },
    {
      "cell_type": "markdown",
      "metadata": {
        "id": "kc9uRu6K9no7"
      },
      "source": [
        "## Randomly Initialize Model Parameters"
      ]
    },
    {
      "cell_type": "code",
      "metadata": {
        "id": "yeotEq19x6XF"
      },
      "source": [
        "def weights_init(model):\n",
        "    for m in model.modules():\n",
        "        if isinstance(m, nn.Linear):\n",
        "            # initialize the weight tensor, here we use a normal distribution\n",
        "            m.weight.data.normal_(0, 1)\n",
        "\n",
        "weights_init(model)"
      ],
      "execution_count": 8,
      "outputs": []
    },
    {
      "cell_type": "markdown",
      "metadata": {
        "id": "SslewqlX-dsm"
      },
      "source": [
        "# Loss Function"
      ]
    },
    {
      "cell_type": "markdown",
      "metadata": {
        "id": "FhTVK8f19vVd"
      },
      "source": [
        "## Instantiate Loss Function"
      ]
    },
    {
      "cell_type": "code",
      "metadata": {
        "id": "WrD_sNzLx78e"
      },
      "source": [
        "loss_func = nn.L1Loss()"
      ],
      "execution_count": 9,
      "outputs": []
    },
    {
      "cell_type": "markdown",
      "metadata": {
        "id": "ThtJ1IUv-gyG"
      },
      "source": [
        "# Optimizer"
      ]
    },
    {
      "cell_type": "markdown",
      "metadata": {
        "id": "DlksgRTW9xGP"
      },
      "source": [
        "## Instantiate Optimizer"
      ]
    },
    {
      "cell_type": "code",
      "metadata": {
        "id": "-zvbrMd2x_lA"
      },
      "source": [
        "optimizer = optim.SGD(model.parameters(), lr=0.02, momentum=0.9)"
      ],
      "execution_count": 10,
      "outputs": []
    },
    {
      "cell_type": "markdown",
      "metadata": {
        "id": "RO3KDjML95Hr"
      },
      "source": [
        "# Training"
      ]
    },
    {
      "cell_type": "markdown",
      "metadata": {
        "id": "J9CFGr_Z-zpj"
      },
      "source": [
        "## Fit Model"
      ]
    },
    {
      "cell_type": "code",
      "metadata": {
        "colab": {
          "base_uri": "https://localhost:8080/"
        },
        "id": "q7tWa3D7yA5X",
        "outputId": "58084379-453f-405c-a2e5-b89f6b7cc91a"
      },
      "source": [
        "epochs = 2001\n",
        "steps = X.size(0)\n",
        "for i in range(epochs):\n",
        "    for j in range(steps):\n",
        "        data_point = np.random.randint(X.size(0))\n",
        "        x_var = Variable(X[data_point], requires_grad=False)\n",
        "        y_var = Variable(Y[data_point], requires_grad=False)\n",
        "        \n",
        "        optimizer.zero_grad()\n",
        "        y_hat = model(x_var)\n",
        "        loss = loss_func.forward(y_hat, y_var)\n",
        "        loss.backward()\n",
        "        optimizer.step()\n",
        "        \n",
        "    if i % 50 == 0:\n",
        "        print( \"Epoch: {0}, Loss: {1}, \".format(i, loss.data.numpy()))"
      ],
      "execution_count": 11,
      "outputs": [
        {
          "output_type": "stream",
          "text": [
            "Epoch: 0, Loss: 1.0613465309143066, \n",
            "Epoch: 50, Loss: 0.311309814453125, \n",
            "Epoch: 100, Loss: 0.12798868119716644, \n",
            "Epoch: 150, Loss: 0.43344324827194214, \n",
            "Epoch: 200, Loss: 0.40718162059783936, \n",
            "Epoch: 250, Loss: 0.6955143213272095, \n",
            "Epoch: 300, Loss: 0.3262554407119751, \n",
            "Epoch: 350, Loss: 0.539896547794342, \n",
            "Epoch: 400, Loss: 0.2858465313911438, \n",
            "Epoch: 450, Loss: 0.06704342365264893, \n",
            "Epoch: 500, Loss: 0.18138915300369263, \n",
            "Epoch: 550, Loss: 0.18186545372009277, \n",
            "Epoch: 600, Loss: 0.07547903060913086, \n",
            "Epoch: 650, Loss: 0.04073357582092285, \n",
            "Epoch: 700, Loss: 0.10864007472991943, \n",
            "Epoch: 750, Loss: 0.3650203347206116, \n",
            "Epoch: 800, Loss: 0.10317236185073853, \n",
            "Epoch: 850, Loss: 0.16018545627593994, \n",
            "Epoch: 900, Loss: 0.10037755966186523, \n",
            "Epoch: 950, Loss: 0.08085447549819946, \n",
            "Epoch: 1000, Loss: 0.0058890581130981445, \n",
            "Epoch: 1050, Loss: 0.26857006549835205, \n",
            "Epoch: 1100, Loss: 0.5369537472724915, \n",
            "Epoch: 1150, Loss: 0.12481141090393066, \n",
            "Epoch: 1200, Loss: 0.06190896034240723, \n",
            "Epoch: 1250, Loss: 0.002696990966796875, \n",
            "Epoch: 1300, Loss: 0.10920453071594238, \n",
            "Epoch: 1350, Loss: 0.3305296301841736, \n",
            "Epoch: 1400, Loss: 0.3407709002494812, \n",
            "Epoch: 1450, Loss: 0.08120203018188477, \n",
            "Epoch: 1500, Loss: 0.10923457145690918, \n",
            "Epoch: 1550, Loss: 0.03581440448760986, \n",
            "Epoch: 1600, Loss: 0.014088630676269531, \n",
            "Epoch: 1650, Loss: 0.09631192684173584, \n",
            "Epoch: 1700, Loss: 0.39649665355682373, \n",
            "Epoch: 1750, Loss: 0.13474297523498535, \n",
            "Epoch: 1800, Loss: 0.36920738220214844, \n",
            "Epoch: 1850, Loss: 0.20328474044799805, \n",
            "Epoch: 1900, Loss: 0.19363850355148315, \n",
            "Epoch: 1950, Loss: 0.04173731803894043, \n",
            "Epoch: 2000, Loss: 0.0025870203971862793, \n"
          ],
          "name": "stdout"
        }
      ]
    },
    {
      "cell_type": "code",
      "metadata": {
        "id": "QV0dIdveyCRi"
      },
      "source": [
        ""
      ],
      "execution_count": 11,
      "outputs": []
    }
  ]
}