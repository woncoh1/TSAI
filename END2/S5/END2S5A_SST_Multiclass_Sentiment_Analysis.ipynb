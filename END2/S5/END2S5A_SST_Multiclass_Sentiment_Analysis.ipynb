{
  "nbformat": 4,
  "nbformat_minor": 0,
  "metadata": {
    "colab": {
      "name": "END2S5A-SST-Multiclass_Sentiment_Analysis-Final.ipynb",
      "provenance": [],
      "collapsed_sections": [],
      "machine_shape": "hm",
      "include_colab_link": true
    },
    "kernelspec": {
      "name": "python3",
      "display_name": "Python 3"
    },
    "accelerator": "GPU",
    "widgets": {
      "application/vnd.jupyter.widget-state+json": {
        "9c2fca224ce04db9932bc92783b19b86": {
          "model_module": "@jupyter-widgets/controls",
          "model_name": "HBoxModel",
          "state": {
            "_view_name": "HBoxView",
            "_dom_classes": [],
            "_model_name": "HBoxModel",
            "_view_module": "@jupyter-widgets/controls",
            "_model_module_version": "1.5.0",
            "_view_count": null,
            "_view_module_version": "1.5.0",
            "box_style": "",
            "layout": "IPY_MODEL_17b210b65f40486dbd56390ab50f50da",
            "_model_module": "@jupyter-widgets/controls",
            "children": [
              "IPY_MODEL_528d9574a9ec45f1accdaadba47b61c0",
              "IPY_MODEL_de693540bcb14fa1a509ba6763b9c310"
            ]
          }
        },
        "17b210b65f40486dbd56390ab50f50da": {
          "model_module": "@jupyter-widgets/base",
          "model_name": "LayoutModel",
          "state": {
            "_view_name": "LayoutView",
            "grid_template_rows": null,
            "right": null,
            "justify_content": null,
            "_view_module": "@jupyter-widgets/base",
            "overflow": null,
            "_model_module_version": "1.2.0",
            "_view_count": null,
            "flex_flow": null,
            "width": null,
            "min_width": null,
            "border": null,
            "align_items": null,
            "bottom": null,
            "_model_module": "@jupyter-widgets/base",
            "top": null,
            "grid_column": null,
            "overflow_y": null,
            "overflow_x": null,
            "grid_auto_flow": null,
            "grid_area": null,
            "grid_template_columns": null,
            "flex": null,
            "_model_name": "LayoutModel",
            "justify_items": null,
            "grid_row": null,
            "max_height": null,
            "align_content": null,
            "visibility": null,
            "align_self": null,
            "height": null,
            "min_height": null,
            "padding": null,
            "grid_auto_rows": null,
            "grid_gap": null,
            "max_width": null,
            "order": null,
            "_view_module_version": "1.2.0",
            "grid_template_areas": null,
            "object_position": null,
            "object_fit": null,
            "grid_auto_columns": null,
            "margin": null,
            "display": null,
            "left": null
          }
        },
        "528d9574a9ec45f1accdaadba47b61c0": {
          "model_module": "@jupyter-widgets/controls",
          "model_name": "FloatProgressModel",
          "state": {
            "_view_name": "ProgressView",
            "style": "IPY_MODEL_34fbe4aa53a54abda7f3fbecba67e76d",
            "_dom_classes": [],
            "description": "100%",
            "_model_name": "FloatProgressModel",
            "bar_style": "success",
            "max": 11286,
            "_view_module": "@jupyter-widgets/controls",
            "_model_module_version": "1.5.0",
            "value": 11286,
            "_view_count": null,
            "_view_module_version": "1.5.0",
            "orientation": "horizontal",
            "min": 0,
            "description_tooltip": null,
            "_model_module": "@jupyter-widgets/controls",
            "layout": "IPY_MODEL_5a217556966644c5b241e7d8552bd1b4"
          }
        },
        "de693540bcb14fa1a509ba6763b9c310": {
          "model_module": "@jupyter-widgets/controls",
          "model_name": "HTMLModel",
          "state": {
            "_view_name": "HTMLView",
            "style": "IPY_MODEL_f4f4f8bf300f4fe6bb02a7b184623e5e",
            "_dom_classes": [],
            "description": "",
            "_model_name": "HTMLModel",
            "placeholder": "​",
            "_view_module": "@jupyter-widgets/controls",
            "_model_module_version": "1.5.0",
            "value": " 11286/11286 [02:04&lt;00:00, 90.78it/s]",
            "_view_count": null,
            "_view_module_version": "1.5.0",
            "description_tooltip": null,
            "_model_module": "@jupyter-widgets/controls",
            "layout": "IPY_MODEL_b52f69bedbba45459bcb7e95909c5ab4"
          }
        },
        "34fbe4aa53a54abda7f3fbecba67e76d": {
          "model_module": "@jupyter-widgets/controls",
          "model_name": "ProgressStyleModel",
          "state": {
            "_view_name": "StyleView",
            "_model_name": "ProgressStyleModel",
            "description_width": "initial",
            "_view_module": "@jupyter-widgets/base",
            "_model_module_version": "1.5.0",
            "_view_count": null,
            "_view_module_version": "1.2.0",
            "bar_color": null,
            "_model_module": "@jupyter-widgets/controls"
          }
        },
        "5a217556966644c5b241e7d8552bd1b4": {
          "model_module": "@jupyter-widgets/base",
          "model_name": "LayoutModel",
          "state": {
            "_view_name": "LayoutView",
            "grid_template_rows": null,
            "right": null,
            "justify_content": null,
            "_view_module": "@jupyter-widgets/base",
            "overflow": null,
            "_model_module_version": "1.2.0",
            "_view_count": null,
            "flex_flow": null,
            "width": null,
            "min_width": null,
            "border": null,
            "align_items": null,
            "bottom": null,
            "_model_module": "@jupyter-widgets/base",
            "top": null,
            "grid_column": null,
            "overflow_y": null,
            "overflow_x": null,
            "grid_auto_flow": null,
            "grid_area": null,
            "grid_template_columns": null,
            "flex": null,
            "_model_name": "LayoutModel",
            "justify_items": null,
            "grid_row": null,
            "max_height": null,
            "align_content": null,
            "visibility": null,
            "align_self": null,
            "height": null,
            "min_height": null,
            "padding": null,
            "grid_auto_rows": null,
            "grid_gap": null,
            "max_width": null,
            "order": null,
            "_view_module_version": "1.2.0",
            "grid_template_areas": null,
            "object_position": null,
            "object_fit": null,
            "grid_auto_columns": null,
            "margin": null,
            "display": null,
            "left": null
          }
        },
        "f4f4f8bf300f4fe6bb02a7b184623e5e": {
          "model_module": "@jupyter-widgets/controls",
          "model_name": "DescriptionStyleModel",
          "state": {
            "_view_name": "StyleView",
            "_model_name": "DescriptionStyleModel",
            "description_width": "",
            "_view_module": "@jupyter-widgets/base",
            "_model_module_version": "1.5.0",
            "_view_count": null,
            "_view_module_version": "1.2.0",
            "_model_module": "@jupyter-widgets/controls"
          }
        },
        "b52f69bedbba45459bcb7e95909c5ab4": {
          "model_module": "@jupyter-widgets/base",
          "model_name": "LayoutModel",
          "state": {
            "_view_name": "LayoutView",
            "grid_template_rows": null,
            "right": null,
            "justify_content": null,
            "_view_module": "@jupyter-widgets/base",
            "overflow": null,
            "_model_module_version": "1.2.0",
            "_view_count": null,
            "flex_flow": null,
            "width": null,
            "min_width": null,
            "border": null,
            "align_items": null,
            "bottom": null,
            "_model_module": "@jupyter-widgets/base",
            "top": null,
            "grid_column": null,
            "overflow_y": null,
            "overflow_x": null,
            "grid_auto_flow": null,
            "grid_area": null,
            "grid_template_columns": null,
            "flex": null,
            "_model_name": "LayoutModel",
            "justify_items": null,
            "grid_row": null,
            "max_height": null,
            "align_content": null,
            "visibility": null,
            "align_self": null,
            "height": null,
            "min_height": null,
            "padding": null,
            "grid_auto_rows": null,
            "grid_gap": null,
            "max_width": null,
            "order": null,
            "_view_module_version": "1.2.0",
            "grid_template_areas": null,
            "object_position": null,
            "object_fit": null,
            "grid_auto_columns": null,
            "margin": null,
            "display": null,
            "left": null
          }
        },
        "5d34c7f0c658449daf992e6da5aa4475": {
          "model_module": "@jupyter-widgets/controls",
          "model_name": "HBoxModel",
          "state": {
            "_view_name": "HBoxView",
            "_dom_classes": [],
            "_model_name": "HBoxModel",
            "_view_module": "@jupyter-widgets/controls",
            "_model_module_version": "1.5.0",
            "_view_count": null,
            "_view_module_version": "1.5.0",
            "box_style": "",
            "layout": "IPY_MODEL_aa1aef992b1947b0a3f2b0d969efbb3c",
            "_model_module": "@jupyter-widgets/controls",
            "children": [
              "IPY_MODEL_08bc40e54f91499a83554e2de7a62e88",
              "IPY_MODEL_8e3fa04a91bf4f769f7ec773e4818282"
            ]
          }
        },
        "aa1aef992b1947b0a3f2b0d969efbb3c": {
          "model_module": "@jupyter-widgets/base",
          "model_name": "LayoutModel",
          "state": {
            "_view_name": "LayoutView",
            "grid_template_rows": null,
            "right": null,
            "justify_content": null,
            "_view_module": "@jupyter-widgets/base",
            "overflow": null,
            "_model_module_version": "1.2.0",
            "_view_count": null,
            "flex_flow": null,
            "width": null,
            "min_width": null,
            "border": null,
            "align_items": null,
            "bottom": null,
            "_model_module": "@jupyter-widgets/base",
            "top": null,
            "grid_column": null,
            "overflow_y": null,
            "overflow_x": null,
            "grid_auto_flow": null,
            "grid_area": null,
            "grid_template_columns": null,
            "flex": null,
            "_model_name": "LayoutModel",
            "justify_items": null,
            "grid_row": null,
            "max_height": null,
            "align_content": null,
            "visibility": null,
            "align_self": null,
            "height": null,
            "min_height": null,
            "padding": null,
            "grid_auto_rows": null,
            "grid_gap": null,
            "max_width": null,
            "order": null,
            "_view_module_version": "1.2.0",
            "grid_template_areas": null,
            "object_position": null,
            "object_fit": null,
            "grid_auto_columns": null,
            "margin": null,
            "display": null,
            "left": null
          }
        },
        "08bc40e54f91499a83554e2de7a62e88": {
          "model_module": "@jupyter-widgets/controls",
          "model_name": "FloatProgressModel",
          "state": {
            "_view_name": "ProgressView",
            "style": "IPY_MODEL_cdbac179369c40658a837b9340412f1b",
            "_dom_classes": [],
            "description": "100%",
            "_model_name": "FloatProgressModel",
            "bar_style": "success",
            "max": 34972,
            "_view_module": "@jupyter-widgets/controls",
            "_model_module_version": "1.5.0",
            "value": 34972,
            "_view_count": null,
            "_view_module_version": "1.5.0",
            "orientation": "horizontal",
            "min": 0,
            "description_tooltip": null,
            "_model_module": "@jupyter-widgets/controls",
            "layout": "IPY_MODEL_32f172900d51433694e4b2c97f202ede"
          }
        },
        "8e3fa04a91bf4f769f7ec773e4818282": {
          "model_module": "@jupyter-widgets/controls",
          "model_name": "HTMLModel",
          "state": {
            "_view_name": "HTMLView",
            "style": "IPY_MODEL_55172c6544e64f7cab4a3d08e09afb12",
            "_dom_classes": [],
            "description": "",
            "_model_name": "HTMLModel",
            "placeholder": "​",
            "_view_module": "@jupyter-widgets/controls",
            "_model_module_version": "1.5.0",
            "value": " 34972/34972 [02:18&lt;00:00, 252.72it/s]",
            "_view_count": null,
            "_view_module_version": "1.5.0",
            "description_tooltip": null,
            "_model_module": "@jupyter-widgets/controls",
            "layout": "IPY_MODEL_2c58d52c4cd84e359875f88e9faef898"
          }
        },
        "cdbac179369c40658a837b9340412f1b": {
          "model_module": "@jupyter-widgets/controls",
          "model_name": "ProgressStyleModel",
          "state": {
            "_view_name": "StyleView",
            "_model_name": "ProgressStyleModel",
            "description_width": "initial",
            "_view_module": "@jupyter-widgets/base",
            "_model_module_version": "1.5.0",
            "_view_count": null,
            "_view_module_version": "1.2.0",
            "bar_color": null,
            "_model_module": "@jupyter-widgets/controls"
          }
        },
        "32f172900d51433694e4b2c97f202ede": {
          "model_module": "@jupyter-widgets/base",
          "model_name": "LayoutModel",
          "state": {
            "_view_name": "LayoutView",
            "grid_template_rows": null,
            "right": null,
            "justify_content": null,
            "_view_module": "@jupyter-widgets/base",
            "overflow": null,
            "_model_module_version": "1.2.0",
            "_view_count": null,
            "flex_flow": null,
            "width": null,
            "min_width": null,
            "border": null,
            "align_items": null,
            "bottom": null,
            "_model_module": "@jupyter-widgets/base",
            "top": null,
            "grid_column": null,
            "overflow_y": null,
            "overflow_x": null,
            "grid_auto_flow": null,
            "grid_area": null,
            "grid_template_columns": null,
            "flex": null,
            "_model_name": "LayoutModel",
            "justify_items": null,
            "grid_row": null,
            "max_height": null,
            "align_content": null,
            "visibility": null,
            "align_self": null,
            "height": null,
            "min_height": null,
            "padding": null,
            "grid_auto_rows": null,
            "grid_gap": null,
            "max_width": null,
            "order": null,
            "_view_module_version": "1.2.0",
            "grid_template_areas": null,
            "object_position": null,
            "object_fit": null,
            "grid_auto_columns": null,
            "margin": null,
            "display": null,
            "left": null
          }
        },
        "55172c6544e64f7cab4a3d08e09afb12": {
          "model_module": "@jupyter-widgets/controls",
          "model_name": "DescriptionStyleModel",
          "state": {
            "_view_name": "StyleView",
            "_model_name": "DescriptionStyleModel",
            "description_width": "",
            "_view_module": "@jupyter-widgets/base",
            "_model_module_version": "1.5.0",
            "_view_count": null,
            "_view_module_version": "1.2.0",
            "_model_module": "@jupyter-widgets/controls"
          }
        },
        "2c58d52c4cd84e359875f88e9faef898": {
          "model_module": "@jupyter-widgets/base",
          "model_name": "LayoutModel",
          "state": {
            "_view_name": "LayoutView",
            "grid_template_rows": null,
            "right": null,
            "justify_content": null,
            "_view_module": "@jupyter-widgets/base",
            "overflow": null,
            "_model_module_version": "1.2.0",
            "_view_count": null,
            "flex_flow": null,
            "width": null,
            "min_width": null,
            "border": null,
            "align_items": null,
            "bottom": null,
            "_model_module": "@jupyter-widgets/base",
            "top": null,
            "grid_column": null,
            "overflow_y": null,
            "overflow_x": null,
            "grid_auto_flow": null,
            "grid_area": null,
            "grid_template_columns": null,
            "flex": null,
            "_model_name": "LayoutModel",
            "justify_items": null,
            "grid_row": null,
            "max_height": null,
            "align_content": null,
            "visibility": null,
            "align_self": null,
            "height": null,
            "min_height": null,
            "padding": null,
            "grid_auto_rows": null,
            "grid_gap": null,
            "max_width": null,
            "order": null,
            "_view_module_version": "1.2.0",
            "grid_template_areas": null,
            "object_position": null,
            "object_fit": null,
            "grid_auto_columns": null,
            "margin": null,
            "display": null,
            "left": null
          }
        }
      }
    }
  },
  "cells": [
    {
      "cell_type": "markdown",
      "metadata": {
        "id": "view-in-github",
        "colab_type": "text"
      },
      "source": [
        "<a href=\"https://colab.research.google.com/github/woncoh1/TSAI/blob/main/END2/S5/END2S5A_SST_Multiclass_Sentiment_Analysis.ipynb\" target=\"_parent\"><img src=\"https://colab.research.google.com/assets/colab-badge.svg\" alt=\"Open In Colab\"/></a>"
      ]
    },
    {
      "cell_type": "markdown",
      "metadata": {
        "id": "vaQwyQjaPGbg"
      },
      "source": [
        "# Instructions\n",
        "\n",
        "- Look at [this code](https://colab.research.google.com/drive/19wZi7P0Tzq9ZxeMz5EDmzfWFBLFWe6kN?usp=sharing&pli=1&authuser=0) above. It has additional details on \"Back Translate\", i.e. using Google translate to convert the sentences. It has \"random_swap\" function, as well as \"random_delete\". \n",
        "\n",
        "- Use \"Back Translate\", \"random_swap\" and \"random_delete\" to augment the data you are training on\n",
        "\n",
        "- Download the StanfordSentimentAnalysis Dataset from [this link](http://nlp.stanford.edu/~socherr/stanfordSentimentTreebank.zip)(it might be troubling to download it, so force download on chrome). Use \"**datasetSentences.txt**\" and \"**sentiment_labels.txt**\" files from the zip you just downloaded as your dataset. This dataset contains just over 10,000 pieces of Stanford data from HTML files of Rotten Tomatoes. The sentiments are rated between 1 and 25, where one is the most negative and 25 is the most positive.\n",
        "\n",
        "- Train your model and achieve **60%+ validation/test accuracy**. Upload your collab file on GitHub with readme that contains details about your assignment/word (minimum **250 words**), **training logs showing final validation accuracy, and outcomes for 10 example inputs from the test/validation data**.\n",
        "\n",
        "- **You must submit before DUE date (and not \"until\" date)**."
      ]
    },
    {
      "cell_type": "markdown",
      "metadata": {
        "id": "epgk73rrsBP8"
      },
      "source": [
        "# 0. Setup"
      ]
    },
    {
      "cell_type": "code",
      "metadata": {
        "colab": {
          "base_uri": "https://localhost:8080/"
        },
        "id": "Eld0zSMBhNeg",
        "outputId": "43249bba-762e-49a6-cdcd-1259df6d0c90"
      },
      "source": [
        "!python --version"
      ],
      "execution_count": 1,
      "outputs": [
        {
          "output_type": "stream",
          "text": [
            "Python 3.7.10\n"
          ],
          "name": "stdout"
        }
      ]
    },
    {
      "cell_type": "markdown",
      "metadata": {
        "id": "YjsRj5NAhTTD"
      },
      "source": [
        "## 0-1 Install Packages"
      ]
    },
    {
      "cell_type": "code",
      "metadata": {
        "colab": {
          "base_uri": "https://localhost:8080/"
        },
        "id": "j6WkUJXXt_aW",
        "outputId": "1ac55e65-5375-4cc6-e187-aba6cad84aa6"
      },
      "source": [
        "!pip install google_trans_new"
      ],
      "execution_count": 2,
      "outputs": [
        {
          "output_type": "stream",
          "text": [
            "Collecting google_trans_new\n",
            "  Downloading https://files.pythonhosted.org/packages/f9/7b/9f136106dc5824dc98185c97991d3cd9b53e70a197154dd49f7b899128f6/google_trans_new-1.1.9-py3-none-any.whl\n",
            "Installing collected packages: google-trans-new\n",
            "Successfully installed google-trans-new-1.1.9\n"
          ],
          "name": "stdout"
        }
      ]
    },
    {
      "cell_type": "markdown",
      "metadata": {
        "id": "MdcFcyJbUFQf"
      },
      "source": [
        "## 0-2 Import Modules"
      ]
    },
    {
      "cell_type": "code",
      "metadata": {
        "id": "IPmP8ly1aHS-"
      },
      "source": [
        "import random\n",
        "\n",
        "import pandas as pd\n",
        "import seaborn as sns\n",
        "\n",
        "import torch\n",
        "from torchtext.legacy import data\n",
        "\n",
        "from typing import Generator, NamedTuple\n",
        "import functools\n",
        "\n",
        "from joblib import Parallel, delayed \n",
        "\n",
        "# 2. Augment Dataset\n",
        "import google_trans_new\n",
        "from google_trans_new import google_translator\n",
        "\n",
        "from toolz.functoolz import pipe\n",
        "from tqdm.notebook import tqdm\n",
        "import pickle\n",
        "\n",
        "# 4-1 Define Model\n",
        "import torch.nn as nn\n",
        "import torch.nn.functional as F\n",
        "\n",
        "# 5-1 Instantiate Optimizer\n",
        "import torch.optim as optim\n",
        "\n",
        "# 6-3 Test with User Input\n",
        "import spacy"
      ],
      "execution_count": 3,
      "outputs": []
    },
    {
      "cell_type": "markdown",
      "metadata": {
        "id": "fxD84DJGNozx"
      },
      "source": [
        "## 0-3 Define Hyperparameters"
      ]
    },
    {
      "cell_type": "code",
      "metadata": {
        "id": "rNHrG-zhNoSL"
      },
      "source": [
        "# 3-3 Split Datasets\n",
        "SPLIT_RATIO = [0.6, 0.2, 0.2]\n",
        "\n",
        "# 3-5 Create Batches\n",
        "BATCH_SIZE = 64\n",
        "\n",
        "# 2. Augment Data\n",
        "BACK_TRANSLATION_PROBABILITY = 0.1\n",
        "DELETION_PROBABILITY = 0.1\n",
        "SWAP_COUNT = 1\n",
        "\n",
        "# 3-4 Build Vocabulary\n",
        "MAX_VOCAB_SIZE = 15_000\n",
        "TOKENIZER = 'spacy'\n",
        "TOKENIZER_LANGUAGE = 'en_core_web_sm'\n",
        "\n",
        "# 2-2 Instantiate Model\n",
        "EMBEDDING_DIM = 100\n",
        "NUM_HIDDEN_NODES = 200\n",
        "NUM_OUTPUT_NODES = 5\n",
        "NUM_LAYERS = 2\n",
        "BIDIRECTIONAL = True\n",
        "DROPOUT = 0.4\n",
        "\n",
        "# 3-5 Train Epochs\n",
        "EPOCHS = 20"
      ],
      "execution_count": 4,
      "outputs": []
    },
    {
      "cell_type": "markdown",
      "metadata": {
        "id": "XH8wp-_yfBHi"
      },
      "source": [
        "## 0-4 Ensure Reproducibility"
      ]
    },
    {
      "cell_type": "code",
      "metadata": {
        "id": "puoeYU6jfAX8"
      },
      "source": [
        "SEED = 43\n",
        "torch.manual_seed(SEED)\n",
        "torch.backends.cudnn.deterministic = True"
      ],
      "execution_count": 5,
      "outputs": []
    },
    {
      "cell_type": "markdown",
      "metadata": {
        "id": "hjz8YIQkeGdA"
      },
      "source": [
        "## 0-5 Set Device"
      ]
    },
    {
      "cell_type": "code",
      "metadata": {
        "id": "FHqJc536eIs5"
      },
      "source": [
        "device = torch.device(\"cuda\" if torch.cuda.is_available() else \"cpu\")"
      ],
      "execution_count": 6,
      "outputs": []
    },
    {
      "cell_type": "markdown",
      "metadata": {
        "id": "4AN_xr4zq364"
      },
      "source": [
        "## 0-6 Set Options"
      ]
    },
    {
      "cell_type": "code",
      "metadata": {
        "id": "X8mu6xAifOw_"
      },
      "source": [
        "# https://pandas.pydata.org/pandas-docs/stable/reference/api/pandas.set_option.html\n",
        "pd.set_option(\"min_rows\", 20)\n",
        "pd.set_option(\"max_colwidth\", 100)\n",
        "\n",
        "# https://pytorch.org/docs/stable/generated/torch.set_printoptions.html\n",
        "# torch.set_printoptions(threshold=20000000, linewidth=200)"
      ],
      "execution_count": 7,
      "outputs": []
    },
    {
      "cell_type": "markdown",
      "metadata": {
        "id": "5aCHDjTusEbG"
      },
      "source": [
        "# 1. Explore Data"
      ]
    },
    {
      "cell_type": "markdown",
      "metadata": {
        "id": "UvEKkaJ3sM5w"
      },
      "source": [
        "## 1-1 Download Data"
      ]
    },
    {
      "cell_type": "code",
      "metadata": {
        "colab": {
          "base_uri": "https://localhost:8080/"
        },
        "id": "lTKJZH8CZVR6",
        "outputId": "f3aa9d45-7147-46ed-cf7f-c222abdc1841"
      },
      "source": [
        "!wget -O stanford_sentiment_treebank.zip https://drive.google.com/u/0/uc?id=1rQc_TQvAnGQ8zyQ8IIaTjsZbIcveDac0&export=download\n",
        "#!wget -O stanford_sentiment_treebank.zip http://nlp.stanford.edu/~socherr/stanfordSentimentTreebank.zip"
      ],
      "execution_count": 8,
      "outputs": [
        {
          "output_type": "stream",
          "text": [
            "--2021-06-03 13:50:24--  https://drive.google.com/u/0/uc?id=1rQc_TQvAnGQ8zyQ8IIaTjsZbIcveDac0\n",
            "Resolving drive.google.com (drive.google.com)... 74.125.133.100, 74.125.133.139, 74.125.133.113, ...\n",
            "Connecting to drive.google.com (drive.google.com)|74.125.133.100|:443... connected.\n",
            "HTTP request sent, awaiting response... 302 Moved Temporarily\n",
            "Location: https://doc-0s-2o-docs.googleusercontent.com/docs/securesc/ha0ro937gcuc7l7deffksulhg5h7mbp1/1h8j1tb0l0nje51tkn4t36u7bpgl3get/1622728200000/15551131083655977576/*/1rQc_TQvAnGQ8zyQ8IIaTjsZbIcveDac0 [following]\n",
            "Warning: wildcards not supported in HTTP.\n",
            "--2021-06-03 13:50:32--  https://doc-0s-2o-docs.googleusercontent.com/docs/securesc/ha0ro937gcuc7l7deffksulhg5h7mbp1/1h8j1tb0l0nje51tkn4t36u7bpgl3get/1622728200000/15551131083655977576/*/1rQc_TQvAnGQ8zyQ8IIaTjsZbIcveDac0\n",
            "Resolving doc-0s-2o-docs.googleusercontent.com (doc-0s-2o-docs.googleusercontent.com)... 108.177.15.132, 2a00:1450:400c:c0c::84\n",
            "Connecting to doc-0s-2o-docs.googleusercontent.com (doc-0s-2o-docs.googleusercontent.com)|108.177.15.132|:443... connected.\n",
            "HTTP request sent, awaiting response... 200 OK\n",
            "Length: unspecified [application/zip]\n",
            "Saving to: ‘stanford_sentiment_treebank.zip’\n",
            "\n",
            "stanford_sentiment_     [ <=>                ]   6.08M  37.4MB/s    in 0.2s    \n",
            "\n",
            "2021-06-03 13:50:33 (37.4 MB/s) - ‘stanford_sentiment_treebank.zip’ saved [6372817]\n",
            "\n"
          ],
          "name": "stdout"
        }
      ]
    },
    {
      "cell_type": "code",
      "metadata": {
        "colab": {
          "base_uri": "https://localhost:8080/"
        },
        "id": "bL-_XVTPDY5m",
        "outputId": "a8659158-8427-4e0f-d668-21ab31c20210"
      },
      "source": [
        "!unzip stanford_sentiment_treebank.zip"
      ],
      "execution_count": 9,
      "outputs": [
        {
          "output_type": "stream",
          "text": [
            "Archive:  stanford_sentiment_treebank.zip\n",
            "   creating: stanfordSentimentTreebank/\n",
            "  inflating: stanfordSentimentTreebank/datasetSentences.txt  \n",
            "   creating: __MACOSX/\n",
            "   creating: __MACOSX/stanfordSentimentTreebank/\n",
            "  inflating: __MACOSX/stanfordSentimentTreebank/._datasetSentences.txt  \n",
            "  inflating: stanfordSentimentTreebank/datasetSplit.txt  \n",
            "  inflating: __MACOSX/stanfordSentimentTreebank/._datasetSplit.txt  \n",
            "  inflating: stanfordSentimentTreebank/dictionary.txt  \n",
            "  inflating: __MACOSX/stanfordSentimentTreebank/._dictionary.txt  \n",
            "  inflating: stanfordSentimentTreebank/original_rt_snippets.txt  \n",
            "  inflating: __MACOSX/stanfordSentimentTreebank/._original_rt_snippets.txt  \n",
            "  inflating: stanfordSentimentTreebank/README.txt  \n",
            "  inflating: __MACOSX/stanfordSentimentTreebank/._README.txt  \n",
            "  inflating: stanfordSentimentTreebank/sentiment_labels.txt  \n",
            "  inflating: __MACOSX/stanfordSentimentTreebank/._sentiment_labels.txt  \n",
            "  inflating: stanfordSentimentTreebank/SOStr.txt  \n",
            "  inflating: stanfordSentimentTreebank/STree.txt  \n"
          ],
          "name": "stdout"
        }
      ]
    },
    {
      "cell_type": "markdown",
      "metadata": {
        "id": "tp5IzBGsPGHs"
      },
      "source": [
        "## 1-2 Inspect README\n",
        "\n",
        "After inspecting the README file for our dataset, we notice the following caveats:\n",
        "\n",
        "1. `sentiment_labels.txt` contains sentiment values for **phrases**, not **sentences**.\n",
        "\n",
        "    - But **phrases** contain **full sentences** as well as **non-sentence phrases**!\n",
        "    - This is because the Stanford Sentiment Treebank dataset is a tree with leaves as word tokens and internal nodes as sentiments of the phrases, which are represented by sub-trees with each internal node as the root node.\n",
        "\n",
        "2. `datasetSentences.txt` contains only full sentences **without** any sentiment values.\n",
        "    - We need to recover the sentiment values and sentiment classes for each sentence.\n",
        "\n",
        "3. `datasetSplit.txt` contains set labels 1 (train) and 2 (test) only without any 3s (dev/valid). \n",
        "    - We need to manually split the dataset for a validation set."
      ]
    },
    {
      "cell_type": "markdown",
      "metadata": {
        "id": "MOR5_gKRsQfJ"
      },
      "source": [
        "## 1-3 Load Data"
      ]
    },
    {
      "cell_type": "code",
      "metadata": {
        "id": "ps3u2QB0sksa"
      },
      "source": [
        "dataset_sentences = pd.read_csv('stanfordSentimentTreebank/datasetSentences.txt', \n",
        "                                sep='\\t')\n",
        "sentiment_labels = pd.read_csv('stanfordSentimentTreebank/sentiment_labels.txt', \n",
        "                               sep='|',\n",
        "                               names=['phrase_id', 'sentiment_value'],\n",
        "                               header=0)                \n",
        "phrase_dictionary = pd.read_csv('stanfordSentimentTreebank/dictionary.txt', \n",
        "                              sep='|', \n",
        "                              names=['phrase_text', 'phrase_id'])"
      ],
      "execution_count": 10,
      "outputs": []
    },
    {
      "cell_type": "markdown",
      "metadata": {
        "id": "zkEjerT4sqEI"
      },
      "source": [
        "## 1-4 Inspect Data"
      ]
    },
    {
      "cell_type": "code",
      "metadata": {
        "colab": {
          "base_uri": "https://localhost:8080/",
          "height": 698
        },
        "id": "TbP3xOtBWN8Y",
        "outputId": "8cd9c34d-6da8-4899-ca6c-0e2bcdec25e2"
      },
      "source": [
        "dataset_sentences"
      ],
      "execution_count": 11,
      "outputs": [
        {
          "output_type": "execute_result",
          "data": {
            "text/html": [
              "<div>\n",
              "<style scoped>\n",
              "    .dataframe tbody tr th:only-of-type {\n",
              "        vertical-align: middle;\n",
              "    }\n",
              "\n",
              "    .dataframe tbody tr th {\n",
              "        vertical-align: top;\n",
              "    }\n",
              "\n",
              "    .dataframe thead th {\n",
              "        text-align: right;\n",
              "    }\n",
              "</style>\n",
              "<table border=\"1\" class=\"dataframe\">\n",
              "  <thead>\n",
              "    <tr style=\"text-align: right;\">\n",
              "      <th></th>\n",
              "      <th>sentence_index</th>\n",
              "      <th>sentence</th>\n",
              "    </tr>\n",
              "  </thead>\n",
              "  <tbody>\n",
              "    <tr>\n",
              "      <th>0</th>\n",
              "      <td>1</td>\n",
              "      <td>The Rock is destined to be the 21st Century 's new `` Conan '' and that he 's going to make a sp...</td>\n",
              "    </tr>\n",
              "    <tr>\n",
              "      <th>1</th>\n",
              "      <td>2</td>\n",
              "      <td>The gorgeously elaborate continuation of `` The Lord of the Rings '' trilogy is so huge that a c...</td>\n",
              "    </tr>\n",
              "    <tr>\n",
              "      <th>2</th>\n",
              "      <td>3</td>\n",
              "      <td>Effective but too-tepid biopic</td>\n",
              "    </tr>\n",
              "    <tr>\n",
              "      <th>3</th>\n",
              "      <td>4</td>\n",
              "      <td>If you sometimes like to go to the movies to have fun , Wasabi is a good place to start .</td>\n",
              "    </tr>\n",
              "    <tr>\n",
              "      <th>4</th>\n",
              "      <td>5</td>\n",
              "      <td>Emerges as something rare , an issue movie that 's so honest and keenly observed that it does n'...</td>\n",
              "    </tr>\n",
              "    <tr>\n",
              "      <th>5</th>\n",
              "      <td>6</td>\n",
              "      <td>The film provides some great insight into the neurotic mindset of all comics -- even those who h...</td>\n",
              "    </tr>\n",
              "    <tr>\n",
              "      <th>6</th>\n",
              "      <td>7</td>\n",
              "      <td>Offers that rare combination of entertainment and education .</td>\n",
              "    </tr>\n",
              "    <tr>\n",
              "      <th>7</th>\n",
              "      <td>8</td>\n",
              "      <td>Perhaps no picture ever made has more literally showed that the road to hell is paved with good ...</td>\n",
              "    </tr>\n",
              "    <tr>\n",
              "      <th>8</th>\n",
              "      <td>9</td>\n",
              "      <td>Steers turns in a snappy screenplay that curls at the edges ; it 's so clever you want to hate it .</td>\n",
              "    </tr>\n",
              "    <tr>\n",
              "      <th>9</th>\n",
              "      <td>10</td>\n",
              "      <td>But he somehow pulls it off .</td>\n",
              "    </tr>\n",
              "    <tr>\n",
              "      <th>...</th>\n",
              "      <td>...</td>\n",
              "      <td>...</td>\n",
              "    </tr>\n",
              "    <tr>\n",
              "      <th>11845</th>\n",
              "      <td>11846</td>\n",
              "      <td>Rashomon-for-dipsticks tale .</td>\n",
              "    </tr>\n",
              "    <tr>\n",
              "      <th>11846</th>\n",
              "      <td>11847</td>\n",
              "      <td>Bearable .</td>\n",
              "    </tr>\n",
              "    <tr>\n",
              "      <th>11847</th>\n",
              "      <td>11848</td>\n",
              "      <td>Barely .</td>\n",
              "    </tr>\n",
              "    <tr>\n",
              "      <th>11848</th>\n",
              "      <td>11849</td>\n",
              "      <td>Staggeringly dreadful romance .</td>\n",
              "    </tr>\n",
              "    <tr>\n",
              "      <th>11849</th>\n",
              "      <td>11850</td>\n",
              "      <td>Well-made but mush-hearted .</td>\n",
              "    </tr>\n",
              "    <tr>\n",
              "      <th>11850</th>\n",
              "      <td>11851</td>\n",
              "      <td>A real snooze .</td>\n",
              "    </tr>\n",
              "    <tr>\n",
              "      <th>11851</th>\n",
              "      <td>11852</td>\n",
              "      <td>No surprises .</td>\n",
              "    </tr>\n",
              "    <tr>\n",
              "      <th>11852</th>\n",
              "      <td>11853</td>\n",
              "      <td>We 've seen the hippie-turned-yuppie plot before , but there 's an enthusiastic charm in Fire th...</td>\n",
              "    </tr>\n",
              "    <tr>\n",
              "      <th>11853</th>\n",
              "      <td>11854</td>\n",
              "      <td>Her fans walked out muttering words like `` horrible '' and `` terrible , '' but had so much fun...</td>\n",
              "    </tr>\n",
              "    <tr>\n",
              "      <th>11854</th>\n",
              "      <td>11855</td>\n",
              "      <td>In this case zero .</td>\n",
              "    </tr>\n",
              "  </tbody>\n",
              "</table>\n",
              "<p>11855 rows × 2 columns</p>\n",
              "</div>"
            ],
            "text/plain": [
              "       sentence_index                                                                                             sentence\n",
              "0                   1  The Rock is destined to be the 21st Century 's new `` Conan '' and that he 's going to make a sp...\n",
              "1                   2  The gorgeously elaborate continuation of `` The Lord of the Rings '' trilogy is so huge that a c...\n",
              "2                   3                                                                       Effective but too-tepid biopic\n",
              "3                   4            If you sometimes like to go to the movies to have fun , Wasabi is a good place to start .\n",
              "4                   5  Emerges as something rare , an issue movie that 's so honest and keenly observed that it does n'...\n",
              "5                   6  The film provides some great insight into the neurotic mindset of all comics -- even those who h...\n",
              "6                   7                                        Offers that rare combination of entertainment and education .\n",
              "7                   8  Perhaps no picture ever made has more literally showed that the road to hell is paved with good ...\n",
              "8                   9  Steers turns in a snappy screenplay that curls at the edges ; it 's so clever you want to hate it .\n",
              "9                  10                                                                        But he somehow pulls it off .\n",
              "...               ...                                                                                                  ...\n",
              "11845           11846                                                                        Rashomon-for-dipsticks tale .\n",
              "11846           11847                                                                                           Bearable .\n",
              "11847           11848                                                                                             Barely .\n",
              "11848           11849                                                                      Staggeringly dreadful romance .\n",
              "11849           11850                                                                         Well-made but mush-hearted .\n",
              "11850           11851                                                                                      A real snooze .\n",
              "11851           11852                                                                                       No surprises .\n",
              "11852           11853  We 've seen the hippie-turned-yuppie plot before , but there 's an enthusiastic charm in Fire th...\n",
              "11853           11854  Her fans walked out muttering words like `` horrible '' and `` terrible , '' but had so much fun...\n",
              "11854           11855                                                                                  In this case zero .\n",
              "\n",
              "[11855 rows x 2 columns]"
            ]
          },
          "metadata": {
            "tags": []
          },
          "execution_count": 11
        }
      ]
    },
    {
      "cell_type": "code",
      "metadata": {
        "colab": {
          "base_uri": "https://localhost:8080/",
          "height": 698
        },
        "id": "HKBprrPlssSn",
        "outputId": "6b61274f-9af2-4483-c712-78976f82f52b"
      },
      "source": [
        "sentiment_labels"
      ],
      "execution_count": 12,
      "outputs": [
        {
          "output_type": "execute_result",
          "data": {
            "text/html": [
              "<div>\n",
              "<style scoped>\n",
              "    .dataframe tbody tr th:only-of-type {\n",
              "        vertical-align: middle;\n",
              "    }\n",
              "\n",
              "    .dataframe tbody tr th {\n",
              "        vertical-align: top;\n",
              "    }\n",
              "\n",
              "    .dataframe thead th {\n",
              "        text-align: right;\n",
              "    }\n",
              "</style>\n",
              "<table border=\"1\" class=\"dataframe\">\n",
              "  <thead>\n",
              "    <tr style=\"text-align: right;\">\n",
              "      <th></th>\n",
              "      <th>phrase_id</th>\n",
              "      <th>sentiment_value</th>\n",
              "    </tr>\n",
              "  </thead>\n",
              "  <tbody>\n",
              "    <tr>\n",
              "      <th>0</th>\n",
              "      <td>0</td>\n",
              "      <td>0.50000</td>\n",
              "    </tr>\n",
              "    <tr>\n",
              "      <th>1</th>\n",
              "      <td>1</td>\n",
              "      <td>0.50000</td>\n",
              "    </tr>\n",
              "    <tr>\n",
              "      <th>2</th>\n",
              "      <td>2</td>\n",
              "      <td>0.44444</td>\n",
              "    </tr>\n",
              "    <tr>\n",
              "      <th>3</th>\n",
              "      <td>3</td>\n",
              "      <td>0.50000</td>\n",
              "    </tr>\n",
              "    <tr>\n",
              "      <th>4</th>\n",
              "      <td>4</td>\n",
              "      <td>0.42708</td>\n",
              "    </tr>\n",
              "    <tr>\n",
              "      <th>5</th>\n",
              "      <td>5</td>\n",
              "      <td>0.37500</td>\n",
              "    </tr>\n",
              "    <tr>\n",
              "      <th>6</th>\n",
              "      <td>6</td>\n",
              "      <td>0.41667</td>\n",
              "    </tr>\n",
              "    <tr>\n",
              "      <th>7</th>\n",
              "      <td>7</td>\n",
              "      <td>0.54167</td>\n",
              "    </tr>\n",
              "    <tr>\n",
              "      <th>8</th>\n",
              "      <td>8</td>\n",
              "      <td>0.33333</td>\n",
              "    </tr>\n",
              "    <tr>\n",
              "      <th>9</th>\n",
              "      <td>9</td>\n",
              "      <td>0.45833</td>\n",
              "    </tr>\n",
              "    <tr>\n",
              "      <th>...</th>\n",
              "      <td>...</td>\n",
              "      <td>...</td>\n",
              "    </tr>\n",
              "    <tr>\n",
              "      <th>239222</th>\n",
              "      <td>239222</td>\n",
              "      <td>0.69444</td>\n",
              "    </tr>\n",
              "    <tr>\n",
              "      <th>239223</th>\n",
              "      <td>239223</td>\n",
              "      <td>0.50000</td>\n",
              "    </tr>\n",
              "    <tr>\n",
              "      <th>239224</th>\n",
              "      <td>239224</td>\n",
              "      <td>0.90278</td>\n",
              "    </tr>\n",
              "    <tr>\n",
              "      <th>239225</th>\n",
              "      <td>239225</td>\n",
              "      <td>0.50000</td>\n",
              "    </tr>\n",
              "    <tr>\n",
              "      <th>239226</th>\n",
              "      <td>239226</td>\n",
              "      <td>0.81944</td>\n",
              "    </tr>\n",
              "    <tr>\n",
              "      <th>239227</th>\n",
              "      <td>239227</td>\n",
              "      <td>0.36111</td>\n",
              "    </tr>\n",
              "    <tr>\n",
              "      <th>239228</th>\n",
              "      <td>239228</td>\n",
              "      <td>0.38889</td>\n",
              "    </tr>\n",
              "    <tr>\n",
              "      <th>239229</th>\n",
              "      <td>239229</td>\n",
              "      <td>0.33333</td>\n",
              "    </tr>\n",
              "    <tr>\n",
              "      <th>239230</th>\n",
              "      <td>239230</td>\n",
              "      <td>0.88889</td>\n",
              "    </tr>\n",
              "    <tr>\n",
              "      <th>239231</th>\n",
              "      <td>239231</td>\n",
              "      <td>0.50000</td>\n",
              "    </tr>\n",
              "  </tbody>\n",
              "</table>\n",
              "<p>239232 rows × 2 columns</p>\n",
              "</div>"
            ],
            "text/plain": [
              "        phrase_id  sentiment_value\n",
              "0               0          0.50000\n",
              "1               1          0.50000\n",
              "2               2          0.44444\n",
              "3               3          0.50000\n",
              "4               4          0.42708\n",
              "5               5          0.37500\n",
              "6               6          0.41667\n",
              "7               7          0.54167\n",
              "8               8          0.33333\n",
              "9               9          0.45833\n",
              "...           ...              ...\n",
              "239222     239222          0.69444\n",
              "239223     239223          0.50000\n",
              "239224     239224          0.90278\n",
              "239225     239225          0.50000\n",
              "239226     239226          0.81944\n",
              "239227     239227          0.36111\n",
              "239228     239228          0.38889\n",
              "239229     239229          0.33333\n",
              "239230     239230          0.88889\n",
              "239231     239231          0.50000\n",
              "\n",
              "[239232 rows x 2 columns]"
            ]
          },
          "metadata": {
            "tags": []
          },
          "execution_count": 12
        }
      ]
    },
    {
      "cell_type": "code",
      "metadata": {
        "colab": {
          "base_uri": "https://localhost:8080/",
          "height": 265
        },
        "id": "fnAQToRnstbq",
        "outputId": "6a11c9ca-f6a1-4118-e414-9a7083c41217"
      },
      "source": [
        "phrase_density = sentiment_labels.sentiment_value.plot.density()"
      ],
      "execution_count": 13,
      "outputs": [
        {
          "output_type": "display_data",
          "data": {
            "image/png": "[encoded data removed]",
            "text/plain": [
              "<Figure size 432x288 with 1 Axes>"
            ]
          },
          "metadata": {
            "tags": [],
            "needs_background": "light"
          }
        }
      ]
    },
    {
      "cell_type": "code",
      "metadata": {
        "colab": {
          "base_uri": "https://localhost:8080/",
          "height": 698
        },
        "id": "UtEhbklrt035",
        "outputId": "751fc540-9fbb-407a-e8df-6c0aed8158fd"
      },
      "source": [
        "phrase_dictionary"
      ],
      "execution_count": 14,
      "outputs": [
        {
          "output_type": "execute_result",
          "data": {
            "text/html": [
              "<div>\n",
              "<style scoped>\n",
              "    .dataframe tbody tr th:only-of-type {\n",
              "        vertical-align: middle;\n",
              "    }\n",
              "\n",
              "    .dataframe tbody tr th {\n",
              "        vertical-align: top;\n",
              "    }\n",
              "\n",
              "    .dataframe thead th {\n",
              "        text-align: right;\n",
              "    }\n",
              "</style>\n",
              "<table border=\"1\" class=\"dataframe\">\n",
              "  <thead>\n",
              "    <tr style=\"text-align: right;\">\n",
              "      <th></th>\n",
              "      <th>phrase_text</th>\n",
              "      <th>phrase_id</th>\n",
              "    </tr>\n",
              "  </thead>\n",
              "  <tbody>\n",
              "    <tr>\n",
              "      <th>0</th>\n",
              "      <td>!</td>\n",
              "      <td>0</td>\n",
              "    </tr>\n",
              "    <tr>\n",
              "      <th>1</th>\n",
              "      <td>! '</td>\n",
              "      <td>22935</td>\n",
              "    </tr>\n",
              "    <tr>\n",
              "      <th>2</th>\n",
              "      <td>! ''</td>\n",
              "      <td>18235</td>\n",
              "    </tr>\n",
              "    <tr>\n",
              "      <th>3</th>\n",
              "      <td>! Alas</td>\n",
              "      <td>179257</td>\n",
              "    </tr>\n",
              "    <tr>\n",
              "      <th>4</th>\n",
              "      <td>! Brilliant</td>\n",
              "      <td>22936</td>\n",
              "    </tr>\n",
              "    <tr>\n",
              "      <th>5</th>\n",
              "      <td>! Brilliant !</td>\n",
              "      <td>40532</td>\n",
              "    </tr>\n",
              "    <tr>\n",
              "      <th>6</th>\n",
              "      <td>! Brilliant ! '</td>\n",
              "      <td>22937</td>\n",
              "    </tr>\n",
              "    <tr>\n",
              "      <th>7</th>\n",
              "      <td>! C'mon</td>\n",
              "      <td>60624</td>\n",
              "    </tr>\n",
              "    <tr>\n",
              "      <th>8</th>\n",
              "      <td>! Gollum 's ` performance ' is incredible</td>\n",
              "      <td>13402</td>\n",
              "    </tr>\n",
              "    <tr>\n",
              "      <th>9</th>\n",
              "      <td>! Oh , look at that clever angle ! Wow , a jump cut !</td>\n",
              "      <td>179258</td>\n",
              "    </tr>\n",
              "    <tr>\n",
              "      <th>...</th>\n",
              "      <td>...</td>\n",
              "      <td>...</td>\n",
              "    </tr>\n",
              "    <tr>\n",
              "      <th>239222</th>\n",
              "      <td>zombie-land '</td>\n",
              "      <td>140881</td>\n",
              "    </tr>\n",
              "    <tr>\n",
              "      <th>239223</th>\n",
              "      <td>zombies</td>\n",
              "      <td>179255</td>\n",
              "    </tr>\n",
              "    <tr>\n",
              "      <th>239224</th>\n",
              "      <td>zone</td>\n",
              "      <td>13401</td>\n",
              "    </tr>\n",
              "    <tr>\n",
              "      <th>239225</th>\n",
              "      <td>zoning</td>\n",
              "      <td>220439</td>\n",
              "    </tr>\n",
              "    <tr>\n",
              "      <th>239226</th>\n",
              "      <td>zoning ordinances</td>\n",
              "      <td>220440</td>\n",
              "    </tr>\n",
              "    <tr>\n",
              "      <th>239227</th>\n",
              "      <td>zoning ordinances to protect your community from the dullest science fiction</td>\n",
              "      <td>220441</td>\n",
              "    </tr>\n",
              "    <tr>\n",
              "      <th>239228</th>\n",
              "      <td>zzzzzzzzz</td>\n",
              "      <td>179256</td>\n",
              "    </tr>\n",
              "    <tr>\n",
              "      <th>239229</th>\n",
              "      <td>élan</td>\n",
              "      <td>220442</td>\n",
              "    </tr>\n",
              "    <tr>\n",
              "      <th>239230</th>\n",
              "      <td>É</td>\n",
              "      <td>220443</td>\n",
              "    </tr>\n",
              "    <tr>\n",
              "      <th>239231</th>\n",
              "      <td>É um passatempo descompromissado</td>\n",
              "      <td>220444</td>\n",
              "    </tr>\n",
              "  </tbody>\n",
              "</table>\n",
              "<p>239232 rows × 2 columns</p>\n",
              "</div>"
            ],
            "text/plain": [
              "                                                                         phrase_text  phrase_id\n",
              "0                                                                                  !          0\n",
              "1                                                                                ! '      22935\n",
              "2                                                                               ! ''      18235\n",
              "3                                                                             ! Alas     179257\n",
              "4                                                                        ! Brilliant      22936\n",
              "5                                                                      ! Brilliant !      40532\n",
              "6                                                                    ! Brilliant ! '      22937\n",
              "7                                                                            ! C'mon      60624\n",
              "8                                          ! Gollum 's ` performance ' is incredible      13402\n",
              "9                              ! Oh , look at that clever angle ! Wow , a jump cut !     179258\n",
              "...                                                                              ...        ...\n",
              "239222                                                                 zombie-land '     140881\n",
              "239223                                                                       zombies     179255\n",
              "239224                                                                          zone      13401\n",
              "239225                                                                        zoning     220439\n",
              "239226                                                             zoning ordinances     220440\n",
              "239227  zoning ordinances to protect your community from the dullest science fiction     220441\n",
              "239228                                                                     zzzzzzzzz     179256\n",
              "239229                                                                          élan     220442\n",
              "239230                                                                             É     220443\n",
              "239231                                              É um passatempo descompromissado     220444\n",
              "\n",
              "[239232 rows x 2 columns]"
            ]
          },
          "metadata": {
            "tags": []
          },
          "execution_count": 14
        }
      ]
    },
    {
      "cell_type": "code",
      "metadata": {
        "id": "FJ4xU2wWZnbK"
      },
      "source": [
        "sentiment_labels = sentiment_labels.set_index('phrase_id')\n",
        "phrase_dictionary = phrase_dictionary.set_index('phrase_id')"
      ],
      "execution_count": 15,
      "outputs": []
    },
    {
      "cell_type": "code",
      "metadata": {
        "colab": {
          "base_uri": "https://localhost:8080/",
          "height": 727
        },
        "id": "uxqVKadPvs3h",
        "outputId": "b70b3d45-92e4-4705-a1e7-a9acaa420b36"
      },
      "source": [
        "sentiment_labels"
      ],
      "execution_count": 16,
      "outputs": [
        {
          "output_type": "execute_result",
          "data": {
            "text/html": [
              "<div>\n",
              "<style scoped>\n",
              "    .dataframe tbody tr th:only-of-type {\n",
              "        vertical-align: middle;\n",
              "    }\n",
              "\n",
              "    .dataframe tbody tr th {\n",
              "        vertical-align: top;\n",
              "    }\n",
              "\n",
              "    .dataframe thead th {\n",
              "        text-align: right;\n",
              "    }\n",
              "</style>\n",
              "<table border=\"1\" class=\"dataframe\">\n",
              "  <thead>\n",
              "    <tr style=\"text-align: right;\">\n",
              "      <th></th>\n",
              "      <th>sentiment_value</th>\n",
              "    </tr>\n",
              "    <tr>\n",
              "      <th>phrase_id</th>\n",
              "      <th></th>\n",
              "    </tr>\n",
              "  </thead>\n",
              "  <tbody>\n",
              "    <tr>\n",
              "      <th>0</th>\n",
              "      <td>0.50000</td>\n",
              "    </tr>\n",
              "    <tr>\n",
              "      <th>1</th>\n",
              "      <td>0.50000</td>\n",
              "    </tr>\n",
              "    <tr>\n",
              "      <th>2</th>\n",
              "      <td>0.44444</td>\n",
              "    </tr>\n",
              "    <tr>\n",
              "      <th>3</th>\n",
              "      <td>0.50000</td>\n",
              "    </tr>\n",
              "    <tr>\n",
              "      <th>4</th>\n",
              "      <td>0.42708</td>\n",
              "    </tr>\n",
              "    <tr>\n",
              "      <th>5</th>\n",
              "      <td>0.37500</td>\n",
              "    </tr>\n",
              "    <tr>\n",
              "      <th>6</th>\n",
              "      <td>0.41667</td>\n",
              "    </tr>\n",
              "    <tr>\n",
              "      <th>7</th>\n",
              "      <td>0.54167</td>\n",
              "    </tr>\n",
              "    <tr>\n",
              "      <th>8</th>\n",
              "      <td>0.33333</td>\n",
              "    </tr>\n",
              "    <tr>\n",
              "      <th>9</th>\n",
              "      <td>0.45833</td>\n",
              "    </tr>\n",
              "    <tr>\n",
              "      <th>...</th>\n",
              "      <td>...</td>\n",
              "    </tr>\n",
              "    <tr>\n",
              "      <th>239222</th>\n",
              "      <td>0.69444</td>\n",
              "    </tr>\n",
              "    <tr>\n",
              "      <th>239223</th>\n",
              "      <td>0.50000</td>\n",
              "    </tr>\n",
              "    <tr>\n",
              "      <th>239224</th>\n",
              "      <td>0.90278</td>\n",
              "    </tr>\n",
              "    <tr>\n",
              "      <th>239225</th>\n",
              "      <td>0.50000</td>\n",
              "    </tr>\n",
              "    <tr>\n",
              "      <th>239226</th>\n",
              "      <td>0.81944</td>\n",
              "    </tr>\n",
              "    <tr>\n",
              "      <th>239227</th>\n",
              "      <td>0.36111</td>\n",
              "    </tr>\n",
              "    <tr>\n",
              "      <th>239228</th>\n",
              "      <td>0.38889</td>\n",
              "    </tr>\n",
              "    <tr>\n",
              "      <th>239229</th>\n",
              "      <td>0.33333</td>\n",
              "    </tr>\n",
              "    <tr>\n",
              "      <th>239230</th>\n",
              "      <td>0.88889</td>\n",
              "    </tr>\n",
              "    <tr>\n",
              "      <th>239231</th>\n",
              "      <td>0.50000</td>\n",
              "    </tr>\n",
              "  </tbody>\n",
              "</table>\n",
              "<p>239232 rows × 1 columns</p>\n",
              "</div>"
            ],
            "text/plain": [
              "           sentiment_value\n",
              "phrase_id                 \n",
              "0                  0.50000\n",
              "1                  0.50000\n",
              "2                  0.44444\n",
              "3                  0.50000\n",
              "4                  0.42708\n",
              "5                  0.37500\n",
              "6                  0.41667\n",
              "7                  0.54167\n",
              "8                  0.33333\n",
              "9                  0.45833\n",
              "...                    ...\n",
              "239222             0.69444\n",
              "239223             0.50000\n",
              "239224             0.90278\n",
              "239225             0.50000\n",
              "239226             0.81944\n",
              "239227             0.36111\n",
              "239228             0.38889\n",
              "239229             0.33333\n",
              "239230             0.88889\n",
              "239231             0.50000\n",
              "\n",
              "[239232 rows x 1 columns]"
            ]
          },
          "metadata": {
            "tags": []
          },
          "execution_count": 16
        }
      ]
    },
    {
      "cell_type": "code",
      "metadata": {
        "colab": {
          "base_uri": "https://localhost:8080/",
          "height": 727
        },
        "id": "xixlpjswZ_aS",
        "outputId": "b96732d0-23e3-409a-f7c8-41b09e2d78af"
      },
      "source": [
        "phrase_dictionary"
      ],
      "execution_count": 17,
      "outputs": [
        {
          "output_type": "execute_result",
          "data": {
            "text/html": [
              "<div>\n",
              "<style scoped>\n",
              "    .dataframe tbody tr th:only-of-type {\n",
              "        vertical-align: middle;\n",
              "    }\n",
              "\n",
              "    .dataframe tbody tr th {\n",
              "        vertical-align: top;\n",
              "    }\n",
              "\n",
              "    .dataframe thead th {\n",
              "        text-align: right;\n",
              "    }\n",
              "</style>\n",
              "<table border=\"1\" class=\"dataframe\">\n",
              "  <thead>\n",
              "    <tr style=\"text-align: right;\">\n",
              "      <th></th>\n",
              "      <th>phrase_text</th>\n",
              "    </tr>\n",
              "    <tr>\n",
              "      <th>phrase_id</th>\n",
              "      <th></th>\n",
              "    </tr>\n",
              "  </thead>\n",
              "  <tbody>\n",
              "    <tr>\n",
              "      <th>0</th>\n",
              "      <td>!</td>\n",
              "    </tr>\n",
              "    <tr>\n",
              "      <th>22935</th>\n",
              "      <td>! '</td>\n",
              "    </tr>\n",
              "    <tr>\n",
              "      <th>18235</th>\n",
              "      <td>! ''</td>\n",
              "    </tr>\n",
              "    <tr>\n",
              "      <th>179257</th>\n",
              "      <td>! Alas</td>\n",
              "    </tr>\n",
              "    <tr>\n",
              "      <th>22936</th>\n",
              "      <td>! Brilliant</td>\n",
              "    </tr>\n",
              "    <tr>\n",
              "      <th>40532</th>\n",
              "      <td>! Brilliant !</td>\n",
              "    </tr>\n",
              "    <tr>\n",
              "      <th>22937</th>\n",
              "      <td>! Brilliant ! '</td>\n",
              "    </tr>\n",
              "    <tr>\n",
              "      <th>60624</th>\n",
              "      <td>! C'mon</td>\n",
              "    </tr>\n",
              "    <tr>\n",
              "      <th>13402</th>\n",
              "      <td>! Gollum 's ` performance ' is incredible</td>\n",
              "    </tr>\n",
              "    <tr>\n",
              "      <th>179258</th>\n",
              "      <td>! Oh , look at that clever angle ! Wow , a jump cut !</td>\n",
              "    </tr>\n",
              "    <tr>\n",
              "      <th>...</th>\n",
              "      <td>...</td>\n",
              "    </tr>\n",
              "    <tr>\n",
              "      <th>140881</th>\n",
              "      <td>zombie-land '</td>\n",
              "    </tr>\n",
              "    <tr>\n",
              "      <th>179255</th>\n",
              "      <td>zombies</td>\n",
              "    </tr>\n",
              "    <tr>\n",
              "      <th>13401</th>\n",
              "      <td>zone</td>\n",
              "    </tr>\n",
              "    <tr>\n",
              "      <th>220439</th>\n",
              "      <td>zoning</td>\n",
              "    </tr>\n",
              "    <tr>\n",
              "      <th>220440</th>\n",
              "      <td>zoning ordinances</td>\n",
              "    </tr>\n",
              "    <tr>\n",
              "      <th>220441</th>\n",
              "      <td>zoning ordinances to protect your community from the dullest science fiction</td>\n",
              "    </tr>\n",
              "    <tr>\n",
              "      <th>179256</th>\n",
              "      <td>zzzzzzzzz</td>\n",
              "    </tr>\n",
              "    <tr>\n",
              "      <th>220442</th>\n",
              "      <td>élan</td>\n",
              "    </tr>\n",
              "    <tr>\n",
              "      <th>220443</th>\n",
              "      <td>É</td>\n",
              "    </tr>\n",
              "    <tr>\n",
              "      <th>220444</th>\n",
              "      <td>É um passatempo descompromissado</td>\n",
              "    </tr>\n",
              "  </tbody>\n",
              "</table>\n",
              "<p>239232 rows × 1 columns</p>\n",
              "</div>"
            ],
            "text/plain": [
              "                                                                            phrase_text\n",
              "phrase_id                                                                              \n",
              "0                                                                                     !\n",
              "22935                                                                               ! '\n",
              "18235                                                                              ! ''\n",
              "179257                                                                           ! Alas\n",
              "22936                                                                       ! Brilliant\n",
              "40532                                                                     ! Brilliant !\n",
              "22937                                                                   ! Brilliant ! '\n",
              "60624                                                                           ! C'mon\n",
              "13402                                         ! Gollum 's ` performance ' is incredible\n",
              "179258                            ! Oh , look at that clever angle ! Wow , a jump cut !\n",
              "...                                                                                 ...\n",
              "140881                                                                    zombie-land '\n",
              "179255                                                                          zombies\n",
              "13401                                                                              zone\n",
              "220439                                                                           zoning\n",
              "220440                                                                zoning ordinances\n",
              "220441     zoning ordinances to protect your community from the dullest science fiction\n",
              "179256                                                                        zzzzzzzzz\n",
              "220442                                                                             élan\n",
              "220443                                                                                É\n",
              "220444                                                 É um passatempo descompromissado\n",
              "\n",
              "[239232 rows x 1 columns]"
            ]
          },
          "metadata": {
            "tags": []
          },
          "execution_count": 17
        }
      ]
    },
    {
      "cell_type": "markdown",
      "metadata": {
        "id": "oqkKIVynvx9U"
      },
      "source": [
        "## 1-5 Join Text and Label"
      ]
    },
    {
      "cell_type": "code",
      "metadata": {
        "colab": {
          "base_uri": "https://localhost:8080/",
          "height": 727
        },
        "id": "3JV19KpoaB8e",
        "outputId": "a13f6ab6-7ef2-46d1-f6d0-75388b5aa06c"
      },
      "source": [
        "sentiment_examples = phrase_dictionary.join(sentiment_labels).sort_index().reset_index()\n",
        "sentiment_examples = sentiment_examples.rename(\n",
        "    columns= {\n",
        "        'phrase_text': 'text',\n",
        "        'sentiment_value': 'label',\n",
        "        'phrase_id' : 'id',\n",
        "})\n",
        "sentiment_examples = sentiment_examples.set_index('id')\n",
        "sentiment_examples"
      ],
      "execution_count": 18,
      "outputs": [
        {
          "output_type": "execute_result",
          "data": {
            "text/html": [
              "<div>\n",
              "<style scoped>\n",
              "    .dataframe tbody tr th:only-of-type {\n",
              "        vertical-align: middle;\n",
              "    }\n",
              "\n",
              "    .dataframe tbody tr th {\n",
              "        vertical-align: top;\n",
              "    }\n",
              "\n",
              "    .dataframe thead th {\n",
              "        text-align: right;\n",
              "    }\n",
              "</style>\n",
              "<table border=\"1\" class=\"dataframe\">\n",
              "  <thead>\n",
              "    <tr style=\"text-align: right;\">\n",
              "      <th></th>\n",
              "      <th>text</th>\n",
              "      <th>label</th>\n",
              "    </tr>\n",
              "    <tr>\n",
              "      <th>id</th>\n",
              "      <th></th>\n",
              "      <th></th>\n",
              "    </tr>\n",
              "  </thead>\n",
              "  <tbody>\n",
              "    <tr>\n",
              "      <th>0</th>\n",
              "      <td>!</td>\n",
              "      <td>0.50000</td>\n",
              "    </tr>\n",
              "    <tr>\n",
              "      <th>1</th>\n",
              "      <td>'</td>\n",
              "      <td>0.50000</td>\n",
              "    </tr>\n",
              "    <tr>\n",
              "      <th>2</th>\n",
              "      <td>' (</td>\n",
              "      <td>0.44444</td>\n",
              "    </tr>\n",
              "    <tr>\n",
              "      <th>3</th>\n",
              "      <td>' ( the cockettes</td>\n",
              "      <td>0.50000</td>\n",
              "    </tr>\n",
              "    <tr>\n",
              "      <th>4</th>\n",
              "      <td>' ( the cockettes )</td>\n",
              "      <td>0.42708</td>\n",
              "    </tr>\n",
              "    <tr>\n",
              "      <th>5</th>\n",
              "      <td>' ( the cockettes ) provides a window into a subculture hell-bent on expressing itself in every ...</td>\n",
              "      <td>0.37500</td>\n",
              "    </tr>\n",
              "    <tr>\n",
              "      <th>6</th>\n",
              "      <td>' ( the cockettes ) provides a window into a subculture hell-bent on expressing itself in every ...</td>\n",
              "      <td>0.41667</td>\n",
              "    </tr>\n",
              "    <tr>\n",
              "      <th>7</th>\n",
              "      <td>' ( the cockettes ) provides a window into a subculture hell-bent on expressing itself in every ...</td>\n",
              "      <td>0.54167</td>\n",
              "    </tr>\n",
              "    <tr>\n",
              "      <th>8</th>\n",
              "      <td>' a nightmare on elm street</td>\n",
              "      <td>0.33333</td>\n",
              "    </tr>\n",
              "    <tr>\n",
              "      <th>9</th>\n",
              "      <td>' a nightmare on elm street '</td>\n",
              "      <td>0.45833</td>\n",
              "    </tr>\n",
              "    <tr>\n",
              "      <th>...</th>\n",
              "      <td>...</td>\n",
              "      <td>...</td>\n",
              "    </tr>\n",
              "    <tr>\n",
              "      <th>239222</th>\n",
              "      <td>your reaction : A. )</td>\n",
              "      <td>0.69444</td>\n",
              "    </tr>\n",
              "    <tr>\n",
              "      <th>239223</th>\n",
              "      <td>your responsibilities</td>\n",
              "      <td>0.50000</td>\n",
              "    </tr>\n",
              "    <tr>\n",
              "      <th>239224</th>\n",
              "      <td>your reward will be a thoughtful , emotional movie experience .</td>\n",
              "      <td>0.90278</td>\n",
              "    </tr>\n",
              "    <tr>\n",
              "      <th>239225</th>\n",
              "      <td>your seat ,</td>\n",
              "      <td>0.50000</td>\n",
              "    </tr>\n",
              "    <tr>\n",
              "      <th>239226</th>\n",
              "      <td>your seat , tense with suspense</td>\n",
              "      <td>0.81944</td>\n",
              "    </tr>\n",
              "    <tr>\n",
              "      <th>239227</th>\n",
              "      <td>your standard Hollywood bio-pic</td>\n",
              "      <td>0.36111</td>\n",
              "    </tr>\n",
              "    <tr>\n",
              "      <th>239228</th>\n",
              "      <td>your typical ` fish out of water ' story</td>\n",
              "      <td>0.38889</td>\n",
              "    </tr>\n",
              "    <tr>\n",
              "      <th>239229</th>\n",
              "      <td>zero .</td>\n",
              "      <td>0.33333</td>\n",
              "    </tr>\n",
              "    <tr>\n",
              "      <th>239230</th>\n",
              "      <td>zippy jazzy score</td>\n",
              "      <td>0.88889</td>\n",
              "    </tr>\n",
              "    <tr>\n",
              "      <th>239231</th>\n",
              "      <td>UNK</td>\n",
              "      <td>0.50000</td>\n",
              "    </tr>\n",
              "  </tbody>\n",
              "</table>\n",
              "<p>239232 rows × 2 columns</p>\n",
              "</div>"
            ],
            "text/plain": [
              "                                                                                                       text    label\n",
              "id                                                                                                                  \n",
              "0                                                                                                         !  0.50000\n",
              "1                                                                                                         '  0.50000\n",
              "2                                                                                                       ' (  0.44444\n",
              "3                                                                                         ' ( the cockettes  0.50000\n",
              "4                                                                                       ' ( the cockettes )  0.42708\n",
              "5       ' ( the cockettes ) provides a window into a subculture hell-bent on expressing itself in every ...  0.37500\n",
              "6       ' ( the cockettes ) provides a window into a subculture hell-bent on expressing itself in every ...  0.41667\n",
              "7       ' ( the cockettes ) provides a window into a subculture hell-bent on expressing itself in every ...  0.54167\n",
              "8                                                                               ' a nightmare on elm street  0.33333\n",
              "9                                                                             ' a nightmare on elm street '  0.45833\n",
              "...                                                                                                     ...      ...\n",
              "239222                                                                                 your reaction : A. )  0.69444\n",
              "239223                                                                                your responsibilities  0.50000\n",
              "239224                                      your reward will be a thoughtful , emotional movie experience .  0.90278\n",
              "239225                                                                                          your seat ,  0.50000\n",
              "239226                                                                      your seat , tense with suspense  0.81944\n",
              "239227                                                                      your standard Hollywood bio-pic  0.36111\n",
              "239228                                                             your typical ` fish out of water ' story  0.38889\n",
              "239229                                                                                               zero .  0.33333\n",
              "239230                                                                                    zippy jazzy score  0.88889\n",
              "239231                                                                                                  UNK  0.50000\n",
              "\n",
              "[239232 rows x 2 columns]"
            ]
          },
          "metadata": {
            "tags": []
          },
          "execution_count": 18
        }
      ]
    },
    {
      "cell_type": "markdown",
      "metadata": {
        "id": "07k-yuwHv5--"
      },
      "source": [
        "## 1-6 Recover Label Class"
      ]
    },
    {
      "cell_type": "code",
      "metadata": {
        "id": "Lmj0QQ8fh0XP"
      },
      "source": [
        "def recover_class(sentiment_value: \"positivity probability\") -> str:\n",
        "    if sentiment_value < 0:\n",
        "        raise ValueError(\"Sentiment value should be greater than 0.\")\n",
        "    elif sentiment_value <= 0.2:\n",
        "        return \"very negative\"\n",
        "    elif sentiment_value <= 0.4:\n",
        "        return \"negative\"\n",
        "    elif sentiment_value <= 0.6:\n",
        "        return \"neutral\"\n",
        "    elif sentiment_value <= 0.8:\n",
        "        return \"positive\"\n",
        "    elif sentiment_value <= 1.0:\n",
        "        return \"very positive\"\n",
        "    else:\n",
        "        raise ValueError(\"Sentiment value should be less than 1.\") "
      ],
      "execution_count": 19,
      "outputs": []
    },
    {
      "cell_type": "code",
      "metadata": {
        "colab": {
          "base_uri": "https://localhost:8080/",
          "height": 727
        },
        "id": "qNM1goQ-iDX3",
        "outputId": "fb89a9e5-1ca2-40aa-b756-60653bc10aa7"
      },
      "source": [
        "sentiment_examples.label = sentiment_examples.label.apply(recover_class)\n",
        "sentiment_examples"
      ],
      "execution_count": 20,
      "outputs": [
        {
          "output_type": "execute_result",
          "data": {
            "text/html": [
              "<div>\n",
              "<style scoped>\n",
              "    .dataframe tbody tr th:only-of-type {\n",
              "        vertical-align: middle;\n",
              "    }\n",
              "\n",
              "    .dataframe tbody tr th {\n",
              "        vertical-align: top;\n",
              "    }\n",
              "\n",
              "    .dataframe thead th {\n",
              "        text-align: right;\n",
              "    }\n",
              "</style>\n",
              "<table border=\"1\" class=\"dataframe\">\n",
              "  <thead>\n",
              "    <tr style=\"text-align: right;\">\n",
              "      <th></th>\n",
              "      <th>text</th>\n",
              "      <th>label</th>\n",
              "    </tr>\n",
              "    <tr>\n",
              "      <th>id</th>\n",
              "      <th></th>\n",
              "      <th></th>\n",
              "    </tr>\n",
              "  </thead>\n",
              "  <tbody>\n",
              "    <tr>\n",
              "      <th>0</th>\n",
              "      <td>!</td>\n",
              "      <td>neutral</td>\n",
              "    </tr>\n",
              "    <tr>\n",
              "      <th>1</th>\n",
              "      <td>'</td>\n",
              "      <td>neutral</td>\n",
              "    </tr>\n",
              "    <tr>\n",
              "      <th>2</th>\n",
              "      <td>' (</td>\n",
              "      <td>neutral</td>\n",
              "    </tr>\n",
              "    <tr>\n",
              "      <th>3</th>\n",
              "      <td>' ( the cockettes</td>\n",
              "      <td>neutral</td>\n",
              "    </tr>\n",
              "    <tr>\n",
              "      <th>4</th>\n",
              "      <td>' ( the cockettes )</td>\n",
              "      <td>neutral</td>\n",
              "    </tr>\n",
              "    <tr>\n",
              "      <th>5</th>\n",
              "      <td>' ( the cockettes ) provides a window into a subculture hell-bent on expressing itself in every ...</td>\n",
              "      <td>negative</td>\n",
              "    </tr>\n",
              "    <tr>\n",
              "      <th>6</th>\n",
              "      <td>' ( the cockettes ) provides a window into a subculture hell-bent on expressing itself in every ...</td>\n",
              "      <td>neutral</td>\n",
              "    </tr>\n",
              "    <tr>\n",
              "      <th>7</th>\n",
              "      <td>' ( the cockettes ) provides a window into a subculture hell-bent on expressing itself in every ...</td>\n",
              "      <td>neutral</td>\n",
              "    </tr>\n",
              "    <tr>\n",
              "      <th>8</th>\n",
              "      <td>' a nightmare on elm street</td>\n",
              "      <td>negative</td>\n",
              "    </tr>\n",
              "    <tr>\n",
              "      <th>9</th>\n",
              "      <td>' a nightmare on elm street '</td>\n",
              "      <td>neutral</td>\n",
              "    </tr>\n",
              "    <tr>\n",
              "      <th>...</th>\n",
              "      <td>...</td>\n",
              "      <td>...</td>\n",
              "    </tr>\n",
              "    <tr>\n",
              "      <th>239222</th>\n",
              "      <td>your reaction : A. )</td>\n",
              "      <td>positive</td>\n",
              "    </tr>\n",
              "    <tr>\n",
              "      <th>239223</th>\n",
              "      <td>your responsibilities</td>\n",
              "      <td>neutral</td>\n",
              "    </tr>\n",
              "    <tr>\n",
              "      <th>239224</th>\n",
              "      <td>your reward will be a thoughtful , emotional movie experience .</td>\n",
              "      <td>very positive</td>\n",
              "    </tr>\n",
              "    <tr>\n",
              "      <th>239225</th>\n",
              "      <td>your seat ,</td>\n",
              "      <td>neutral</td>\n",
              "    </tr>\n",
              "    <tr>\n",
              "      <th>239226</th>\n",
              "      <td>your seat , tense with suspense</td>\n",
              "      <td>very positive</td>\n",
              "    </tr>\n",
              "    <tr>\n",
              "      <th>239227</th>\n",
              "      <td>your standard Hollywood bio-pic</td>\n",
              "      <td>negative</td>\n",
              "    </tr>\n",
              "    <tr>\n",
              "      <th>239228</th>\n",
              "      <td>your typical ` fish out of water ' story</td>\n",
              "      <td>negative</td>\n",
              "    </tr>\n",
              "    <tr>\n",
              "      <th>239229</th>\n",
              "      <td>zero .</td>\n",
              "      <td>negative</td>\n",
              "    </tr>\n",
              "    <tr>\n",
              "      <th>239230</th>\n",
              "      <td>zippy jazzy score</td>\n",
              "      <td>very positive</td>\n",
              "    </tr>\n",
              "    <tr>\n",
              "      <th>239231</th>\n",
              "      <td>UNK</td>\n",
              "      <td>neutral</td>\n",
              "    </tr>\n",
              "  </tbody>\n",
              "</table>\n",
              "<p>239232 rows × 2 columns</p>\n",
              "</div>"
            ],
            "text/plain": [
              "                                                                                                       text          label\n",
              "id                                                                                                                        \n",
              "0                                                                                                         !        neutral\n",
              "1                                                                                                         '        neutral\n",
              "2                                                                                                       ' (        neutral\n",
              "3                                                                                         ' ( the cockettes        neutral\n",
              "4                                                                                       ' ( the cockettes )        neutral\n",
              "5       ' ( the cockettes ) provides a window into a subculture hell-bent on expressing itself in every ...       negative\n",
              "6       ' ( the cockettes ) provides a window into a subculture hell-bent on expressing itself in every ...        neutral\n",
              "7       ' ( the cockettes ) provides a window into a subculture hell-bent on expressing itself in every ...        neutral\n",
              "8                                                                               ' a nightmare on elm street       negative\n",
              "9                                                                             ' a nightmare on elm street '        neutral\n",
              "...                                                                                                     ...            ...\n",
              "239222                                                                                 your reaction : A. )       positive\n",
              "239223                                                                                your responsibilities        neutral\n",
              "239224                                      your reward will be a thoughtful , emotional movie experience .  very positive\n",
              "239225                                                                                          your seat ,        neutral\n",
              "239226                                                                      your seat , tense with suspense  very positive\n",
              "239227                                                                      your standard Hollywood bio-pic       negative\n",
              "239228                                                             your typical ` fish out of water ' story       negative\n",
              "239229                                                                                               zero .       negative\n",
              "239230                                                                                    zippy jazzy score  very positive\n",
              "239231                                                                                                  UNK        neutral\n",
              "\n",
              "[239232 rows x 2 columns]"
            ]
          },
          "metadata": {
            "tags": []
          },
          "execution_count": 20
        }
      ]
    },
    {
      "cell_type": "code",
      "metadata": {
        "id": "1m1zufeBYqMu"
      },
      "source": [
        "def plot_label(data: pd.DataFrame):\n",
        "    plot = sns.countplot(\n",
        "        x='label',\n",
        "        data=data,\n",
        "        order=['very negative', \n",
        "               'negative',\n",
        "               'neutral', \n",
        "               'positive', \n",
        "               'very positive'], \n",
        "        palette='viridis',\n",
        "    )\n",
        "    plot "
      ],
      "execution_count": 21,
      "outputs": []
    },
    {
      "cell_type": "code",
      "metadata": {
        "colab": {
          "base_uri": "https://localhost:8080/",
          "height": 279
        },
        "id": "SOuA-XnOwId7",
        "outputId": "2fe158a3-609c-44fc-f4af-7d26a2546331"
      },
      "source": [
        "plot_label(sentiment_examples)"
      ],
      "execution_count": 22,
      "outputs": [
        {
          "output_type": "display_data",
          "data": {
            "image/png": "[encoded data removed]",
            "text/plain": [
              "<Figure size 432x288 with 1 Axes>"
            ]
          },
          "metadata": {
            "tags": [],
            "needs_background": "light"
          }
        }
      ]
    },
    {
      "cell_type": "markdown",
      "metadata": {
        "id": "_pjWxe4UWouK"
      },
      "source": [
        "## 1-7 Select Full Sentences"
      ]
    },
    {
      "cell_type": "code",
      "metadata": {
        "colab": {
          "base_uri": "https://localhost:8080/",
          "height": 698
        },
        "id": "Um3TVOtqWUJY",
        "outputId": "bdc43476-7a7d-4354-b414-5f51a35dfc58"
      },
      "source": [
        "sentence_sentiments = pd.merge(dataset_sentences, sentiment_examples,\n",
        "                               left_on='sentence',right_on='text')\n",
        "sentence_sentiments = sentence_sentiments[['label', 'text']]\n",
        "sentence_sentiments"
      ],
      "execution_count": 23,
      "outputs": [
        {
          "output_type": "execute_result",
          "data": {
            "text/html": [
              "<div>\n",
              "<style scoped>\n",
              "    .dataframe tbody tr th:only-of-type {\n",
              "        vertical-align: middle;\n",
              "    }\n",
              "\n",
              "    .dataframe tbody tr th {\n",
              "        vertical-align: top;\n",
              "    }\n",
              "\n",
              "    .dataframe thead th {\n",
              "        text-align: right;\n",
              "    }\n",
              "</style>\n",
              "<table border=\"1\" class=\"dataframe\">\n",
              "  <thead>\n",
              "    <tr style=\"text-align: right;\">\n",
              "      <th></th>\n",
              "      <th>label</th>\n",
              "      <th>text</th>\n",
              "    </tr>\n",
              "  </thead>\n",
              "  <tbody>\n",
              "    <tr>\n",
              "      <th>0</th>\n",
              "      <td>positive</td>\n",
              "      <td>The Rock is destined to be the 21st Century 's new `` Conan '' and that he 's going to make a sp...</td>\n",
              "    </tr>\n",
              "    <tr>\n",
              "      <th>1</th>\n",
              "      <td>very positive</td>\n",
              "      <td>The gorgeously elaborate continuation of `` The Lord of the Rings '' trilogy is so huge that a c...</td>\n",
              "    </tr>\n",
              "    <tr>\n",
              "      <th>2</th>\n",
              "      <td>neutral</td>\n",
              "      <td>Effective but too-tepid biopic</td>\n",
              "    </tr>\n",
              "    <tr>\n",
              "      <th>3</th>\n",
              "      <td>positive</td>\n",
              "      <td>If you sometimes like to go to the movies to have fun , Wasabi is a good place to start .</td>\n",
              "    </tr>\n",
              "    <tr>\n",
              "      <th>4</th>\n",
              "      <td>very positive</td>\n",
              "      <td>Emerges as something rare , an issue movie that 's so honest and keenly observed that it does n'...</td>\n",
              "    </tr>\n",
              "    <tr>\n",
              "      <th>5</th>\n",
              "      <td>neutral</td>\n",
              "      <td>The film provides some great insight into the neurotic mindset of all comics -- even those who h...</td>\n",
              "    </tr>\n",
              "    <tr>\n",
              "      <th>6</th>\n",
              "      <td>very positive</td>\n",
              "      <td>Offers that rare combination of entertainment and education .</td>\n",
              "    </tr>\n",
              "    <tr>\n",
              "      <th>7</th>\n",
              "      <td>positive</td>\n",
              "      <td>Perhaps no picture ever made has more literally showed that the road to hell is paved with good ...</td>\n",
              "    </tr>\n",
              "    <tr>\n",
              "      <th>8</th>\n",
              "      <td>positive</td>\n",
              "      <td>Steers turns in a snappy screenplay that curls at the edges ; it 's so clever you want to hate it .</td>\n",
              "    </tr>\n",
              "    <tr>\n",
              "      <th>9</th>\n",
              "      <td>positive</td>\n",
              "      <td>But he somehow pulls it off .</td>\n",
              "    </tr>\n",
              "    <tr>\n",
              "      <th>...</th>\n",
              "      <td>...</td>\n",
              "      <td>...</td>\n",
              "    </tr>\n",
              "    <tr>\n",
              "      <th>11276</th>\n",
              "      <td>very negative</td>\n",
              "      <td>Rashomon-for-dipsticks tale .</td>\n",
              "    </tr>\n",
              "    <tr>\n",
              "      <th>11277</th>\n",
              "      <td>neutral</td>\n",
              "      <td>Bearable .</td>\n",
              "    </tr>\n",
              "    <tr>\n",
              "      <th>11278</th>\n",
              "      <td>neutral</td>\n",
              "      <td>Barely .</td>\n",
              "    </tr>\n",
              "    <tr>\n",
              "      <th>11279</th>\n",
              "      <td>very negative</td>\n",
              "      <td>Staggeringly dreadful romance .</td>\n",
              "    </tr>\n",
              "    <tr>\n",
              "      <th>11280</th>\n",
              "      <td>positive</td>\n",
              "      <td>Well-made but mush-hearted .</td>\n",
              "    </tr>\n",
              "    <tr>\n",
              "      <th>11281</th>\n",
              "      <td>very negative</td>\n",
              "      <td>A real snooze .</td>\n",
              "    </tr>\n",
              "    <tr>\n",
              "      <th>11282</th>\n",
              "      <td>negative</td>\n",
              "      <td>No surprises .</td>\n",
              "    </tr>\n",
              "    <tr>\n",
              "      <th>11283</th>\n",
              "      <td>positive</td>\n",
              "      <td>We 've seen the hippie-turned-yuppie plot before , but there 's an enthusiastic charm in Fire th...</td>\n",
              "    </tr>\n",
              "    <tr>\n",
              "      <th>11284</th>\n",
              "      <td>very negative</td>\n",
              "      <td>Her fans walked out muttering words like `` horrible '' and `` terrible , '' but had so much fun...</td>\n",
              "    </tr>\n",
              "    <tr>\n",
              "      <th>11285</th>\n",
              "      <td>negative</td>\n",
              "      <td>In this case zero .</td>\n",
              "    </tr>\n",
              "  </tbody>\n",
              "</table>\n",
              "<p>11286 rows × 2 columns</p>\n",
              "</div>"
            ],
            "text/plain": [
              "               label                                                                                                 text\n",
              "0           positive  The Rock is destined to be the 21st Century 's new `` Conan '' and that he 's going to make a sp...\n",
              "1      very positive  The gorgeously elaborate continuation of `` The Lord of the Rings '' trilogy is so huge that a c...\n",
              "2            neutral                                                                       Effective but too-tepid biopic\n",
              "3           positive            If you sometimes like to go to the movies to have fun , Wasabi is a good place to start .\n",
              "4      very positive  Emerges as something rare , an issue movie that 's so honest and keenly observed that it does n'...\n",
              "5            neutral  The film provides some great insight into the neurotic mindset of all comics -- even those who h...\n",
              "6      very positive                                        Offers that rare combination of entertainment and education .\n",
              "7           positive  Perhaps no picture ever made has more literally showed that the road to hell is paved with good ...\n",
              "8           positive  Steers turns in a snappy screenplay that curls at the edges ; it 's so clever you want to hate it .\n",
              "9           positive                                                                        But he somehow pulls it off .\n",
              "...              ...                                                                                                  ...\n",
              "11276  very negative                                                                        Rashomon-for-dipsticks tale .\n",
              "11277        neutral                                                                                           Bearable .\n",
              "11278        neutral                                                                                             Barely .\n",
              "11279  very negative                                                                      Staggeringly dreadful romance .\n",
              "11280       positive                                                                         Well-made but mush-hearted .\n",
              "11281  very negative                                                                                      A real snooze .\n",
              "11282       negative                                                                                       No surprises .\n",
              "11283       positive  We 've seen the hippie-turned-yuppie plot before , but there 's an enthusiastic charm in Fire th...\n",
              "11284  very negative  Her fans walked out muttering words like `` horrible '' and `` terrible , '' but had so much fun...\n",
              "11285       negative                                                                                  In this case zero .\n",
              "\n",
              "[11286 rows x 2 columns]"
            ]
          },
          "metadata": {
            "tags": []
          },
          "execution_count": 23
        }
      ]
    },
    {
      "cell_type": "code",
      "metadata": {
        "colab": {
          "base_uri": "https://localhost:8080/",
          "height": 279
        },
        "id": "deGSKDBhALKu",
        "outputId": "c6a261ed-adfa-44da-8940-754511d58b72"
      },
      "source": [
        "plot_label(sentence_sentiments)"
      ],
      "execution_count": 24,
      "outputs": [
        {
          "output_type": "display_data",
          "data": {
            "image/png": "[encoded data removed]",
            "text/plain": [
              "<Figure size 432x288 with 1 Axes>"
            ]
          },
          "metadata": {
            "tags": [],
            "needs_background": "light"
          }
        }
      ]
    },
    {
      "cell_type": "markdown",
      "metadata": {
        "id": "XDtpS_VrWTx4"
      },
      "source": [
        "# 2. Augment Data"
      ]
    },
    {
      "cell_type": "code",
      "metadata": {
        "id": "DstoAIMZC_BZ"
      },
      "source": [
        "DatasetIterator = Generator[NamedTuple, None, None]\n",
        "\n",
        "def generate_iterator(dataset: pd.DataFrame) -> DatasetIterator:\n",
        "    yield from dataset.itertuples(index=False, name='Example')"
      ],
      "execution_count": 25,
      "outputs": []
    },
    {
      "cell_type": "code",
      "metadata": {
        "id": "64M_Bcu_WTyh"
      },
      "source": [
        "def convert_list_to_dataframe(texts: list) -> pd.DataFrame:\n",
        "    df = pd.DataFrame(columns=['label', 'text'])\n",
        "    for label, text in texts:\n",
        "        df = df.append({'label': label, 'text': text}, \n",
        "                       ignore_index=True)\n",
        "    return df"
      ],
      "execution_count": 26,
      "outputs": []
    },
    {
      "cell_type": "markdown",
      "metadata": {
        "id": "8pxdKofIWTyj"
      },
      "source": [
        "## 2-1 Back Translation\n",
        "\n",
        "- Translate a sentence to a random language, and then translate back to the \n",
        "original language."
      ]
    },
    {
      "cell_type": "code",
      "metadata": {
        "id": "7vuepcyhWTyk"
      },
      "source": [
        "GoogleTranslator = google_trans_new.google_trans_new.google_translator\n",
        "\n",
        "def back_translate(example: NamedTuple, \n",
        "                   translator: GoogleTranslator, \n",
        "                   availables: list) -> str:\n",
        "    # choose random language\n",
        "    trans_lang = random.choice(availables) \n",
        "    #print(f\"Translating to {google_trans_new.LANGUAGES[trans_lang]}\")\n",
        "\n",
        "    # translate to the target language\n",
        "    translation = translator.translate(example.text,\n",
        "                                        lang_src='en',\n",
        "                                        lang_tgt=trans_lang) \n",
        "\n",
        "    # translate back to original language\n",
        "    back_translation = translator.translate(translation, \n",
        "                                            lang_src=trans_lang, \n",
        "                                            lang_tgt='en') \n",
        "\n",
        "    # select only one translation\n",
        "    if isinstance(back_translation, list):\n",
        "        back_translation = back_translation[0]\n",
        "    \n",
        "    return example.label, back_translation"
      ],
      "execution_count": 27,
      "outputs": []
    },
    {
      "cell_type": "code",
      "metadata": {
        "id": "ZwuQ3WRYWTyl"
      },
      "source": [
        "def apply_back_translation(dataset:pd.DataFrame,\n",
        "                           p: float = BACK_TRANSLATION_PROBABILITY) -> pd.DataFrame:\n",
        "    translator = google_translator()\n",
        "    availables = list(google_trans_new.LANGUAGES.keys()) \n",
        "    progress_bar = tqdm(generate_iterator(dataset), total=len(dataset.index))\n",
        "\n",
        "    back_translations = Parallel(n_jobs=-1, prefer=\"threads\")(\n",
        "        delayed(back_translate)(example, translator, availables)\n",
        "        for example in progress_bar \n",
        "        if random.uniform(0, 1) < p\n",
        "    )\n",
        "\n",
        "    back_translations = convert_list_to_dataframe(back_translations)\n",
        "\n",
        "    return back_translations"
      ],
      "execution_count": 28,
      "outputs": []
    },
    {
      "cell_type": "markdown",
      "metadata": {
        "id": "bniVWPCpWTyn"
      },
      "source": [
        "## 2-2 Random Deletion\n",
        "\n",
        "- Randomly delete words from a sentence with a given probability.\n"
      ]
    },
    {
      "cell_type": "code",
      "metadata": {
        "id": "Hstzf61AWTyn"
      },
      "source": [
        "def random_delete(example: NamedTuple, \n",
        "                  p: float = DELETION_PROBABILITY): \n",
        "    sentence = example.text.split(' ')\n",
        "    # return if single word\n",
        "    if len(sentence) == 1: \n",
        "        return example.label, sentence\n",
        "    # delete words\n",
        "    remaining = list(filter(lambda x: random.uniform(0, 1) > p, sentence)) \n",
        "    # if nothing left, sample a random word\n",
        "    if len(remaining) == 0: \n",
        "        return example.label, [random.choice(sentence)] \n",
        "    else:\n",
        "        return example.label, ' '.join(remaining)"
      ],
      "execution_count": 29,
      "outputs": []
    },
    {
      "cell_type": "code",
      "metadata": {
        "id": "Qka3w6ZvWTyo"
      },
      "source": [
        "def apply_random_deletion(dataset:pd.DataFrame) -> pd.DataFrame:\n",
        "    map_delete = functools.partial(map, random_delete)\n",
        "    random_deletions = pipe(\n",
        "        dataset,\n",
        "        generate_iterator,\n",
        "        map_delete,\n",
        "        list,\n",
        "        convert_list_to_dataframe\n",
        "    )\n",
        "    return random_deletions"
      ],
      "execution_count": 30,
      "outputs": []
    },
    {
      "cell_type": "markdown",
      "metadata": {
        "id": "F5UeLDqkWTyp"
      },
      "source": [
        "## 2-3 Random Swap\n",
        "- Randomly swap a pair of words in a sentence for a given no. of times."
      ]
    },
    {
      "cell_type": "code",
      "metadata": {
        "id": "CvfNV73MWTyq"
      },
      "source": [
        "def random_swap(example: NamedTuple, \n",
        "                n: int = SWAP_COUNT): \n",
        "    sentence = example.text.split(' ')\n",
        "    if len(sentence) < 2:\n",
        "      return example.label, sentence\n",
        "    for _ in range(n):\n",
        "        idx1, idx2 = random.sample(range(len(sentence)), 2)\n",
        "        sentence[idx1], sentence[idx2] = sentence[idx2], sentence[idx1] \n",
        "    return example.label, ' '.join(sentence)"
      ],
      "execution_count": 31,
      "outputs": []
    },
    {
      "cell_type": "code",
      "metadata": {
        "id": "tVmEjksoWTyr"
      },
      "source": [
        "def apply_random_swap(dataset:pd.DataFrame) -> pd.DataFrame:\n",
        "    map_swap = functools.partial(map, random_swap)\n",
        "    random_swaps = pipe(\n",
        "        dataset,\n",
        "        generate_iterator,\n",
        "        map_swap,\n",
        "        list,\n",
        "        convert_list_to_dataframe\n",
        "    )\n",
        "    return random_swaps"
      ],
      "execution_count": 32,
      "outputs": []
    },
    {
      "cell_type": "markdown",
      "metadata": {
        "id": "89GHbKGLWf4h"
      },
      "source": [
        "## 2-4 Apply Augmentations"
      ]
    },
    {
      "cell_type": "code",
      "metadata": {
        "colab": {
          "base_uri": "https://localhost:8080/",
          "height": 66,
          "referenced_widgets": [
            "9c2fca224ce04db9932bc92783b19b86",
            "17b210b65f40486dbd56390ab50f50da",
            "528d9574a9ec45f1accdaadba47b61c0",
            "de693540bcb14fa1a509ba6763b9c310",
            "34fbe4aa53a54abda7f3fbecba67e76d",
            "5a217556966644c5b241e7d8552bd1b4",
            "f4f4f8bf300f4fe6bb02a7b184623e5e",
            "b52f69bedbba45459bcb7e95909c5ab4"
          ]
        },
        "id": "oBifZ21TWTys",
        "outputId": "5693f4c9-edb0-495b-8a09-4e31b509993d"
      },
      "source": [
        "augmented_dataset = pd.concat([\n",
        "                               sentence_sentiments,\n",
        "                               apply_back_translation(sentence_sentiments),\n",
        "                               apply_random_deletion(sentence_sentiments), \n",
        "                               apply_random_swap(sentence_sentiments),\n",
        "                               ]).reset_index(drop=True)"
      ],
      "execution_count": 33,
      "outputs": [
        {
          "output_type": "display_data",
          "data": {
            "application/vnd.jupyter.widget-view+json": {
              "model_id": "9c2fca224ce04db9932bc92783b19b86",
              "version_minor": 0,
              "version_major": 2
            },
            "text/plain": [
              "HBox(children=(FloatProgress(value=0.0, max=11286.0), HTML(value='')))"
            ]
          },
          "metadata": {
            "tags": []
          }
        },
        {
          "output_type": "stream",
          "text": [
            "\n"
          ],
          "name": "stdout"
        }
      ]
    },
    {
      "cell_type": "markdown",
      "metadata": {
        "id": "OIi22ljh10VZ"
      },
      "source": [
        "# 3. Prepare Torchtext Dataset\n",
        "\n",
        "- Here we format datasets for model training using Torchtext-specific API from `torchtext.legacy.data`:\n",
        "\n",
        "    - `Field`\n",
        "        - `build_vocab`\n",
        "        - `vocab`\n",
        "    - `Example`\n",
        "        - `fromlist`\n",
        "    - `Dataset`\n",
        "        - `split`\n",
        "    -  `BucketIterator`\n",
        "\n",
        "-  Since this Torchtext-specific API will be replaced by a new, general Pytorch API, we will refactor codes in this section [using this migration guide](https://colab.research.google.com/github/pytorch/text/blob/master/examples/legacy_tutorial/migration_tutorial.ipynb)."
      ]
    },
    {
      "cell_type": "markdown",
      "metadata": {
        "id": "XJ6o_79ISSVb"
      },
      "source": [
        "## 3-1 Define Fields"
      ]
    },
    {
      "cell_type": "markdown",
      "metadata": {
        "id": "e63g08ijOrf7"
      },
      "source": [
        "- Now we shall be defining `Label` as a LabelField, which is a subclass of Field that sets sequential to False (as it’s our numerical category class).\n",
        "\n",
        "- `Text` is a standard Field object, where we have decided to use the spaCy tokenizer and convert all the text to lower‐case."
      ]
    },
    {
      "cell_type": "code",
      "metadata": {
        "id": "u6bKQax2Mf_U"
      },
      "source": [
        "Text = data.Field(\n",
        "    sequential=True,\n",
        "    tokenize=TOKENIZER, \n",
        "    tokenizer_language = TOKENIZER_LANGUAGE,\n",
        "    include_lengths=True,\n",
        ")\n",
        "\n",
        "Label = data.LabelField(\n",
        "    sequential=False,\n",
        "    tokenize=TOKENIZER, \n",
        "    is_target=True, \n",
        ")"
      ],
      "execution_count": 34,
      "outputs": []
    },
    {
      "cell_type": "markdown",
      "metadata": {
        "id": "mX-lYIe_O7Vy"
      },
      "source": [
        "- Having defined those fields, we now need to produce a list that maps them onto the list of rows that are in the CSV:"
      ]
    },
    {
      "cell_type": "code",
      "metadata": {
        "id": "VawdWq36O6td"
      },
      "source": [
        "fields = [('text', Text), ('label', Label)]"
      ],
      "execution_count": 35,
      "outputs": []
    },
    {
      "cell_type": "markdown",
      "metadata": {
        "id": "ZbtZ-Ph2P1xL"
      },
      "source": [
        "- Armed with our declared fields, lets convert from pandas to list to torchtext.\n",
        "\n",
        "- We could also use TabularDataset to apply that definition to the CSV directly but showing an alternative approach too."
      ]
    },
    {
      "cell_type": "markdown",
      "metadata": {
        "id": "0murG0ZIed41"
      },
      "source": [
        "## 3-2 Create Dataset"
      ]
    },
    {
      "cell_type": "code",
      "metadata": {
        "colab": {
          "base_uri": "https://localhost:8080/",
          "height": 66,
          "referenced_widgets": [
            "5d34c7f0c658449daf992e6da5aa4475",
            "aa1aef992b1947b0a3f2b0d969efbb3c",
            "08bc40e54f91499a83554e2de7a62e88",
            "8e3fa04a91bf4f769f7ec773e4818282",
            "cdbac179369c40658a837b9340412f1b",
            "32f172900d51433694e4b2c97f202ede",
            "55172c6544e64f7cab4a3d08e09afb12",
            "2c58d52c4cd84e359875f88e9faef898"
          ]
        },
        "id": "g_71nQ2WBMm8",
        "outputId": "f3d6ec9d-e83f-4592-9e55-e2f566ef24d7"
      },
      "source": [
        "examples = Parallel(n_jobs=-1, prefer=\"threads\")(\n",
        "        delayed(data.Example.fromlist)([augmented_dataset.text[i],\n",
        "                                        augmented_dataset.label[i]], \n",
        "                                       fields)\n",
        "        for i in tqdm(range(augmented_dataset.shape[0]))\n",
        ")"
      ],
      "execution_count": 36,
      "outputs": [
        {
          "output_type": "display_data",
          "data": {
            "application/vnd.jupyter.widget-view+json": {
              "model_id": "5d34c7f0c658449daf992e6da5aa4475",
              "version_minor": 0,
              "version_major": 2
            },
            "text/plain": [
              "HBox(children=(FloatProgress(value=0.0, max=34972.0), HTML(value='')))"
            ]
          },
          "metadata": {
            "tags": []
          }
        },
        {
          "output_type": "stream",
          "text": [
            "\n"
          ],
          "name": "stdout"
        }
      ]
    },
    {
      "cell_type": "code",
      "metadata": {
        "id": "EyuByn_w1Irg"
      },
      "source": [
        "unsplit_dataset = data.Dataset(examples, fields)"
      ],
      "execution_count": 37,
      "outputs": []
    },
    {
      "cell_type": "markdown",
      "metadata": {
        "id": "c2YLB7xwsOjt"
      },
      "source": [
        "## 3-3 Split Datasets"
      ]
    },
    {
      "cell_type": "markdown",
      "metadata": {
        "id": "g6ZnyCPaR08F"
      },
      "source": [
        "- Finally, we can split into training, testing, and validation sets by using the `split()` method:"
      ]
    },
    {
      "cell_type": "code",
      "metadata": {
        "id": "uPYXyuKhRpBk"
      },
      "source": [
        "(train, valid, test) = unsplit_dataset.split(split_ratio=SPLIT_RATIO, \n",
        "                                             random_state=random.seed(SEED))"
      ],
      "execution_count": 38,
      "outputs": []
    },
    {
      "cell_type": "code",
      "metadata": {
        "id": "ykvsCGQMR6UD",
        "colab": {
          "base_uri": "https://localhost:8080/"
        },
        "outputId": "ba4026b6-380d-4192-a270-c02c73517ce8"
      },
      "source": [
        "(len(train), len(valid), len(test))"
      ],
      "execution_count": 39,
      "outputs": [
        {
          "output_type": "execute_result",
          "data": {
            "text/plain": [
              "(20983, 6995, 6994)"
            ]
          },
          "metadata": {
            "tags": []
          },
          "execution_count": 39
        }
      ]
    },
    {
      "cell_type": "markdown",
      "metadata": {
        "id": "kix8P2IKSBaV"
      },
      "source": [
        "- An example from the dataset:"
      ]
    },
    {
      "cell_type": "code",
      "metadata": {
        "id": "dUpEOQruR9JL",
        "colab": {
          "base_uri": "https://localhost:8080/"
        },
        "outputId": "5df071d8-4506-435d-eccd-8fc778bbcda4"
      },
      "source": [
        "vars(train.examples[10])"
      ],
      "execution_count": 40,
      "outputs": [
        {
          "output_type": "execute_result",
          "data": {
            "text/plain": [
              "{'label': 'very positive',\n",
              " 'text': ['One',\n",
              "  'of',\n",
              "  'the',\n",
              "  'most',\n",
              "  'movies',\n",
              "  'exquisite',\n",
              "  'anti',\n",
              "  '-',\n",
              "  'adult',\n",
              "  'slyly',\n",
              "  'ever',\n",
              "  'made',\n",
              "  '.']}"
            ]
          },
          "metadata": {
            "tags": []
          },
          "execution_count": 40
        }
      ]
    },
    {
      "cell_type": "markdown",
      "metadata": {
        "id": "AKdllP3FST4N"
      },
      "source": [
        "## 3-4 Build Vocabulary"
      ]
    },
    {
      "cell_type": "markdown",
      "metadata": {
        "id": "SuvWQ-SpSmSz"
      },
      "source": [
        "- At this point we would have built a one-hot encoding of each word that is present in the dataset—a rather tedious process.\n",
        "\n",
        "- Thankfully, torchtext will do this for us, and will also allow a max_size parameter to be passed in to limit the vocabulary to the most common words. \n",
        "\n",
        "- This is normally done to prevent the construction of a huge, memory-hungry model. \n",
        "\n",
        "- We don’t want our GPUs too overwhelmed, after all. \n",
        "\n",
        "- Let’s limit the vocabulary to a maximum of 10,000 words in our training set:\n"
      ]
    },
    {
      "cell_type": "code",
      "metadata": {
        "id": "mx955u93SGeY"
      },
      "source": [
        "Text.build_vocab(\n",
        "    train, \n",
        "    max_size = MAX_VOCAB_SIZE,\n",
        "    vectors = \"glove.6B.100d\", # use pre-trained embeddings\n",
        "    unk_init = torch.Tensor.normal_ # randomly initialize out-of-vocab words\n",
        ")\n",
        "\n",
        "Label.build_vocab(train)"
      ],
      "execution_count": null,
      "outputs": []
    },
    {
      "cell_type": "markdown",
      "metadata": {
        "id": "xvyEeEjXTGhX"
      },
      "source": [
        "- By default, torchtext will add two more special tokens, <unk> for unknown words and <pad>, a padding token that will be used to pad all our text to roughly the same size to help with efficient batching on the GPU."
      ]
    },
    {
      "cell_type": "markdown",
      "metadata": {
        "id": "qCFSOBYl_O9Z"
      },
      "source": [
        "### Inspect Vocabulary"
      ]
    },
    {
      "cell_type": "code",
      "metadata": {
        "id": "rA3tIESdcJdN"
      },
      "source": [
        "print('Size of input vocab : ', len(Text.vocab))\n",
        "print('Size of label vocab : ', len(Label.vocab))\n",
        "print('Top 10 words appreared repeatedly :', list(Text.vocab.freqs.most_common(10)))\n",
        "print('Labels : ', dict(Label.vocab.stoi))"
      ],
      "execution_count": null,
      "outputs": []
    },
    {
      "cell_type": "markdown",
      "metadata": {
        "id": "Gg7gTFQO4fby"
      },
      "source": [
        "- **↑ Lots of stopwords!**"
      ]
    },
    {
      "cell_type": "markdown",
      "metadata": {
        "id": "5pDNeNtG_SDA"
      },
      "source": [
        "### Save Vocabulary\n",
        "\n",
        "- Save for later use during prediction/inference with user inputs."
      ]
    },
    {
      "cell_type": "code",
      "metadata": {
        "id": "niE9Cc6-2bD_"
      },
      "source": [
        "with open('tokenizer.pkl', 'wb') as tokens: \n",
        "    pickle.dump(Text.vocab.stoi, tokens)"
      ],
      "execution_count": null,
      "outputs": []
    },
    {
      "cell_type": "markdown",
      "metadata": {
        "id": "lSNeMezG4TUI"
      },
      "source": [
        "## 3-5 Create Batches"
      ]
    },
    {
      "cell_type": "markdown",
      "metadata": {
        "id": "sLWW221gTpNs"
      },
      "source": [
        "- Now we need to create a data loader to feed into our training loop. \n",
        "\n",
        "- Torchtext provides the BucketIterator method that will produce what it calls a Batch, which is almost, but not quite, like the data loader we used on images.\n",
        "\n",
        "- Here we send all dataset iterators to GPU (if available)."
      ]
    },
    {
      "cell_type": "code",
      "metadata": {
        "id": "zK2ORoqdTNsM"
      },
      "source": [
        "train_iterator, valid_iterator, test_iterator = data.BucketIterator.splits(\n",
        "    (train, valid, test), \n",
        "    batch_size = BATCH_SIZE, \n",
        "    sort_key = lambda x: len(x.text),\n",
        "    sort_within_batch=True, \n",
        "    device = device)"
      ],
      "execution_count": null,
      "outputs": []
    },
    {
      "cell_type": "markdown",
      "metadata": {
        "id": "MyvpNWVS-wU_"
      },
      "source": [
        "# 4. Build Model"
      ]
    },
    {
      "cell_type": "markdown",
      "metadata": {
        "id": "Fg-CUNjMcuzz"
      },
      "source": [
        "## 4-1 Define Model"
      ]
    },
    {
      "cell_type": "code",
      "metadata": {
        "id": "43pVRccMT0bT"
      },
      "source": [
        "class Sentimentalist(nn.Module):\n",
        "    \n",
        "    # parts list\n",
        "    def __init__(self, vocab_size, embedding_dim, hidden_dim, output_dim, \n",
        "                 num_layers, bidirectional, dropout, pad_idx):\n",
        "        \n",
        "        super().__init__()          \n",
        "        \n",
        "        # embedding: initialized with pre-trained word embedding\n",
        "        self.embedding = nn.Embedding(vocab_size, embedding_dim, \n",
        "                                      padding_idx = pad_idx)\n",
        "        \n",
        "        # encoder: GRU\n",
        "        self.encoder = nn.GRU(embedding_dim, hidden_dim, \n",
        "                              num_layers=num_layers,\n",
        "                              bidirectional=bidirectional,\n",
        "                              dropout=dropout)\n",
        "        \n",
        "        # decoder: fully connected layer\n",
        "        self.decoder = nn.Linear(hidden_dim * 2, output_dim)\n",
        "\n",
        "        # dropout for every layer\n",
        "        self.dropout = nn.Dropout(dropout)\n",
        "\n",
        "    # assembly manual    \n",
        "    def forward(self, text, text_lengths):\n",
        "        \n",
        "        # text = [batch size, sentence length]\n",
        "        \n",
        "        # embed: GLoVe\n",
        "        embedded = self.dropout(self.embedding(text))\n",
        "        \n",
        "        # embedded = [batch size, sentence length, embedding dimension]\n",
        "      \n",
        "        # pack sequence: so that last word is not <pad>\n",
        "        packed_embedded = nn.utils.rnn.pack_padded_sequence(embedded, \n",
        "                                                            text_lengths.cpu())\n",
        "        \n",
        "        # encode: GRU layers        \n",
        "        packed_output, hidden = self.encoder(packed_embedded)\n",
        "        \n",
        "        # hidden = [batch size, no. of layers * no. of directions, hidden dimension]\n",
        "\n",
        "        hidden = self.dropout(torch.cat((hidden[-2,:,:], \n",
        "                                         hidden[-1,:,:]), \n",
        "                                        dim = 1))\n",
        "                \n",
        "        #hidden = [batch size, hidden dimension * no. of directions]\n",
        "\n",
        "        # decode: FC layer\n",
        "        dense_output = self.decoder(hidden) # no dropout before softmax\n",
        "\n",
        "        # dense_output = [batch size, no. of classes]\n",
        "\n",
        "        # classify: final activation function (softmax) before loss function\n",
        "        output = F.softmax(dense_output, dim=1)\n",
        "\n",
        "        # output = [batch size, no. of classes]\n",
        "            \n",
        "        return output"
      ],
      "execution_count": null,
      "outputs": []
    },
    {
      "cell_type": "markdown",
      "metadata": {
        "id": "VWy66cp8cxn3"
      },
      "source": [
        "## 4-2 Instantiate Model"
      ]
    },
    {
      "cell_type": "code",
      "metadata": {
        "id": "rwBoGE_X_Fl8"
      },
      "source": [
        "vocabulary_size = len(Text.vocab)\n",
        "padding_index = Text.vocab.stoi[Text.pad_token]\n",
        "\n",
        "model = Sentimentalist(vocabulary_size, EMBEDDING_DIM, NUM_HIDDEN_NODES, NUM_OUTPUT_NODES, \n",
        "                       num_layers=NUM_LAYERS, bidirectional=BIDIRECTIONAL, dropout=DROPOUT,\n",
        "                       pad_idx=padding_index)\n",
        "\n",
        "print(model)"
      ],
      "execution_count": null,
      "outputs": []
    },
    {
      "cell_type": "code",
      "metadata": {
        "id": "O-pOMqzJ3eTv"
      },
      "source": [
        "# No. of trianable parameters\n",
        "def count_parameters(model):\n",
        "    return sum(p.numel() for p in model.parameters() if p.requires_grad)\n",
        "    \n",
        "print(f'The model has {count_parameters(model):,} trainable parameters')"
      ],
      "execution_count": null,
      "outputs": []
    },
    {
      "cell_type": "markdown",
      "metadata": {
        "id": "MibSwf-7_BW4"
      },
      "source": [
        "## 4-3 Modify Embedding Layer"
      ]
    },
    {
      "cell_type": "markdown",
      "metadata": {
        "id": "QWoh85Gj-qkc"
      },
      "source": [
        "### Copy Pre-trained Embeddings"
      ]
    },
    {
      "cell_type": "code",
      "metadata": {
        "id": "jaIVXVq8eH7n"
      },
      "source": [
        "pretrained_embeddings = Text.vocab.vectors\n",
        "\n",
        "print(pretrained_embeddings.shape)"
      ],
      "execution_count": null,
      "outputs": []
    },
    {
      "cell_type": "code",
      "metadata": {
        "id": "opcGE1BNeKcJ"
      },
      "source": [
        "model.embedding.weight.data.copy_(pretrained_embeddings)"
      ],
      "execution_count": null,
      "outputs": []
    },
    {
      "cell_type": "markdown",
      "metadata": {
        "id": "QaljixG3-zIZ"
      },
      "source": [
        "### Initialize Special-character Embeddings"
      ]
    },
    {
      "cell_type": "code",
      "metadata": {
        "id": "_B0H_oKbeZRX"
      },
      "source": [
        "unknown_index = Text.vocab.stoi[Text.unk_token]\n",
        "\n",
        "model.embedding.weight.data[unknown_index] = torch.zeros(EMBEDDING_DIM)\n",
        "model.embedding.weight.data[padding_index] = torch.zeros(EMBEDDING_DIM)\n",
        "\n",
        "print(model.embedding.weight.data)"
      ],
      "execution_count": null,
      "outputs": []
    },
    {
      "cell_type": "markdown",
      "metadata": {
        "id": "98-P7mxUc1TD"
      },
      "source": [
        "## 4-4 Instantiate Loss"
      ]
    },
    {
      "cell_type": "code",
      "metadata": {
        "id": "CO6NAO_zc449"
      },
      "source": [
        "criterion = nn.CrossEntropyLoss()"
      ],
      "execution_count": null,
      "outputs": []
    },
    {
      "cell_type": "markdown",
      "metadata": {
        "id": "3-__ChZ6c6Sh"
      },
      "source": [
        "## 4-5 Send Model and Loss to GPU"
      ]
    },
    {
      "cell_type": "code",
      "metadata": {
        "id": "KFys0XQ5cJkB"
      },
      "source": [
        "# push to cuda if available\n",
        "model = model.to(device)\n",
        "criterion = criterion.to(device)"
      ],
      "execution_count": null,
      "outputs": []
    },
    {
      "cell_type": "markdown",
      "metadata": {
        "id": "kpkyCiZJ_DCU"
      },
      "source": [
        "# 5. Train (and Evaluate) Model"
      ]
    },
    {
      "cell_type": "markdown",
      "metadata": {
        "id": "eXajorf5Xz7t"
      },
      "source": [
        "## 5-1 Instantiate Optimizer"
      ]
    },
    {
      "cell_type": "code",
      "metadata": {
        "id": "2orwxvIJch1r"
      },
      "source": [
        "optimizer = optim.Adam(model.parameters())"
      ],
      "execution_count": null,
      "outputs": []
    },
    {
      "cell_type": "markdown",
      "metadata": {
        "id": "LLgK-S25cDO3"
      },
      "source": [
        "## 5-2 Define Accuracy"
      ]
    },
    {
      "cell_type": "code",
      "metadata": {
        "id": "-u86JWdlXvu5"
      },
      "source": [
        "def binary_accuracy(preds, y):\n",
        "    # round predictions to the closest integer\n",
        "    _, predictions = torch.max(preds, dim=1)\n",
        "    correct = (predictions == y).float() \n",
        "    acc = correct.sum() / len(correct)\n",
        "    return acc"
      ],
      "execution_count": null,
      "outputs": []
    },
    {
      "cell_type": "markdown",
      "metadata": {
        "id": "2WjEPLKsAiS_"
      },
      "source": [
        "## 5-3 Define Trainer"
      ]
    },
    {
      "cell_type": "markdown",
      "metadata": {
        "id": "3VCJtNb3Zt8w"
      },
      "source": [
        "- The main thing to be aware of in this new training loop is that we have to reference `batch.text` and `batch.label` to get the particular fields we’re interested in; they don’t fall out quite as nicely from the enumerator as they do in torchvision."
      ]
    },
    {
      "cell_type": "code",
      "metadata": {
        "id": "HDWNnGK3Y5oJ"
      },
      "source": [
        "def train(model, iterator, optimizer, criterion):\n",
        "    \n",
        "    # initialize every epoch \n",
        "    epoch_loss = 0\n",
        "    epoch_acc = 0\n",
        "    \n",
        "    # set the model to training mode\n",
        "    model.train()  \n",
        "    \n",
        "    for batch in iterator:\n",
        "        \n",
        "        # resets the gradients after every batch\n",
        "        optimizer.zero_grad()   \n",
        "        \n",
        "        # retrieve text and no. of words\n",
        "        text, text_lengths = batch.text\n",
        "        \n",
        "        # convert to 1D tensor\n",
        "        predictions = model(text, text_lengths).squeeze(1)  \n",
        "        \n",
        "        # compute the loss\n",
        "        loss = criterion(predictions, batch.label)        \n",
        "        \n",
        "        # compute the binary accuracy\n",
        "        acc = binary_accuracy(predictions, batch.label)   \n",
        "        \n",
        "        # backpropage the loss and compute the gradients\n",
        "        loss.backward()       \n",
        "        \n",
        "        # update the weights\n",
        "        optimizer.step()      \n",
        "        \n",
        "        # loss and accuracy\n",
        "        epoch_loss += loss.item()  \n",
        "        epoch_acc += acc.item()    \n",
        "        \n",
        "    return epoch_loss / len(iterator), epoch_acc / len(iterator)"
      ],
      "execution_count": null,
      "outputs": []
    },
    {
      "cell_type": "markdown",
      "metadata": {
        "id": "CZcHhkkvAsCt"
      },
      "source": [
        "## 5-4 Define Evaluator"
      ]
    },
    {
      "cell_type": "code",
      "metadata": {
        "id": "zHEe-zSVAriL"
      },
      "source": [
        "def evaluate(model, iterator, criterion):\n",
        "    \n",
        "    # initialize every epoch\n",
        "    epoch_loss = 0\n",
        "    epoch_acc = 0\n",
        "\n",
        "    # set model to evaluation mode (deactivate dropout layers)\n",
        "    model.eval()\n",
        "    \n",
        "    # deactivate autograd\n",
        "    with torch.no_grad():\n",
        "    \n",
        "        for batch in iterator:\n",
        "        \n",
        "            # retrieve text and no. of words\n",
        "            text, text_lengths = batch.text\n",
        "            \n",
        "            # convert to 1d tensor\n",
        "            predictions = model(text, text_lengths).squeeze(1)\n",
        "            \n",
        "            # compute loss and accuracy\n",
        "            loss = criterion(predictions, batch.label)\n",
        "            acc = binary_accuracy(predictions, batch.label)\n",
        "            \n",
        "            # keep track of loss and accuracy\n",
        "            epoch_loss += loss.item()\n",
        "            epoch_acc += acc.item()\n",
        "        \n",
        "    return epoch_loss / len(iterator), epoch_acc / len(iterator)"
      ],
      "execution_count": null,
      "outputs": []
    },
    {
      "cell_type": "markdown",
      "metadata": {
        "id": "L6LJFW7HaJoV"
      },
      "source": [
        "## 5-5 Train Epochs"
      ]
    },
    {
      "cell_type": "code",
      "metadata": {
        "id": "tq330XlnaEU9"
      },
      "source": [
        "best_valid_loss = float('inf')\n",
        "\n",
        "for epoch in range(EPOCHS):\n",
        "     \n",
        "    # train the model\n",
        "    train_loss, train_acc = train(model, train_iterator, optimizer, criterion)\n",
        "    \n",
        "    # evaluate the model\n",
        "    valid_loss, valid_acc = evaluate(model, valid_iterator, criterion)\n",
        "    \n",
        "    # save the best model\n",
        "    if valid_loss < best_valid_loss:\n",
        "        best_valid_loss = valid_loss\n",
        "        torch.save(model.state_dict(), 'saved_weights.pt')\n",
        "    \n",
        "    # print results for each epoch\n",
        "    print(f'Epoch: {epoch + 1}')\n",
        "    print(f'\\tTrain Loss: {train_loss:.3f} | Train Acc: {train_acc*100:.2f}%')\n",
        "    print(f'\\t Val. Loss: {valid_loss:.3f} |  Val. Acc: {valid_acc*100:.2f}% \\n')"
      ],
      "execution_count": null,
      "outputs": []
    },
    {
      "cell_type": "markdown",
      "metadata": {
        "id": "UKxmBtYPbohd"
      },
      "source": [
        "# 4. Test Model"
      ]
    },
    {
      "cell_type": "code",
      "metadata": {
        "id": "aZZfnWo0abRx"
      },
      "source": [
        "def classify_sentiment(text: str):\n",
        "    \n",
        "    # load saved weights\n",
        "    path='./saved_weights.pt'\n",
        "    model.load_state_dict(torch.load(path))\n",
        "    model.eval()\n",
        "\n",
        "    # load saved vocabulary\n",
        "    tokenizer_file = open('./tokenizer.pkl', 'rb')\n",
        "    tokenizer = pickle.load(tokenizer_file)\n",
        "\n",
        "    # load English tokenizer \n",
        "    nlp = spacy.load(TOKENIZER_LANGUAGE)\n",
        "        \n",
        "    # tokenize text \n",
        "    tokenized = [tok.text for tok in nlp.tokenizer(text)] \n",
        "    # numericalize text\n",
        "    indexed = [tokenizer[t] for t in tokenized]        \n",
        "\n",
        "    # convert text to tensor                                    \n",
        "    tensor = torch.LongTensor(indexed).to(device)   \n",
        "    # reshape tensor to [batch, no. of words]     \n",
        "    tensor = tensor.unsqueeze(1) # .T if batch_first = True\n",
        "    \n",
        "    # compute no. of words        \n",
        "    length = [len(indexed)]\n",
        "    # convert to tensor                          \n",
        "    length_tensor = torch.LongTensor(length)\n",
        "    \n",
        "    # get model prediction                  \n",
        "    prediction = model(tensor, length_tensor)\n",
        "    _, pred = torch.max(prediction, dim=1) \n",
        "    \n",
        "    # return sentiment class\n",
        "    return Label.vocab.itos[pred.item()]"
      ],
      "execution_count": null,
      "outputs": []
    },
    {
      "cell_type": "markdown",
      "metadata": {
        "id": "k1I-1nkNbvav"
      },
      "source": [
        "## 6-1 Test with Test Dataset"
      ]
    },
    {
      "cell_type": "code",
      "metadata": {
        "id": "628NJEc838Wk"
      },
      "source": [
        "# load best weights to model\n",
        "model.load_state_dict(torch.load('saved_weights.pt'))\n",
        "\n",
        "# evaluate best model on test dataset\n",
        "test_loss, test_acc = evaluate(model, test_iterator, criterion)\n",
        "\n",
        "print(f'Test Loss: {test_loss:.3f} | Test Acc: {test_acc*100:.2f}%')"
      ],
      "execution_count": null,
      "outputs": []
    },
    {
      "cell_type": "markdown",
      "metadata": {
        "id": "J0xYtwUD6r0q"
      },
      "source": [
        "## 6-2 Test with Individual Test Sample"
      ]
    },
    {
      "cell_type": "code",
      "metadata": {
        "id": "ReI9h-f36v_Y"
      },
      "source": [
        "test_iterator = data.BucketIterator(\n",
        "    test, \n",
        "    batch_size = BATCH_SIZE, \n",
        "    sort_key = lambda x: len(x.text),\n",
        "    sort_within_batch=True, \n",
        "    device = device)"
      ],
      "execution_count": null,
      "outputs": []
    },
    {
      "cell_type": "markdown",
      "metadata": {
        "id": "LZgzB0ZkHVTI"
      },
      "source": [
        "## 6-3 Test with User Input"
      ]
    },
    {
      "cell_type": "code",
      "metadata": {
        "id": "1RkOoFFhEula"
      },
      "source": [
        "classify_sentiment(\"Obama has called the GOP budget social Darwinism. Nice try, but they believe in social creationism.\")"
      ],
      "execution_count": null,
      "outputs": []
    },
    {
      "cell_type": "code",
      "metadata": {
        "id": "yTkHLEipIlM9"
      },
      "source": [
        "classify_sentiment(\"A valid explanation for why Trump won't let women on the golf course.\")"
      ],
      "execution_count": null,
      "outputs": []
    },
    {
      "cell_type": "code",
      "metadata": {
        "id": "HJXzaXE5FNCa"
      },
      "source": [
        "classify_sentiment(\"In his teen years, Obama has been known to use marijuana and cocaine.\")"
      ],
      "execution_count": null,
      "outputs": []
    },
    {
      "cell_type": "code",
      "metadata": {
        "id": "FsFY59mdZbEd"
      },
      "source": [
        "classify_sentiment(\"This film is terrible.\")"
      ],
      "execution_count": null,
      "outputs": []
    },
    {
      "cell_type": "code",
      "metadata": {
        "id": "bqRhZvhSZiU1"
      },
      "source": [
        "classify_sentiment(\"This film is okay.\")"
      ],
      "execution_count": null,
      "outputs": []
    },
    {
      "cell_type": "code",
      "metadata": {
        "id": "gLiJcAHOghXJ"
      },
      "source": [
        "classify_sentiment(\"This movie is interesting.\")"
      ],
      "execution_count": null,
      "outputs": []
    },
    {
      "cell_type": "code",
      "metadata": {
        "id": "7tlP7hwnZr5-"
      },
      "source": [
        "classify_sentiment(\"This film is extremely wonderful.\")"
      ],
      "execution_count": null,
      "outputs": []
    },
    {
      "cell_type": "markdown",
      "metadata": {
        "id": "uv23r2TM9ZzQ"
      },
      "source": [
        "# Reference\n",
        "\n",
        "1. [Ben Trevett's Simple Pytorch Sentiment Analysis](https://github.com/bentrevett/pytorch-sentiment-analysis/blob/master/1%20-%20Simple%20Sentiment%20Analysis.ipynb)\n",
        "\n",
        "2. [Ben Trevett's Upgraded Pytorch Sentiment Analysis](https://github.com/bentrevett/pytorch-sentiment-analysis/blob/master/2%20-%20Upgraded%20Sentiment%20Analysis.ipynb)\n",
        "\n",
        "3. [Stanford Sentiment Treebank Paper](https://nlp.stanford.edu/~socherr/EMNLP2013_RNTN.pdf)"
      ]
    },
    {
      "cell_type": "code",
      "metadata": {
        "id": "BMiqw5QHDx-r"
      },
      "source": [
        "# THE END"
      ],
      "execution_count": null,
      "outputs": []
    }
  ]
}