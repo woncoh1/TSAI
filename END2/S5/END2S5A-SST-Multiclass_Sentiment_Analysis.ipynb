{
  "nbformat": 4,
  "nbformat_minor": 0,
  "metadata": {
    "colab": {
      "name": "END2S5A-SST-Multiclass_Sentiment_Analysis-Final.ipynb",
      "provenance": [],
      "collapsed_sections": [],
      "machine_shape": "hm",
      "include_colab_link": true
    },
    "kernelspec": {
      "name": "python3",
      "display_name": "Python 3"
    },
    "accelerator": "GPU",
    "widgets": {
      "application/vnd.jupyter.widget-state+json": {
        "d4c8249a3d9c4580b312bfa5f85ac406": {
          "model_module": "@jupyter-widgets/controls",
          "model_name": "HBoxModel",
          "state": {
            "_view_name": "HBoxView",
            "_dom_classes": [],
            "_model_name": "HBoxModel",
            "_view_module": "@jupyter-widgets/controls",
            "_model_module_version": "1.5.0",
            "_view_count": null,
            "_view_module_version": "1.5.0",
            "box_style": "",
            "layout": "IPY_MODEL_e50c458419b24044a5a18f39841bac43",
            "_model_module": "@jupyter-widgets/controls",
            "children": [
              "IPY_MODEL_3edaf9ba790d4124af89bf611a86e937",
              "IPY_MODEL_a6400c19efa54e37a5a9a9fb0c7a0448"
            ]
          }
        },
        "e50c458419b24044a5a18f39841bac43": {
          "model_module": "@jupyter-widgets/base",
          "model_name": "LayoutModel",
          "state": {
            "_view_name": "LayoutView",
            "grid_template_rows": null,
            "right": null,
            "justify_content": null,
            "_view_module": "@jupyter-widgets/base",
            "overflow": null,
            "_model_module_version": "1.2.0",
            "_view_count": null,
            "flex_flow": null,
            "width": null,
            "min_width": null,
            "border": null,
            "align_items": null,
            "bottom": null,
            "_model_module": "@jupyter-widgets/base",
            "top": null,
            "grid_column": null,
            "overflow_y": null,
            "overflow_x": null,
            "grid_auto_flow": null,
            "grid_area": null,
            "grid_template_columns": null,
            "flex": null,
            "_model_name": "LayoutModel",
            "justify_items": null,
            "grid_row": null,
            "max_height": null,
            "align_content": null,
            "visibility": null,
            "align_self": null,
            "height": null,
            "min_height": null,
            "padding": null,
            "grid_auto_rows": null,
            "grid_gap": null,
            "max_width": null,
            "order": null,
            "_view_module_version": "1.2.0",
            "grid_template_areas": null,
            "object_position": null,
            "object_fit": null,
            "grid_auto_columns": null,
            "margin": null,
            "display": null,
            "left": null
          }
        },
        "3edaf9ba790d4124af89bf611a86e937": {
          "model_module": "@jupyter-widgets/controls",
          "model_name": "FloatProgressModel",
          "state": {
            "_view_name": "ProgressView",
            "style": "IPY_MODEL_d4da3d994545438681b56d5295ce9afb",
            "_dom_classes": [],
            "description": "100%",
            "_model_name": "FloatProgressModel",
            "bar_style": "success",
            "max": 11286,
            "_view_module": "@jupyter-widgets/controls",
            "_model_module_version": "1.5.0",
            "value": 11286,
            "_view_count": null,
            "_view_module_version": "1.5.0",
            "orientation": "horizontal",
            "min": 0,
            "description_tooltip": null,
            "_model_module": "@jupyter-widgets/controls",
            "layout": "IPY_MODEL_9d206b8a35604e5b873a3d2746df707e"
          }
        },
        "a6400c19efa54e37a5a9a9fb0c7a0448": {
          "model_module": "@jupyter-widgets/controls",
          "model_name": "HTMLModel",
          "state": {
            "_view_name": "HTMLView",
            "style": "IPY_MODEL_d0b54cd375774be9ac4d0ca17c2c6097",
            "_dom_classes": [],
            "description": "",
            "_model_name": "HTMLModel",
            "placeholder": "​",
            "_view_module": "@jupyter-widgets/controls",
            "_model_module_version": "1.5.0",
            "value": " 11286/11286 [02:27&lt;00:00, 76.71it/s]",
            "_view_count": null,
            "_view_module_version": "1.5.0",
            "description_tooltip": null,
            "_model_module": "@jupyter-widgets/controls",
            "layout": "IPY_MODEL_01c568915cdf4b37bf62a27963969e67"
          }
        },
        "d4da3d994545438681b56d5295ce9afb": {
          "model_module": "@jupyter-widgets/controls",
          "model_name": "ProgressStyleModel",
          "state": {
            "_view_name": "StyleView",
            "_model_name": "ProgressStyleModel",
            "description_width": "initial",
            "_view_module": "@jupyter-widgets/base",
            "_model_module_version": "1.5.0",
            "_view_count": null,
            "_view_module_version": "1.2.0",
            "bar_color": null,
            "_model_module": "@jupyter-widgets/controls"
          }
        },
        "9d206b8a35604e5b873a3d2746df707e": {
          "model_module": "@jupyter-widgets/base",
          "model_name": "LayoutModel",
          "state": {
            "_view_name": "LayoutView",
            "grid_template_rows": null,
            "right": null,
            "justify_content": null,
            "_view_module": "@jupyter-widgets/base",
            "overflow": null,
            "_model_module_version": "1.2.0",
            "_view_count": null,
            "flex_flow": null,
            "width": null,
            "min_width": null,
            "border": null,
            "align_items": null,
            "bottom": null,
            "_model_module": "@jupyter-widgets/base",
            "top": null,
            "grid_column": null,
            "overflow_y": null,
            "overflow_x": null,
            "grid_auto_flow": null,
            "grid_area": null,
            "grid_template_columns": null,
            "flex": null,
            "_model_name": "LayoutModel",
            "justify_items": null,
            "grid_row": null,
            "max_height": null,
            "align_content": null,
            "visibility": null,
            "align_self": null,
            "height": null,
            "min_height": null,
            "padding": null,
            "grid_auto_rows": null,
            "grid_gap": null,
            "max_width": null,
            "order": null,
            "_view_module_version": "1.2.0",
            "grid_template_areas": null,
            "object_position": null,
            "object_fit": null,
            "grid_auto_columns": null,
            "margin": null,
            "display": null,
            "left": null
          }
        },
        "d0b54cd375774be9ac4d0ca17c2c6097": {
          "model_module": "@jupyter-widgets/controls",
          "model_name": "DescriptionStyleModel",
          "state": {
            "_view_name": "StyleView",
            "_model_name": "DescriptionStyleModel",
            "description_width": "",
            "_view_module": "@jupyter-widgets/base",
            "_model_module_version": "1.5.0",
            "_view_count": null,
            "_view_module_version": "1.2.0",
            "_model_module": "@jupyter-widgets/controls"
          }
        },
        "01c568915cdf4b37bf62a27963969e67": {
          "model_module": "@jupyter-widgets/base",
          "model_name": "LayoutModel",
          "state": {
            "_view_name": "LayoutView",
            "grid_template_rows": null,
            "right": null,
            "justify_content": null,
            "_view_module": "@jupyter-widgets/base",
            "overflow": null,
            "_model_module_version": "1.2.0",
            "_view_count": null,
            "flex_flow": null,
            "width": null,
            "min_width": null,
            "border": null,
            "align_items": null,
            "bottom": null,
            "_model_module": "@jupyter-widgets/base",
            "top": null,
            "grid_column": null,
            "overflow_y": null,
            "overflow_x": null,
            "grid_auto_flow": null,
            "grid_area": null,
            "grid_template_columns": null,
            "flex": null,
            "_model_name": "LayoutModel",
            "justify_items": null,
            "grid_row": null,
            "max_height": null,
            "align_content": null,
            "visibility": null,
            "align_self": null,
            "height": null,
            "min_height": null,
            "padding": null,
            "grid_auto_rows": null,
            "grid_gap": null,
            "max_width": null,
            "order": null,
            "_view_module_version": "1.2.0",
            "grid_template_areas": null,
            "object_position": null,
            "object_fit": null,
            "grid_auto_columns": null,
            "margin": null,
            "display": null,
            "left": null
          }
        },
        "ccf8df850db04f26bd06b3fb22a3b55c": {
          "model_module": "@jupyter-widgets/controls",
          "model_name": "HBoxModel",
          "state": {
            "_view_name": "HBoxView",
            "_dom_classes": [],
            "_model_name": "HBoxModel",
            "_view_module": "@jupyter-widgets/controls",
            "_model_module_version": "1.5.0",
            "_view_count": null,
            "_view_module_version": "1.5.0",
            "box_style": "",
            "layout": "IPY_MODEL_60e11b563b43480ea57dee7a572044f9",
            "_model_module": "@jupyter-widgets/controls",
            "children": [
              "IPY_MODEL_1076a2b75e94403f9136224c64c7844c",
              "IPY_MODEL_a3935f0c1cc14ee9989ef934db9d795e"
            ]
          }
        },
        "60e11b563b43480ea57dee7a572044f9": {
          "model_module": "@jupyter-widgets/base",
          "model_name": "LayoutModel",
          "state": {
            "_view_name": "LayoutView",
            "grid_template_rows": null,
            "right": null,
            "justify_content": null,
            "_view_module": "@jupyter-widgets/base",
            "overflow": null,
            "_model_module_version": "1.2.0",
            "_view_count": null,
            "flex_flow": null,
            "width": null,
            "min_width": null,
            "border": null,
            "align_items": null,
            "bottom": null,
            "_model_module": "@jupyter-widgets/base",
            "top": null,
            "grid_column": null,
            "overflow_y": null,
            "overflow_x": null,
            "grid_auto_flow": null,
            "grid_area": null,
            "grid_template_columns": null,
            "flex": null,
            "_model_name": "LayoutModel",
            "justify_items": null,
            "grid_row": null,
            "max_height": null,
            "align_content": null,
            "visibility": null,
            "align_self": null,
            "height": null,
            "min_height": null,
            "padding": null,
            "grid_auto_rows": null,
            "grid_gap": null,
            "max_width": null,
            "order": null,
            "_view_module_version": "1.2.0",
            "grid_template_areas": null,
            "object_position": null,
            "object_fit": null,
            "grid_auto_columns": null,
            "margin": null,
            "display": null,
            "left": null
          }
        },
        "1076a2b75e94403f9136224c64c7844c": {
          "model_module": "@jupyter-widgets/controls",
          "model_name": "FloatProgressModel",
          "state": {
            "_view_name": "ProgressView",
            "style": "IPY_MODEL_089dec4bc407415b8786d0b66a441fd9",
            "_dom_classes": [],
            "description": "100%",
            "_model_name": "FloatProgressModel",
            "bar_style": "success",
            "max": 35043,
            "_view_module": "@jupyter-widgets/controls",
            "_model_module_version": "1.5.0",
            "value": 35043,
            "_view_count": null,
            "_view_module_version": "1.5.0",
            "orientation": "horizontal",
            "min": 0,
            "description_tooltip": null,
            "_model_module": "@jupyter-widgets/controls",
            "layout": "IPY_MODEL_65294668a71444e5bce029b180940a1d"
          }
        },
        "a3935f0c1cc14ee9989ef934db9d795e": {
          "model_module": "@jupyter-widgets/controls",
          "model_name": "HTMLModel",
          "state": {
            "_view_name": "HTMLView",
            "style": "IPY_MODEL_c107e2df72f948a2838145c08ff2ba98",
            "_dom_classes": [],
            "description": "",
            "_model_name": "HTMLModel",
            "placeholder": "​",
            "_view_module": "@jupyter-widgets/controls",
            "_model_module_version": "1.5.0",
            "value": " 35043/35043 [07:16&lt;00:00, 80.35it/s]",
            "_view_count": null,
            "_view_module_version": "1.5.0",
            "description_tooltip": null,
            "_model_module": "@jupyter-widgets/controls",
            "layout": "IPY_MODEL_6ab14300508048e58726a751803ffdcd"
          }
        },
        "089dec4bc407415b8786d0b66a441fd9": {
          "model_module": "@jupyter-widgets/controls",
          "model_name": "ProgressStyleModel",
          "state": {
            "_view_name": "StyleView",
            "_model_name": "ProgressStyleModel",
            "description_width": "initial",
            "_view_module": "@jupyter-widgets/base",
            "_model_module_version": "1.5.0",
            "_view_count": null,
            "_view_module_version": "1.2.0",
            "bar_color": null,
            "_model_module": "@jupyter-widgets/controls"
          }
        },
        "65294668a71444e5bce029b180940a1d": {
          "model_module": "@jupyter-widgets/base",
          "model_name": "LayoutModel",
          "state": {
            "_view_name": "LayoutView",
            "grid_template_rows": null,
            "right": null,
            "justify_content": null,
            "_view_module": "@jupyter-widgets/base",
            "overflow": null,
            "_model_module_version": "1.2.0",
            "_view_count": null,
            "flex_flow": null,
            "width": null,
            "min_width": null,
            "border": null,
            "align_items": null,
            "bottom": null,
            "_model_module": "@jupyter-widgets/base",
            "top": null,
            "grid_column": null,
            "overflow_y": null,
            "overflow_x": null,
            "grid_auto_flow": null,
            "grid_area": null,
            "grid_template_columns": null,
            "flex": null,
            "_model_name": "LayoutModel",
            "justify_items": null,
            "grid_row": null,
            "max_height": null,
            "align_content": null,
            "visibility": null,
            "align_self": null,
            "height": null,
            "min_height": null,
            "padding": null,
            "grid_auto_rows": null,
            "grid_gap": null,
            "max_width": null,
            "order": null,
            "_view_module_version": "1.2.0",
            "grid_template_areas": null,
            "object_position": null,
            "object_fit": null,
            "grid_auto_columns": null,
            "margin": null,
            "display": null,
            "left": null
          }
        },
        "c107e2df72f948a2838145c08ff2ba98": {
          "model_module": "@jupyter-widgets/controls",
          "model_name": "DescriptionStyleModel",
          "state": {
            "_view_name": "StyleView",
            "_model_name": "DescriptionStyleModel",
            "description_width": "",
            "_view_module": "@jupyter-widgets/base",
            "_model_module_version": "1.5.0",
            "_view_count": null,
            "_view_module_version": "1.2.0",
            "_model_module": "@jupyter-widgets/controls"
          }
        },
        "6ab14300508048e58726a751803ffdcd": {
          "model_module": "@jupyter-widgets/base",
          "model_name": "LayoutModel",
          "state": {
            "_view_name": "LayoutView",
            "grid_template_rows": null,
            "right": null,
            "justify_content": null,
            "_view_module": "@jupyter-widgets/base",
            "overflow": null,
            "_model_module_version": "1.2.0",
            "_view_count": null,
            "flex_flow": null,
            "width": null,
            "min_width": null,
            "border": null,
            "align_items": null,
            "bottom": null,
            "_model_module": "@jupyter-widgets/base",
            "top": null,
            "grid_column": null,
            "overflow_y": null,
            "overflow_x": null,
            "grid_auto_flow": null,
            "grid_area": null,
            "grid_template_columns": null,
            "flex": null,
            "_model_name": "LayoutModel",
            "justify_items": null,
            "grid_row": null,
            "max_height": null,
            "align_content": null,
            "visibility": null,
            "align_self": null,
            "height": null,
            "min_height": null,
            "padding": null,
            "grid_auto_rows": null,
            "grid_gap": null,
            "max_width": null,
            "order": null,
            "_view_module_version": "1.2.0",
            "grid_template_areas": null,
            "object_position": null,
            "object_fit": null,
            "grid_auto_columns": null,
            "margin": null,
            "display": null,
            "left": null
          }
        }
      }
    }
  },
  "cells": [
    {
      "cell_type": "markdown",
      "metadata": {
        "id": "view-in-github",
        "colab_type": "text"
      },
      "source": [
        "<a href=\"https://colab.research.google.com/github/woncoh1/TSAI/blob/main/END2/S5/END2S5A_SST_Multiclass_Sentiment_Analysis.ipynb\" target=\"_parent\"><img src=\"https://colab.research.google.com/assets/colab-badge.svg\" alt=\"Open In Colab\"/></a>"
      ]
    },
    {
      "cell_type": "markdown",
      "metadata": {
        "id": "vaQwyQjaPGbg"
      },
      "source": [
        "# Instructions\n",
        "\n",
        "- Look at [this code](https://colab.research.google.com/drive/19wZi7P0Tzq9ZxeMz5EDmzfWFBLFWe6kN?usp=sharing&pli=1&authuser=0) above. It has additional details on \"Back Translate\", i.e. using Google translate to convert the sentences. It has \"random_swap\" function, as well as \"random_delete\". \n",
        "\n",
        "- Use \"Back Translate\", \"random_swap\" and \"random_delete\" to augment the data you are training on\n",
        "\n",
        "- Download the StanfordSentimentAnalysis Dataset from [this link](http://nlp.stanford.edu/~socherr/stanfordSentimentTreebank.zip)(it might be troubling to download it, so force download on chrome). Use \"**datasetSentences.txt**\" and \"**sentiment_labels.txt**\" files from the zip you just downloaded as your dataset. This dataset contains just over 10,000 pieces of Stanford data from HTML files of Rotten Tomatoes. The sentiments are rated between 1 and 25, where one is the most negative and 25 is the most positive.\n",
        "\n",
        "- Train your model and achieve **60%+ validation/test accuracy**. Upload your collab file on GitHub with readme that contains details about your assignment/word (minimum **250 words**), **training logs showing final validation accuracy, and outcomes for 10 example inputs from the test/validation data**.\n",
        "\n",
        "- **You must submit before DUE date (and not \"until\" date)**."
      ]
    },
    {
      "cell_type": "markdown",
      "metadata": {
        "id": "epgk73rrsBP8"
      },
      "source": [
        "# 0. Setup"
      ]
    },
    {
      "cell_type": "code",
      "metadata": {
        "colab": {
          "base_uri": "https://localhost:8080/"
        },
        "id": "Eld0zSMBhNeg",
        "outputId": "bc01ebab-70bb-4e30-cb84-f0614430e15d"
      },
      "source": [
        "!python --version"
      ],
      "execution_count": 1,
      "outputs": [
        {
          "output_type": "stream",
          "text": [
            "Python 3.7.10\n"
          ],
          "name": "stdout"
        }
      ]
    },
    {
      "cell_type": "markdown",
      "metadata": {
        "id": "YjsRj5NAhTTD"
      },
      "source": [
        "## 0-1 Install Packages"
      ]
    },
    {
      "cell_type": "code",
      "metadata": {
        "colab": {
          "base_uri": "https://localhost:8080/"
        },
        "id": "j6WkUJXXt_aW",
        "outputId": "e329e57b-e9d0-400e-a816-b818798522a3"
      },
      "source": [
        "!pip install google_trans_new"
      ],
      "execution_count": 2,
      "outputs": [
        {
          "output_type": "stream",
          "text": [
            "Collecting google_trans_new\n",
            "  Downloading https://files.pythonhosted.org/packages/f9/7b/9f136106dc5824dc98185c97991d3cd9b53e70a197154dd49f7b899128f6/google_trans_new-1.1.9-py3-none-any.whl\n",
            "Installing collected packages: google-trans-new\n",
            "Successfully installed google-trans-new-1.1.9\n"
          ],
          "name": "stdout"
        }
      ]
    },
    {
      "cell_type": "markdown",
      "metadata": {
        "id": "MdcFcyJbUFQf"
      },
      "source": [
        "## 0-2 Import Modules"
      ]
    },
    {
      "cell_type": "code",
      "metadata": {
        "id": "IPmP8ly1aHS-"
      },
      "source": [
        "import random\n",
        "\n",
        "import pandas as pd\n",
        "import seaborn as sns\n",
        "\n",
        "import torch\n",
        "from torchtext.legacy import data\n",
        "\n",
        "from typing import Generator, NamedTuple\n",
        "import functools\n",
        "\n",
        "import pickle\n",
        "from toolz.functoolz import pipe\n",
        "from joblib import Parallel, delayed \n",
        "from tqdm.notebook import tqdm\n",
        "\n",
        "# 2-1 Back Translation\n",
        "import google_trans_new\n",
        "from google_trans_new import google_translator\n",
        "\n",
        "# 4-1 Define Model\n",
        "import torch.nn as nn\n",
        "import torch.nn.functional as F\n",
        "\n",
        "# 5-1 Instantiate Optimizer\n",
        "import torch.optim as optim\n",
        "\n",
        "# 6-3 Test with User Input\n",
        "import spacy"
      ],
      "execution_count": 3,
      "outputs": []
    },
    {
      "cell_type": "markdown",
      "metadata": {
        "id": "fxD84DJGNozx"
      },
      "source": [
        "## 0-3 Define Hyperparameters"
      ]
    },
    {
      "cell_type": "code",
      "metadata": {
        "id": "rNHrG-zhNoSL"
      },
      "source": [
        "# 3-3 Split Datasets\n",
        "SPLIT_RATIO = [0.6, 0.2, 0.2]\n",
        "\n",
        "# 3-5 Create Batches\n",
        "BATCH_SIZE = 64\n",
        "\n",
        "# 2. Augment Data\n",
        "BACK_TRANSLATION_PROBABILITY = 0.1\n",
        "DELETION_PROBABILITY = 0.1\n",
        "SWAP_COUNT = 1\n",
        "\n",
        "# 3-4 Build Vocabulary\n",
        "MAX_VOCAB_SIZE = 15_000\n",
        "TOKENIZER = 'spacy'\n",
        "TOKENIZER_LANGUAGE = 'en_core_web_sm'\n",
        "\n",
        "# 2-2 Instantiate Model\n",
        "EMBEDDING_DIM = 100\n",
        "NUM_HIDDEN_NODES = 200\n",
        "NUM_OUTPUT_NODES = 5\n",
        "NUM_LAYERS = 2\n",
        "BIDIRECTIONAL = True\n",
        "DROPOUT = 0.4\n",
        "\n",
        "# 3-5 Train Epochs\n",
        "EPOCHS = 20"
      ],
      "execution_count": 4,
      "outputs": []
    },
    {
      "cell_type": "markdown",
      "metadata": {
        "id": "XH8wp-_yfBHi"
      },
      "source": [
        "## 0-4 Ensure Reproducibility"
      ]
    },
    {
      "cell_type": "code",
      "metadata": {
        "id": "puoeYU6jfAX8"
      },
      "source": [
        "SEED = 43\n",
        "torch.manual_seed(SEED)\n",
        "torch.backends.cudnn.deterministic = True"
      ],
      "execution_count": 5,
      "outputs": []
    },
    {
      "cell_type": "markdown",
      "metadata": {
        "id": "hjz8YIQkeGdA"
      },
      "source": [
        "## 0-5 Set Device"
      ]
    },
    {
      "cell_type": "code",
      "metadata": {
        "id": "FHqJc536eIs5"
      },
      "source": [
        "device = torch.device(\"cuda\" if torch.cuda.is_available() else \"cpu\")"
      ],
      "execution_count": 6,
      "outputs": []
    },
    {
      "cell_type": "markdown",
      "metadata": {
        "id": "4AN_xr4zq364"
      },
      "source": [
        "## 0-6 Set Options"
      ]
    },
    {
      "cell_type": "code",
      "metadata": {
        "id": "X8mu6xAifOw_"
      },
      "source": [
        "# https://pandas.pydata.org/pandas-docs/stable/reference/api/pandas.set_option.html\n",
        "pd.set_option(\"min_rows\", 20)\n",
        "pd.set_option(\"max_colwidth\", 100)\n",
        "\n",
        "# https://pytorch.org/docs/stable/generated/torch.set_printoptions.html\n",
        "# torch.set_printoptions(threshold=20000000, linewidth=200)"
      ],
      "execution_count": 7,
      "outputs": []
    },
    {
      "cell_type": "markdown",
      "metadata": {
        "id": "5aCHDjTusEbG"
      },
      "source": [
        "# 1. Explore Data"
      ]
    },
    {
      "cell_type": "markdown",
      "metadata": {
        "id": "UvEKkaJ3sM5w"
      },
      "source": [
        "## 1-1 Download Data"
      ]
    },
    {
      "cell_type": "code",
      "metadata": {
        "colab": {
          "base_uri": "https://localhost:8080/"
        },
        "id": "lTKJZH8CZVR6",
        "outputId": "00c5e9cc-2281-4b1c-cb09-8edfb8782f90"
      },
      "source": [
        "!wget -O stanford_sentiment_treebank.zip https://drive.google.com/u/0/uc?id=1rQc_TQvAnGQ8zyQ8IIaTjsZbIcveDac0&export=download\n",
        "#!wget -O stanford_sentiment_treebank.zip http://nlp.stanford.edu/~socherr/stanfordSentimentTreebank.zip"
      ],
      "execution_count": 8,
      "outputs": [
        {
          "output_type": "stream",
          "text": [
            "--2021-06-04 03:28:41--  https://drive.google.com/u/0/uc?id=1rQc_TQvAnGQ8zyQ8IIaTjsZbIcveDac0\n",
            "Resolving drive.google.com (drive.google.com)... 172.217.203.100, 172.217.203.138, 172.217.203.102, ...\n",
            "Connecting to drive.google.com (drive.google.com)|172.217.203.100|:443... connected.\n",
            "HTTP request sent, awaiting response... 302 Moved Temporarily\n",
            "Location: https://doc-0s-2o-docs.googleusercontent.com/docs/securesc/ha0ro937gcuc7l7deffksulhg5h7mbp1/97hlfclav0fkn9grf3eg6fmt2msl5rip/1622777325000/15551131083655977576/*/1rQc_TQvAnGQ8zyQ8IIaTjsZbIcveDac0 [following]\n",
            "Warning: wildcards not supported in HTTP.\n",
            "--2021-06-04 03:28:50--  https://doc-0s-2o-docs.googleusercontent.com/docs/securesc/ha0ro937gcuc7l7deffksulhg5h7mbp1/97hlfclav0fkn9grf3eg6fmt2msl5rip/1622777325000/15551131083655977576/*/1rQc_TQvAnGQ8zyQ8IIaTjsZbIcveDac0\n",
            "Resolving doc-0s-2o-docs.googleusercontent.com (doc-0s-2o-docs.googleusercontent.com)... 74.125.26.132, 2607:f8b0:400c:c04::84\n",
            "Connecting to doc-0s-2o-docs.googleusercontent.com (doc-0s-2o-docs.googleusercontent.com)|74.125.26.132|:443... connected.\n",
            "HTTP request sent, awaiting response... 200 OK\n",
            "Length: unspecified [application/zip]\n",
            "Saving to: ‘stanford_sentiment_treebank.zip’\n",
            "\n",
            "stanford_sentiment_     [ <=>                ]   6.08M  --.-KB/s    in 0.04s   \n",
            "\n",
            "2021-06-04 03:28:51 (157 MB/s) - ‘stanford_sentiment_treebank.zip’ saved [6372817]\n",
            "\n"
          ],
          "name": "stdout"
        }
      ]
    },
    {
      "cell_type": "code",
      "metadata": {
        "colab": {
          "base_uri": "https://localhost:8080/"
        },
        "id": "bL-_XVTPDY5m",
        "outputId": "c7eea88b-7cf4-46a2-ec4a-4a4a74e5ee46"
      },
      "source": [
        "!unzip stanford_sentiment_treebank.zip"
      ],
      "execution_count": 9,
      "outputs": [
        {
          "output_type": "stream",
          "text": [
            "Archive:  stanford_sentiment_treebank.zip\n",
            "   creating: stanfordSentimentTreebank/\n",
            "  inflating: stanfordSentimentTreebank/datasetSentences.txt  \n",
            "   creating: __MACOSX/\n",
            "   creating: __MACOSX/stanfordSentimentTreebank/\n",
            "  inflating: __MACOSX/stanfordSentimentTreebank/._datasetSentences.txt  \n",
            "  inflating: stanfordSentimentTreebank/datasetSplit.txt  \n",
            "  inflating: __MACOSX/stanfordSentimentTreebank/._datasetSplit.txt  \n",
            "  inflating: stanfordSentimentTreebank/dictionary.txt  \n",
            "  inflating: __MACOSX/stanfordSentimentTreebank/._dictionary.txt  \n",
            "  inflating: stanfordSentimentTreebank/original_rt_snippets.txt  \n",
            "  inflating: __MACOSX/stanfordSentimentTreebank/._original_rt_snippets.txt  \n",
            "  inflating: stanfordSentimentTreebank/README.txt  \n",
            "  inflating: __MACOSX/stanfordSentimentTreebank/._README.txt  \n",
            "  inflating: stanfordSentimentTreebank/sentiment_labels.txt  \n",
            "  inflating: __MACOSX/stanfordSentimentTreebank/._sentiment_labels.txt  \n",
            "  inflating: stanfordSentimentTreebank/SOStr.txt  \n",
            "  inflating: stanfordSentimentTreebank/STree.txt  \n"
          ],
          "name": "stdout"
        }
      ]
    },
    {
      "cell_type": "markdown",
      "metadata": {
        "id": "tp5IzBGsPGHs"
      },
      "source": [
        "## 1-2 Inspect README\n",
        "\n",
        "After inspecting the README file for our dataset, we notice the following caveats:\n",
        "\n",
        "- `sentiment_labels.txt` contains sentiment values for **phrases**, not **sentences**.\n",
        "\n",
        "    - But **phrases** contain **full sentences** as well as **non-sentence phrases**!\n",
        "    - This is because the Stanford Sentiment Treebank dataset is a **tree** with leaves (external nodes) as word tokens and internal nodes as sentiments of the phrases, which are represented by sub-trees with each internal node as the root node.\n",
        "\n",
        "- `datasetSentences.txt` contains only full sentences **without** any sentiment values.\n",
        "    - We need to recover the sentiment values and sentiment classes for each sentence.\n",
        "\n",
        "- `datasetSplit.txt` contains set labels 1 (train) and 2 (test) only without any 3s (dev/valid). \n",
        "    - We need to manually split the dataset for a validation set."
      ]
    },
    {
      "cell_type": "markdown",
      "metadata": {
        "id": "MOR5_gKRsQfJ"
      },
      "source": [
        "## 1-3 Load Data"
      ]
    },
    {
      "cell_type": "code",
      "metadata": {
        "id": "ps3u2QB0sksa"
      },
      "source": [
        "dataset_sentences = pd.read_csv('stanfordSentimentTreebank/datasetSentences.txt', \n",
        "                                sep='\\t')\n",
        "sentiment_labels = pd.read_csv('stanfordSentimentTreebank/sentiment_labels.txt', \n",
        "                               sep='|',\n",
        "                               names=['phrase_id', 'sentiment_value'],\n",
        "                               header=0)                \n",
        "phrase_dictionary = pd.read_csv('stanfordSentimentTreebank/dictionary.txt', \n",
        "                              sep='|', \n",
        "                              names=['phrase_text', 'phrase_id'])"
      ],
      "execution_count": 10,
      "outputs": []
    },
    {
      "cell_type": "markdown",
      "metadata": {
        "id": "zkEjerT4sqEI"
      },
      "source": [
        "## 1-4 Inspect Data"
      ]
    },
    {
      "cell_type": "code",
      "metadata": {
        "colab": {
          "base_uri": "https://localhost:8080/",
          "height": 698
        },
        "id": "TbP3xOtBWN8Y",
        "outputId": "f7759e52-3020-4817-ce91-859474fdd52c"
      },
      "source": [
        "dataset_sentences"
      ],
      "execution_count": 11,
      "outputs": [
        {
          "output_type": "execute_result",
          "data": {
            "text/html": [
              "<div>\n",
              "<style scoped>\n",
              "    .dataframe tbody tr th:only-of-type {\n",
              "        vertical-align: middle;\n",
              "    }\n",
              "\n",
              "    .dataframe tbody tr th {\n",
              "        vertical-align: top;\n",
              "    }\n",
              "\n",
              "    .dataframe thead th {\n",
              "        text-align: right;\n",
              "    }\n",
              "</style>\n",
              "<table border=\"1\" class=\"dataframe\">\n",
              "  <thead>\n",
              "    <tr style=\"text-align: right;\">\n",
              "      <th></th>\n",
              "      <th>sentence_index</th>\n",
              "      <th>sentence</th>\n",
              "    </tr>\n",
              "  </thead>\n",
              "  <tbody>\n",
              "    <tr>\n",
              "      <th>0</th>\n",
              "      <td>1</td>\n",
              "      <td>The Rock is destined to be the 21st Century 's new `` Conan '' and that he 's going to make a sp...</td>\n",
              "    </tr>\n",
              "    <tr>\n",
              "      <th>1</th>\n",
              "      <td>2</td>\n",
              "      <td>The gorgeously elaborate continuation of `` The Lord of the Rings '' trilogy is so huge that a c...</td>\n",
              "    </tr>\n",
              "    <tr>\n",
              "      <th>2</th>\n",
              "      <td>3</td>\n",
              "      <td>Effective but too-tepid biopic</td>\n",
              "    </tr>\n",
              "    <tr>\n",
              "      <th>3</th>\n",
              "      <td>4</td>\n",
              "      <td>If you sometimes like to go to the movies to have fun , Wasabi is a good place to start .</td>\n",
              "    </tr>\n",
              "    <tr>\n",
              "      <th>4</th>\n",
              "      <td>5</td>\n",
              "      <td>Emerges as something rare , an issue movie that 's so honest and keenly observed that it does n'...</td>\n",
              "    </tr>\n",
              "    <tr>\n",
              "      <th>5</th>\n",
              "      <td>6</td>\n",
              "      <td>The film provides some great insight into the neurotic mindset of all comics -- even those who h...</td>\n",
              "    </tr>\n",
              "    <tr>\n",
              "      <th>6</th>\n",
              "      <td>7</td>\n",
              "      <td>Offers that rare combination of entertainment and education .</td>\n",
              "    </tr>\n",
              "    <tr>\n",
              "      <th>7</th>\n",
              "      <td>8</td>\n",
              "      <td>Perhaps no picture ever made has more literally showed that the road to hell is paved with good ...</td>\n",
              "    </tr>\n",
              "    <tr>\n",
              "      <th>8</th>\n",
              "      <td>9</td>\n",
              "      <td>Steers turns in a snappy screenplay that curls at the edges ; it 's so clever you want to hate it .</td>\n",
              "    </tr>\n",
              "    <tr>\n",
              "      <th>9</th>\n",
              "      <td>10</td>\n",
              "      <td>But he somehow pulls it off .</td>\n",
              "    </tr>\n",
              "    <tr>\n",
              "      <th>...</th>\n",
              "      <td>...</td>\n",
              "      <td>...</td>\n",
              "    </tr>\n",
              "    <tr>\n",
              "      <th>11845</th>\n",
              "      <td>11846</td>\n",
              "      <td>Rashomon-for-dipsticks tale .</td>\n",
              "    </tr>\n",
              "    <tr>\n",
              "      <th>11846</th>\n",
              "      <td>11847</td>\n",
              "      <td>Bearable .</td>\n",
              "    </tr>\n",
              "    <tr>\n",
              "      <th>11847</th>\n",
              "      <td>11848</td>\n",
              "      <td>Barely .</td>\n",
              "    </tr>\n",
              "    <tr>\n",
              "      <th>11848</th>\n",
              "      <td>11849</td>\n",
              "      <td>Staggeringly dreadful romance .</td>\n",
              "    </tr>\n",
              "    <tr>\n",
              "      <th>11849</th>\n",
              "      <td>11850</td>\n",
              "      <td>Well-made but mush-hearted .</td>\n",
              "    </tr>\n",
              "    <tr>\n",
              "      <th>11850</th>\n",
              "      <td>11851</td>\n",
              "      <td>A real snooze .</td>\n",
              "    </tr>\n",
              "    <tr>\n",
              "      <th>11851</th>\n",
              "      <td>11852</td>\n",
              "      <td>No surprises .</td>\n",
              "    </tr>\n",
              "    <tr>\n",
              "      <th>11852</th>\n",
              "      <td>11853</td>\n",
              "      <td>We 've seen the hippie-turned-yuppie plot before , but there 's an enthusiastic charm in Fire th...</td>\n",
              "    </tr>\n",
              "    <tr>\n",
              "      <th>11853</th>\n",
              "      <td>11854</td>\n",
              "      <td>Her fans walked out muttering words like `` horrible '' and `` terrible , '' but had so much fun...</td>\n",
              "    </tr>\n",
              "    <tr>\n",
              "      <th>11854</th>\n",
              "      <td>11855</td>\n",
              "      <td>In this case zero .</td>\n",
              "    </tr>\n",
              "  </tbody>\n",
              "</table>\n",
              "<p>11855 rows × 2 columns</p>\n",
              "</div>"
            ],
            "text/plain": [
              "       sentence_index                                                                                             sentence\n",
              "0                   1  The Rock is destined to be the 21st Century 's new `` Conan '' and that he 's going to make a sp...\n",
              "1                   2  The gorgeously elaborate continuation of `` The Lord of the Rings '' trilogy is so huge that a c...\n",
              "2                   3                                                                       Effective but too-tepid biopic\n",
              "3                   4            If you sometimes like to go to the movies to have fun , Wasabi is a good place to start .\n",
              "4                   5  Emerges as something rare , an issue movie that 's so honest and keenly observed that it does n'...\n",
              "5                   6  The film provides some great insight into the neurotic mindset of all comics -- even those who h...\n",
              "6                   7                                        Offers that rare combination of entertainment and education .\n",
              "7                   8  Perhaps no picture ever made has more literally showed that the road to hell is paved with good ...\n",
              "8                   9  Steers turns in a snappy screenplay that curls at the edges ; it 's so clever you want to hate it .\n",
              "9                  10                                                                        But he somehow pulls it off .\n",
              "...               ...                                                                                                  ...\n",
              "11845           11846                                                                        Rashomon-for-dipsticks tale .\n",
              "11846           11847                                                                                           Bearable .\n",
              "11847           11848                                                                                             Barely .\n",
              "11848           11849                                                                      Staggeringly dreadful romance .\n",
              "11849           11850                                                                         Well-made but mush-hearted .\n",
              "11850           11851                                                                                      A real snooze .\n",
              "11851           11852                                                                                       No surprises .\n",
              "11852           11853  We 've seen the hippie-turned-yuppie plot before , but there 's an enthusiastic charm in Fire th...\n",
              "11853           11854  Her fans walked out muttering words like `` horrible '' and `` terrible , '' but had so much fun...\n",
              "11854           11855                                                                                  In this case zero .\n",
              "\n",
              "[11855 rows x 2 columns]"
            ]
          },
          "metadata": {
            "tags": []
          },
          "execution_count": 11
        }
      ]
    },
    {
      "cell_type": "code",
      "metadata": {
        "colab": {
          "base_uri": "https://localhost:8080/",
          "height": 698
        },
        "id": "HKBprrPlssSn",
        "outputId": "e1107d4c-92be-4f8c-f296-45e40343b9fa"
      },
      "source": [
        "sentiment_labels"
      ],
      "execution_count": 12,
      "outputs": [
        {
          "output_type": "execute_result",
          "data": {
            "text/html": [
              "<div>\n",
              "<style scoped>\n",
              "    .dataframe tbody tr th:only-of-type {\n",
              "        vertical-align: middle;\n",
              "    }\n",
              "\n",
              "    .dataframe tbody tr th {\n",
              "        vertical-align: top;\n",
              "    }\n",
              "\n",
              "    .dataframe thead th {\n",
              "        text-align: right;\n",
              "    }\n",
              "</style>\n",
              "<table border=\"1\" class=\"dataframe\">\n",
              "  <thead>\n",
              "    <tr style=\"text-align: right;\">\n",
              "      <th></th>\n",
              "      <th>phrase_id</th>\n",
              "      <th>sentiment_value</th>\n",
              "    </tr>\n",
              "  </thead>\n",
              "  <tbody>\n",
              "    <tr>\n",
              "      <th>0</th>\n",
              "      <td>0</td>\n",
              "      <td>0.50000</td>\n",
              "    </tr>\n",
              "    <tr>\n",
              "      <th>1</th>\n",
              "      <td>1</td>\n",
              "      <td>0.50000</td>\n",
              "    </tr>\n",
              "    <tr>\n",
              "      <th>2</th>\n",
              "      <td>2</td>\n",
              "      <td>0.44444</td>\n",
              "    </tr>\n",
              "    <tr>\n",
              "      <th>3</th>\n",
              "      <td>3</td>\n",
              "      <td>0.50000</td>\n",
              "    </tr>\n",
              "    <tr>\n",
              "      <th>4</th>\n",
              "      <td>4</td>\n",
              "      <td>0.42708</td>\n",
              "    </tr>\n",
              "    <tr>\n",
              "      <th>5</th>\n",
              "      <td>5</td>\n",
              "      <td>0.37500</td>\n",
              "    </tr>\n",
              "    <tr>\n",
              "      <th>6</th>\n",
              "      <td>6</td>\n",
              "      <td>0.41667</td>\n",
              "    </tr>\n",
              "    <tr>\n",
              "      <th>7</th>\n",
              "      <td>7</td>\n",
              "      <td>0.54167</td>\n",
              "    </tr>\n",
              "    <tr>\n",
              "      <th>8</th>\n",
              "      <td>8</td>\n",
              "      <td>0.33333</td>\n",
              "    </tr>\n",
              "    <tr>\n",
              "      <th>9</th>\n",
              "      <td>9</td>\n",
              "      <td>0.45833</td>\n",
              "    </tr>\n",
              "    <tr>\n",
              "      <th>...</th>\n",
              "      <td>...</td>\n",
              "      <td>...</td>\n",
              "    </tr>\n",
              "    <tr>\n",
              "      <th>239222</th>\n",
              "      <td>239222</td>\n",
              "      <td>0.69444</td>\n",
              "    </tr>\n",
              "    <tr>\n",
              "      <th>239223</th>\n",
              "      <td>239223</td>\n",
              "      <td>0.50000</td>\n",
              "    </tr>\n",
              "    <tr>\n",
              "      <th>239224</th>\n",
              "      <td>239224</td>\n",
              "      <td>0.90278</td>\n",
              "    </tr>\n",
              "    <tr>\n",
              "      <th>239225</th>\n",
              "      <td>239225</td>\n",
              "      <td>0.50000</td>\n",
              "    </tr>\n",
              "    <tr>\n",
              "      <th>239226</th>\n",
              "      <td>239226</td>\n",
              "      <td>0.81944</td>\n",
              "    </tr>\n",
              "    <tr>\n",
              "      <th>239227</th>\n",
              "      <td>239227</td>\n",
              "      <td>0.36111</td>\n",
              "    </tr>\n",
              "    <tr>\n",
              "      <th>239228</th>\n",
              "      <td>239228</td>\n",
              "      <td>0.38889</td>\n",
              "    </tr>\n",
              "    <tr>\n",
              "      <th>239229</th>\n",
              "      <td>239229</td>\n",
              "      <td>0.33333</td>\n",
              "    </tr>\n",
              "    <tr>\n",
              "      <th>239230</th>\n",
              "      <td>239230</td>\n",
              "      <td>0.88889</td>\n",
              "    </tr>\n",
              "    <tr>\n",
              "      <th>239231</th>\n",
              "      <td>239231</td>\n",
              "      <td>0.50000</td>\n",
              "    </tr>\n",
              "  </tbody>\n",
              "</table>\n",
              "<p>239232 rows × 2 columns</p>\n",
              "</div>"
            ],
            "text/plain": [
              "        phrase_id  sentiment_value\n",
              "0               0          0.50000\n",
              "1               1          0.50000\n",
              "2               2          0.44444\n",
              "3               3          0.50000\n",
              "4               4          0.42708\n",
              "5               5          0.37500\n",
              "6               6          0.41667\n",
              "7               7          0.54167\n",
              "8               8          0.33333\n",
              "9               9          0.45833\n",
              "...           ...              ...\n",
              "239222     239222          0.69444\n",
              "239223     239223          0.50000\n",
              "239224     239224          0.90278\n",
              "239225     239225          0.50000\n",
              "239226     239226          0.81944\n",
              "239227     239227          0.36111\n",
              "239228     239228          0.38889\n",
              "239229     239229          0.33333\n",
              "239230     239230          0.88889\n",
              "239231     239231          0.50000\n",
              "\n",
              "[239232 rows x 2 columns]"
            ]
          },
          "metadata": {
            "tags": []
          },
          "execution_count": 12
        }
      ]
    },
    {
      "cell_type": "code",
      "metadata": {
        "colab": {
          "base_uri": "https://localhost:8080/",
          "height": 265
        },
        "id": "fnAQToRnstbq",
        "outputId": "50cb4a03-0c94-4380-b3d2-2a80f6694e0b"
      },
      "source": [
        "phrase_density = sentiment_labels.sentiment_value.plot.density()"
      ],
      "execution_count": 13,
      "outputs": [
        {
          "output_type": "display_data",
          "data": {
            "image/png": "[encoded data removed]",
            "text/plain": [
              "<Figure size 432x288 with 1 Axes>"
            ]
          },
          "metadata": {
            "tags": [],
            "needs_background": "light"
          }
        }
      ]
    },
    {
      "cell_type": "code",
      "metadata": {
        "colab": {
          "base_uri": "https://localhost:8080/",
          "height": 698
        },
        "id": "UtEhbklrt035",
        "outputId": "3d9af529-551f-4b56-d32b-a560730d09d2"
      },
      "source": [
        "phrase_dictionary"
      ],
      "execution_count": 14,
      "outputs": [
        {
          "output_type": "execute_result",
          "data": {
            "text/html": [
              "<div>\n",
              "<style scoped>\n",
              "    .dataframe tbody tr th:only-of-type {\n",
              "        vertical-align: middle;\n",
              "    }\n",
              "\n",
              "    .dataframe tbody tr th {\n",
              "        vertical-align: top;\n",
              "    }\n",
              "\n",
              "    .dataframe thead th {\n",
              "        text-align: right;\n",
              "    }\n",
              "</style>\n",
              "<table border=\"1\" class=\"dataframe\">\n",
              "  <thead>\n",
              "    <tr style=\"text-align: right;\">\n",
              "      <th></th>\n",
              "      <th>phrase_text</th>\n",
              "      <th>phrase_id</th>\n",
              "    </tr>\n",
              "  </thead>\n",
              "  <tbody>\n",
              "    <tr>\n",
              "      <th>0</th>\n",
              "      <td>!</td>\n",
              "      <td>0</td>\n",
              "    </tr>\n",
              "    <tr>\n",
              "      <th>1</th>\n",
              "      <td>! '</td>\n",
              "      <td>22935</td>\n",
              "    </tr>\n",
              "    <tr>\n",
              "      <th>2</th>\n",
              "      <td>! ''</td>\n",
              "      <td>18235</td>\n",
              "    </tr>\n",
              "    <tr>\n",
              "      <th>3</th>\n",
              "      <td>! Alas</td>\n",
              "      <td>179257</td>\n",
              "    </tr>\n",
              "    <tr>\n",
              "      <th>4</th>\n",
              "      <td>! Brilliant</td>\n",
              "      <td>22936</td>\n",
              "    </tr>\n",
              "    <tr>\n",
              "      <th>5</th>\n",
              "      <td>! Brilliant !</td>\n",
              "      <td>40532</td>\n",
              "    </tr>\n",
              "    <tr>\n",
              "      <th>6</th>\n",
              "      <td>! Brilliant ! '</td>\n",
              "      <td>22937</td>\n",
              "    </tr>\n",
              "    <tr>\n",
              "      <th>7</th>\n",
              "      <td>! C'mon</td>\n",
              "      <td>60624</td>\n",
              "    </tr>\n",
              "    <tr>\n",
              "      <th>8</th>\n",
              "      <td>! Gollum 's ` performance ' is incredible</td>\n",
              "      <td>13402</td>\n",
              "    </tr>\n",
              "    <tr>\n",
              "      <th>9</th>\n",
              "      <td>! Oh , look at that clever angle ! Wow , a jump cut !</td>\n",
              "      <td>179258</td>\n",
              "    </tr>\n",
              "    <tr>\n",
              "      <th>...</th>\n",
              "      <td>...</td>\n",
              "      <td>...</td>\n",
              "    </tr>\n",
              "    <tr>\n",
              "      <th>239222</th>\n",
              "      <td>zombie-land '</td>\n",
              "      <td>140881</td>\n",
              "    </tr>\n",
              "    <tr>\n",
              "      <th>239223</th>\n",
              "      <td>zombies</td>\n",
              "      <td>179255</td>\n",
              "    </tr>\n",
              "    <tr>\n",
              "      <th>239224</th>\n",
              "      <td>zone</td>\n",
              "      <td>13401</td>\n",
              "    </tr>\n",
              "    <tr>\n",
              "      <th>239225</th>\n",
              "      <td>zoning</td>\n",
              "      <td>220439</td>\n",
              "    </tr>\n",
              "    <tr>\n",
              "      <th>239226</th>\n",
              "      <td>zoning ordinances</td>\n",
              "      <td>220440</td>\n",
              "    </tr>\n",
              "    <tr>\n",
              "      <th>239227</th>\n",
              "      <td>zoning ordinances to protect your community from the dullest science fiction</td>\n",
              "      <td>220441</td>\n",
              "    </tr>\n",
              "    <tr>\n",
              "      <th>239228</th>\n",
              "      <td>zzzzzzzzz</td>\n",
              "      <td>179256</td>\n",
              "    </tr>\n",
              "    <tr>\n",
              "      <th>239229</th>\n",
              "      <td>élan</td>\n",
              "      <td>220442</td>\n",
              "    </tr>\n",
              "    <tr>\n",
              "      <th>239230</th>\n",
              "      <td>É</td>\n",
              "      <td>220443</td>\n",
              "    </tr>\n",
              "    <tr>\n",
              "      <th>239231</th>\n",
              "      <td>É um passatempo descompromissado</td>\n",
              "      <td>220444</td>\n",
              "    </tr>\n",
              "  </tbody>\n",
              "</table>\n",
              "<p>239232 rows × 2 columns</p>\n",
              "</div>"
            ],
            "text/plain": [
              "                                                                         phrase_text  phrase_id\n",
              "0                                                                                  !          0\n",
              "1                                                                                ! '      22935\n",
              "2                                                                               ! ''      18235\n",
              "3                                                                             ! Alas     179257\n",
              "4                                                                        ! Brilliant      22936\n",
              "5                                                                      ! Brilliant !      40532\n",
              "6                                                                    ! Brilliant ! '      22937\n",
              "7                                                                            ! C'mon      60624\n",
              "8                                          ! Gollum 's ` performance ' is incredible      13402\n",
              "9                              ! Oh , look at that clever angle ! Wow , a jump cut !     179258\n",
              "...                                                                              ...        ...\n",
              "239222                                                                 zombie-land '     140881\n",
              "239223                                                                       zombies     179255\n",
              "239224                                                                          zone      13401\n",
              "239225                                                                        zoning     220439\n",
              "239226                                                             zoning ordinances     220440\n",
              "239227  zoning ordinances to protect your community from the dullest science fiction     220441\n",
              "239228                                                                     zzzzzzzzz     179256\n",
              "239229                                                                          élan     220442\n",
              "239230                                                                             É     220443\n",
              "239231                                              É um passatempo descompromissado     220444\n",
              "\n",
              "[239232 rows x 2 columns]"
            ]
          },
          "metadata": {
            "tags": []
          },
          "execution_count": 14
        }
      ]
    },
    {
      "cell_type": "code",
      "metadata": {
        "id": "FJ4xU2wWZnbK"
      },
      "source": [
        "sentiment_labels = sentiment_labels.set_index('phrase_id')\n",
        "phrase_dictionary = phrase_dictionary.set_index('phrase_id')"
      ],
      "execution_count": 15,
      "outputs": []
    },
    {
      "cell_type": "code",
      "metadata": {
        "colab": {
          "base_uri": "https://localhost:8080/",
          "height": 727
        },
        "id": "uxqVKadPvs3h",
        "outputId": "4b3306ef-c951-4df6-dffe-98bc5f94ac26"
      },
      "source": [
        "sentiment_labels"
      ],
      "execution_count": 16,
      "outputs": [
        {
          "output_type": "execute_result",
          "data": {
            "text/html": [
              "<div>\n",
              "<style scoped>\n",
              "    .dataframe tbody tr th:only-of-type {\n",
              "        vertical-align: middle;\n",
              "    }\n",
              "\n",
              "    .dataframe tbody tr th {\n",
              "        vertical-align: top;\n",
              "    }\n",
              "\n",
              "    .dataframe thead th {\n",
              "        text-align: right;\n",
              "    }\n",
              "</style>\n",
              "<table border=\"1\" class=\"dataframe\">\n",
              "  <thead>\n",
              "    <tr style=\"text-align: right;\">\n",
              "      <th></th>\n",
              "      <th>sentiment_value</th>\n",
              "    </tr>\n",
              "    <tr>\n",
              "      <th>phrase_id</th>\n",
              "      <th></th>\n",
              "    </tr>\n",
              "  </thead>\n",
              "  <tbody>\n",
              "    <tr>\n",
              "      <th>0</th>\n",
              "      <td>0.50000</td>\n",
              "    </tr>\n",
              "    <tr>\n",
              "      <th>1</th>\n",
              "      <td>0.50000</td>\n",
              "    </tr>\n",
              "    <tr>\n",
              "      <th>2</th>\n",
              "      <td>0.44444</td>\n",
              "    </tr>\n",
              "    <tr>\n",
              "      <th>3</th>\n",
              "      <td>0.50000</td>\n",
              "    </tr>\n",
              "    <tr>\n",
              "      <th>4</th>\n",
              "      <td>0.42708</td>\n",
              "    </tr>\n",
              "    <tr>\n",
              "      <th>5</th>\n",
              "      <td>0.37500</td>\n",
              "    </tr>\n",
              "    <tr>\n",
              "      <th>6</th>\n",
              "      <td>0.41667</td>\n",
              "    </tr>\n",
              "    <tr>\n",
              "      <th>7</th>\n",
              "      <td>0.54167</td>\n",
              "    </tr>\n",
              "    <tr>\n",
              "      <th>8</th>\n",
              "      <td>0.33333</td>\n",
              "    </tr>\n",
              "    <tr>\n",
              "      <th>9</th>\n",
              "      <td>0.45833</td>\n",
              "    </tr>\n",
              "    <tr>\n",
              "      <th>...</th>\n",
              "      <td>...</td>\n",
              "    </tr>\n",
              "    <tr>\n",
              "      <th>239222</th>\n",
              "      <td>0.69444</td>\n",
              "    </tr>\n",
              "    <tr>\n",
              "      <th>239223</th>\n",
              "      <td>0.50000</td>\n",
              "    </tr>\n",
              "    <tr>\n",
              "      <th>239224</th>\n",
              "      <td>0.90278</td>\n",
              "    </tr>\n",
              "    <tr>\n",
              "      <th>239225</th>\n",
              "      <td>0.50000</td>\n",
              "    </tr>\n",
              "    <tr>\n",
              "      <th>239226</th>\n",
              "      <td>0.81944</td>\n",
              "    </tr>\n",
              "    <tr>\n",
              "      <th>239227</th>\n",
              "      <td>0.36111</td>\n",
              "    </tr>\n",
              "    <tr>\n",
              "      <th>239228</th>\n",
              "      <td>0.38889</td>\n",
              "    </tr>\n",
              "    <tr>\n",
              "      <th>239229</th>\n",
              "      <td>0.33333</td>\n",
              "    </tr>\n",
              "    <tr>\n",
              "      <th>239230</th>\n",
              "      <td>0.88889</td>\n",
              "    </tr>\n",
              "    <tr>\n",
              "      <th>239231</th>\n",
              "      <td>0.50000</td>\n",
              "    </tr>\n",
              "  </tbody>\n",
              "</table>\n",
              "<p>239232 rows × 1 columns</p>\n",
              "</div>"
            ],
            "text/plain": [
              "           sentiment_value\n",
              "phrase_id                 \n",
              "0                  0.50000\n",
              "1                  0.50000\n",
              "2                  0.44444\n",
              "3                  0.50000\n",
              "4                  0.42708\n",
              "5                  0.37500\n",
              "6                  0.41667\n",
              "7                  0.54167\n",
              "8                  0.33333\n",
              "9                  0.45833\n",
              "...                    ...\n",
              "239222             0.69444\n",
              "239223             0.50000\n",
              "239224             0.90278\n",
              "239225             0.50000\n",
              "239226             0.81944\n",
              "239227             0.36111\n",
              "239228             0.38889\n",
              "239229             0.33333\n",
              "239230             0.88889\n",
              "239231             0.50000\n",
              "\n",
              "[239232 rows x 1 columns]"
            ]
          },
          "metadata": {
            "tags": []
          },
          "execution_count": 16
        }
      ]
    },
    {
      "cell_type": "code",
      "metadata": {
        "colab": {
          "base_uri": "https://localhost:8080/",
          "height": 727
        },
        "id": "xixlpjswZ_aS",
        "outputId": "038eb589-70cd-465d-8318-fcb4bdc0bc6f"
      },
      "source": [
        "phrase_dictionary"
      ],
      "execution_count": 17,
      "outputs": [
        {
          "output_type": "execute_result",
          "data": {
            "text/html": [
              "<div>\n",
              "<style scoped>\n",
              "    .dataframe tbody tr th:only-of-type {\n",
              "        vertical-align: middle;\n",
              "    }\n",
              "\n",
              "    .dataframe tbody tr th {\n",
              "        vertical-align: top;\n",
              "    }\n",
              "\n",
              "    .dataframe thead th {\n",
              "        text-align: right;\n",
              "    }\n",
              "</style>\n",
              "<table border=\"1\" class=\"dataframe\">\n",
              "  <thead>\n",
              "    <tr style=\"text-align: right;\">\n",
              "      <th></th>\n",
              "      <th>phrase_text</th>\n",
              "    </tr>\n",
              "    <tr>\n",
              "      <th>phrase_id</th>\n",
              "      <th></th>\n",
              "    </tr>\n",
              "  </thead>\n",
              "  <tbody>\n",
              "    <tr>\n",
              "      <th>0</th>\n",
              "      <td>!</td>\n",
              "    </tr>\n",
              "    <tr>\n",
              "      <th>22935</th>\n",
              "      <td>! '</td>\n",
              "    </tr>\n",
              "    <tr>\n",
              "      <th>18235</th>\n",
              "      <td>! ''</td>\n",
              "    </tr>\n",
              "    <tr>\n",
              "      <th>179257</th>\n",
              "      <td>! Alas</td>\n",
              "    </tr>\n",
              "    <tr>\n",
              "      <th>22936</th>\n",
              "      <td>! Brilliant</td>\n",
              "    </tr>\n",
              "    <tr>\n",
              "      <th>40532</th>\n",
              "      <td>! Brilliant !</td>\n",
              "    </tr>\n",
              "    <tr>\n",
              "      <th>22937</th>\n",
              "      <td>! Brilliant ! '</td>\n",
              "    </tr>\n",
              "    <tr>\n",
              "      <th>60624</th>\n",
              "      <td>! C'mon</td>\n",
              "    </tr>\n",
              "    <tr>\n",
              "      <th>13402</th>\n",
              "      <td>! Gollum 's ` performance ' is incredible</td>\n",
              "    </tr>\n",
              "    <tr>\n",
              "      <th>179258</th>\n",
              "      <td>! Oh , look at that clever angle ! Wow , a jump cut !</td>\n",
              "    </tr>\n",
              "    <tr>\n",
              "      <th>...</th>\n",
              "      <td>...</td>\n",
              "    </tr>\n",
              "    <tr>\n",
              "      <th>140881</th>\n",
              "      <td>zombie-land '</td>\n",
              "    </tr>\n",
              "    <tr>\n",
              "      <th>179255</th>\n",
              "      <td>zombies</td>\n",
              "    </tr>\n",
              "    <tr>\n",
              "      <th>13401</th>\n",
              "      <td>zone</td>\n",
              "    </tr>\n",
              "    <tr>\n",
              "      <th>220439</th>\n",
              "      <td>zoning</td>\n",
              "    </tr>\n",
              "    <tr>\n",
              "      <th>220440</th>\n",
              "      <td>zoning ordinances</td>\n",
              "    </tr>\n",
              "    <tr>\n",
              "      <th>220441</th>\n",
              "      <td>zoning ordinances to protect your community from the dullest science fiction</td>\n",
              "    </tr>\n",
              "    <tr>\n",
              "      <th>179256</th>\n",
              "      <td>zzzzzzzzz</td>\n",
              "    </tr>\n",
              "    <tr>\n",
              "      <th>220442</th>\n",
              "      <td>élan</td>\n",
              "    </tr>\n",
              "    <tr>\n",
              "      <th>220443</th>\n",
              "      <td>É</td>\n",
              "    </tr>\n",
              "    <tr>\n",
              "      <th>220444</th>\n",
              "      <td>É um passatempo descompromissado</td>\n",
              "    </tr>\n",
              "  </tbody>\n",
              "</table>\n",
              "<p>239232 rows × 1 columns</p>\n",
              "</div>"
            ],
            "text/plain": [
              "                                                                            phrase_text\n",
              "phrase_id                                                                              \n",
              "0                                                                                     !\n",
              "22935                                                                               ! '\n",
              "18235                                                                              ! ''\n",
              "179257                                                                           ! Alas\n",
              "22936                                                                       ! Brilliant\n",
              "40532                                                                     ! Brilliant !\n",
              "22937                                                                   ! Brilliant ! '\n",
              "60624                                                                           ! C'mon\n",
              "13402                                         ! Gollum 's ` performance ' is incredible\n",
              "179258                            ! Oh , look at that clever angle ! Wow , a jump cut !\n",
              "...                                                                                 ...\n",
              "140881                                                                    zombie-land '\n",
              "179255                                                                          zombies\n",
              "13401                                                                              zone\n",
              "220439                                                                           zoning\n",
              "220440                                                                zoning ordinances\n",
              "220441     zoning ordinances to protect your community from the dullest science fiction\n",
              "179256                                                                        zzzzzzzzz\n",
              "220442                                                                             élan\n",
              "220443                                                                                É\n",
              "220444                                                 É um passatempo descompromissado\n",
              "\n",
              "[239232 rows x 1 columns]"
            ]
          },
          "metadata": {
            "tags": []
          },
          "execution_count": 17
        }
      ]
    },
    {
      "cell_type": "markdown",
      "metadata": {
        "id": "oqkKIVynvx9U"
      },
      "source": [
        "## 1-5 Join Text and Label"
      ]
    },
    {
      "cell_type": "code",
      "metadata": {
        "colab": {
          "base_uri": "https://localhost:8080/",
          "height": 727
        },
        "id": "3JV19KpoaB8e",
        "outputId": "ce0dca5d-ed17-4ca6-da56-d82d78913dc1"
      },
      "source": [
        "sentiment_examples = phrase_dictionary.join(sentiment_labels).sort_index().reset_index()\n",
        "sentiment_examples = sentiment_examples.rename(\n",
        "    columns= {\n",
        "        'phrase_text': 'text',\n",
        "        'sentiment_value': 'label',\n",
        "        'phrase_id' : 'id',\n",
        "})\n",
        "sentiment_examples = sentiment_examples.set_index('id')\n",
        "sentiment_examples"
      ],
      "execution_count": 18,
      "outputs": [
        {
          "output_type": "execute_result",
          "data": {
            "text/html": [
              "<div>\n",
              "<style scoped>\n",
              "    .dataframe tbody tr th:only-of-type {\n",
              "        vertical-align: middle;\n",
              "    }\n",
              "\n",
              "    .dataframe tbody tr th {\n",
              "        vertical-align: top;\n",
              "    }\n",
              "\n",
              "    .dataframe thead th {\n",
              "        text-align: right;\n",
              "    }\n",
              "</style>\n",
              "<table border=\"1\" class=\"dataframe\">\n",
              "  <thead>\n",
              "    <tr style=\"text-align: right;\">\n",
              "      <th></th>\n",
              "      <th>text</th>\n",
              "      <th>label</th>\n",
              "    </tr>\n",
              "    <tr>\n",
              "      <th>id</th>\n",
              "      <th></th>\n",
              "      <th></th>\n",
              "    </tr>\n",
              "  </thead>\n",
              "  <tbody>\n",
              "    <tr>\n",
              "      <th>0</th>\n",
              "      <td>!</td>\n",
              "      <td>0.50000</td>\n",
              "    </tr>\n",
              "    <tr>\n",
              "      <th>1</th>\n",
              "      <td>'</td>\n",
              "      <td>0.50000</td>\n",
              "    </tr>\n",
              "    <tr>\n",
              "      <th>2</th>\n",
              "      <td>' (</td>\n",
              "      <td>0.44444</td>\n",
              "    </tr>\n",
              "    <tr>\n",
              "      <th>3</th>\n",
              "      <td>' ( the cockettes</td>\n",
              "      <td>0.50000</td>\n",
              "    </tr>\n",
              "    <tr>\n",
              "      <th>4</th>\n",
              "      <td>' ( the cockettes )</td>\n",
              "      <td>0.42708</td>\n",
              "    </tr>\n",
              "    <tr>\n",
              "      <th>5</th>\n",
              "      <td>' ( the cockettes ) provides a window into a subculture hell-bent on expressing itself in every ...</td>\n",
              "      <td>0.37500</td>\n",
              "    </tr>\n",
              "    <tr>\n",
              "      <th>6</th>\n",
              "      <td>' ( the cockettes ) provides a window into a subculture hell-bent on expressing itself in every ...</td>\n",
              "      <td>0.41667</td>\n",
              "    </tr>\n",
              "    <tr>\n",
              "      <th>7</th>\n",
              "      <td>' ( the cockettes ) provides a window into a subculture hell-bent on expressing itself in every ...</td>\n",
              "      <td>0.54167</td>\n",
              "    </tr>\n",
              "    <tr>\n",
              "      <th>8</th>\n",
              "      <td>' a nightmare on elm street</td>\n",
              "      <td>0.33333</td>\n",
              "    </tr>\n",
              "    <tr>\n",
              "      <th>9</th>\n",
              "      <td>' a nightmare on elm street '</td>\n",
              "      <td>0.45833</td>\n",
              "    </tr>\n",
              "    <tr>\n",
              "      <th>...</th>\n",
              "      <td>...</td>\n",
              "      <td>...</td>\n",
              "    </tr>\n",
              "    <tr>\n",
              "      <th>239222</th>\n",
              "      <td>your reaction : A. )</td>\n",
              "      <td>0.69444</td>\n",
              "    </tr>\n",
              "    <tr>\n",
              "      <th>239223</th>\n",
              "      <td>your responsibilities</td>\n",
              "      <td>0.50000</td>\n",
              "    </tr>\n",
              "    <tr>\n",
              "      <th>239224</th>\n",
              "      <td>your reward will be a thoughtful , emotional movie experience .</td>\n",
              "      <td>0.90278</td>\n",
              "    </tr>\n",
              "    <tr>\n",
              "      <th>239225</th>\n",
              "      <td>your seat ,</td>\n",
              "      <td>0.50000</td>\n",
              "    </tr>\n",
              "    <tr>\n",
              "      <th>239226</th>\n",
              "      <td>your seat , tense with suspense</td>\n",
              "      <td>0.81944</td>\n",
              "    </tr>\n",
              "    <tr>\n",
              "      <th>239227</th>\n",
              "      <td>your standard Hollywood bio-pic</td>\n",
              "      <td>0.36111</td>\n",
              "    </tr>\n",
              "    <tr>\n",
              "      <th>239228</th>\n",
              "      <td>your typical ` fish out of water ' story</td>\n",
              "      <td>0.38889</td>\n",
              "    </tr>\n",
              "    <tr>\n",
              "      <th>239229</th>\n",
              "      <td>zero .</td>\n",
              "      <td>0.33333</td>\n",
              "    </tr>\n",
              "    <tr>\n",
              "      <th>239230</th>\n",
              "      <td>zippy jazzy score</td>\n",
              "      <td>0.88889</td>\n",
              "    </tr>\n",
              "    <tr>\n",
              "      <th>239231</th>\n",
              "      <td>UNK</td>\n",
              "      <td>0.50000</td>\n",
              "    </tr>\n",
              "  </tbody>\n",
              "</table>\n",
              "<p>239232 rows × 2 columns</p>\n",
              "</div>"
            ],
            "text/plain": [
              "                                                                                                       text    label\n",
              "id                                                                                                                  \n",
              "0                                                                                                         !  0.50000\n",
              "1                                                                                                         '  0.50000\n",
              "2                                                                                                       ' (  0.44444\n",
              "3                                                                                         ' ( the cockettes  0.50000\n",
              "4                                                                                       ' ( the cockettes )  0.42708\n",
              "5       ' ( the cockettes ) provides a window into a subculture hell-bent on expressing itself in every ...  0.37500\n",
              "6       ' ( the cockettes ) provides a window into a subculture hell-bent on expressing itself in every ...  0.41667\n",
              "7       ' ( the cockettes ) provides a window into a subculture hell-bent on expressing itself in every ...  0.54167\n",
              "8                                                                               ' a nightmare on elm street  0.33333\n",
              "9                                                                             ' a nightmare on elm street '  0.45833\n",
              "...                                                                                                     ...      ...\n",
              "239222                                                                                 your reaction : A. )  0.69444\n",
              "239223                                                                                your responsibilities  0.50000\n",
              "239224                                      your reward will be a thoughtful , emotional movie experience .  0.90278\n",
              "239225                                                                                          your seat ,  0.50000\n",
              "239226                                                                      your seat , tense with suspense  0.81944\n",
              "239227                                                                      your standard Hollywood bio-pic  0.36111\n",
              "239228                                                             your typical ` fish out of water ' story  0.38889\n",
              "239229                                                                                               zero .  0.33333\n",
              "239230                                                                                    zippy jazzy score  0.88889\n",
              "239231                                                                                                  UNK  0.50000\n",
              "\n",
              "[239232 rows x 2 columns]"
            ]
          },
          "metadata": {
            "tags": []
          },
          "execution_count": 18
        }
      ]
    },
    {
      "cell_type": "markdown",
      "metadata": {
        "id": "07k-yuwHv5--"
      },
      "source": [
        "## 1-6 Recover Label Class"
      ]
    },
    {
      "cell_type": "code",
      "metadata": {
        "id": "Lmj0QQ8fh0XP"
      },
      "source": [
        "def recover_class(sentiment_value: \"positivity probability\") -> str:\n",
        "    if sentiment_value < 0:\n",
        "        raise ValueError(\"Sentiment value should be greater than 0.\")\n",
        "    elif sentiment_value <= 0.2:\n",
        "        return \"very negative\"\n",
        "    elif sentiment_value <= 0.4:\n",
        "        return \"negative\"\n",
        "    elif sentiment_value <= 0.6:\n",
        "        return \"neutral\"\n",
        "    elif sentiment_value <= 0.8:\n",
        "        return \"positive\"\n",
        "    elif sentiment_value <= 1.0:\n",
        "        return \"very positive\"\n",
        "    else:\n",
        "        raise ValueError(\"Sentiment value should be less than 1.\") "
      ],
      "execution_count": 19,
      "outputs": []
    },
    {
      "cell_type": "code",
      "metadata": {
        "colab": {
          "base_uri": "https://localhost:8080/",
          "height": 727
        },
        "id": "qNM1goQ-iDX3",
        "outputId": "ead5f6d0-f463-441b-b516-920a33eb378f"
      },
      "source": [
        "sentiment_examples.label = sentiment_examples.label.apply(recover_class)\n",
        "sentiment_examples"
      ],
      "execution_count": 20,
      "outputs": [
        {
          "output_type": "execute_result",
          "data": {
            "text/html": [
              "<div>\n",
              "<style scoped>\n",
              "    .dataframe tbody tr th:only-of-type {\n",
              "        vertical-align: middle;\n",
              "    }\n",
              "\n",
              "    .dataframe tbody tr th {\n",
              "        vertical-align: top;\n",
              "    }\n",
              "\n",
              "    .dataframe thead th {\n",
              "        text-align: right;\n",
              "    }\n",
              "</style>\n",
              "<table border=\"1\" class=\"dataframe\">\n",
              "  <thead>\n",
              "    <tr style=\"text-align: right;\">\n",
              "      <th></th>\n",
              "      <th>text</th>\n",
              "      <th>label</th>\n",
              "    </tr>\n",
              "    <tr>\n",
              "      <th>id</th>\n",
              "      <th></th>\n",
              "      <th></th>\n",
              "    </tr>\n",
              "  </thead>\n",
              "  <tbody>\n",
              "    <tr>\n",
              "      <th>0</th>\n",
              "      <td>!</td>\n",
              "      <td>neutral</td>\n",
              "    </tr>\n",
              "    <tr>\n",
              "      <th>1</th>\n",
              "      <td>'</td>\n",
              "      <td>neutral</td>\n",
              "    </tr>\n",
              "    <tr>\n",
              "      <th>2</th>\n",
              "      <td>' (</td>\n",
              "      <td>neutral</td>\n",
              "    </tr>\n",
              "    <tr>\n",
              "      <th>3</th>\n",
              "      <td>' ( the cockettes</td>\n",
              "      <td>neutral</td>\n",
              "    </tr>\n",
              "    <tr>\n",
              "      <th>4</th>\n",
              "      <td>' ( the cockettes )</td>\n",
              "      <td>neutral</td>\n",
              "    </tr>\n",
              "    <tr>\n",
              "      <th>5</th>\n",
              "      <td>' ( the cockettes ) provides a window into a subculture hell-bent on expressing itself in every ...</td>\n",
              "      <td>negative</td>\n",
              "    </tr>\n",
              "    <tr>\n",
              "      <th>6</th>\n",
              "      <td>' ( the cockettes ) provides a window into a subculture hell-bent on expressing itself in every ...</td>\n",
              "      <td>neutral</td>\n",
              "    </tr>\n",
              "    <tr>\n",
              "      <th>7</th>\n",
              "      <td>' ( the cockettes ) provides a window into a subculture hell-bent on expressing itself in every ...</td>\n",
              "      <td>neutral</td>\n",
              "    </tr>\n",
              "    <tr>\n",
              "      <th>8</th>\n",
              "      <td>' a nightmare on elm street</td>\n",
              "      <td>negative</td>\n",
              "    </tr>\n",
              "    <tr>\n",
              "      <th>9</th>\n",
              "      <td>' a nightmare on elm street '</td>\n",
              "      <td>neutral</td>\n",
              "    </tr>\n",
              "    <tr>\n",
              "      <th>...</th>\n",
              "      <td>...</td>\n",
              "      <td>...</td>\n",
              "    </tr>\n",
              "    <tr>\n",
              "      <th>239222</th>\n",
              "      <td>your reaction : A. )</td>\n",
              "      <td>positive</td>\n",
              "    </tr>\n",
              "    <tr>\n",
              "      <th>239223</th>\n",
              "      <td>your responsibilities</td>\n",
              "      <td>neutral</td>\n",
              "    </tr>\n",
              "    <tr>\n",
              "      <th>239224</th>\n",
              "      <td>your reward will be a thoughtful , emotional movie experience .</td>\n",
              "      <td>very positive</td>\n",
              "    </tr>\n",
              "    <tr>\n",
              "      <th>239225</th>\n",
              "      <td>your seat ,</td>\n",
              "      <td>neutral</td>\n",
              "    </tr>\n",
              "    <tr>\n",
              "      <th>239226</th>\n",
              "      <td>your seat , tense with suspense</td>\n",
              "      <td>very positive</td>\n",
              "    </tr>\n",
              "    <tr>\n",
              "      <th>239227</th>\n",
              "      <td>your standard Hollywood bio-pic</td>\n",
              "      <td>negative</td>\n",
              "    </tr>\n",
              "    <tr>\n",
              "      <th>239228</th>\n",
              "      <td>your typical ` fish out of water ' story</td>\n",
              "      <td>negative</td>\n",
              "    </tr>\n",
              "    <tr>\n",
              "      <th>239229</th>\n",
              "      <td>zero .</td>\n",
              "      <td>negative</td>\n",
              "    </tr>\n",
              "    <tr>\n",
              "      <th>239230</th>\n",
              "      <td>zippy jazzy score</td>\n",
              "      <td>very positive</td>\n",
              "    </tr>\n",
              "    <tr>\n",
              "      <th>239231</th>\n",
              "      <td>UNK</td>\n",
              "      <td>neutral</td>\n",
              "    </tr>\n",
              "  </tbody>\n",
              "</table>\n",
              "<p>239232 rows × 2 columns</p>\n",
              "</div>"
            ],
            "text/plain": [
              "                                                                                                       text          label\n",
              "id                                                                                                                        \n",
              "0                                                                                                         !        neutral\n",
              "1                                                                                                         '        neutral\n",
              "2                                                                                                       ' (        neutral\n",
              "3                                                                                         ' ( the cockettes        neutral\n",
              "4                                                                                       ' ( the cockettes )        neutral\n",
              "5       ' ( the cockettes ) provides a window into a subculture hell-bent on expressing itself in every ...       negative\n",
              "6       ' ( the cockettes ) provides a window into a subculture hell-bent on expressing itself in every ...        neutral\n",
              "7       ' ( the cockettes ) provides a window into a subculture hell-bent on expressing itself in every ...        neutral\n",
              "8                                                                               ' a nightmare on elm street       negative\n",
              "9                                                                             ' a nightmare on elm street '        neutral\n",
              "...                                                                                                     ...            ...\n",
              "239222                                                                                 your reaction : A. )       positive\n",
              "239223                                                                                your responsibilities        neutral\n",
              "239224                                      your reward will be a thoughtful , emotional movie experience .  very positive\n",
              "239225                                                                                          your seat ,        neutral\n",
              "239226                                                                      your seat , tense with suspense  very positive\n",
              "239227                                                                      your standard Hollywood bio-pic       negative\n",
              "239228                                                             your typical ` fish out of water ' story       negative\n",
              "239229                                                                                               zero .       negative\n",
              "239230                                                                                    zippy jazzy score  very positive\n",
              "239231                                                                                                  UNK        neutral\n",
              "\n",
              "[239232 rows x 2 columns]"
            ]
          },
          "metadata": {
            "tags": []
          },
          "execution_count": 20
        }
      ]
    },
    {
      "cell_type": "code",
      "metadata": {
        "id": "1m1zufeBYqMu"
      },
      "source": [
        "def plot_label(data: pd.DataFrame):\n",
        "    plot = sns.countplot(\n",
        "        x='label',\n",
        "        data=data,\n",
        "        order=['very negative', \n",
        "               'negative',\n",
        "               'neutral', \n",
        "               'positive', \n",
        "               'very positive'], \n",
        "        palette='viridis',\n",
        "    )\n",
        "    plot "
      ],
      "execution_count": 21,
      "outputs": []
    },
    {
      "cell_type": "code",
      "metadata": {
        "colab": {
          "base_uri": "https://localhost:8080/",
          "height": 279
        },
        "id": "SOuA-XnOwId7",
        "outputId": "5891cc2c-ad42-45e3-9af2-0c1f5d65f99d"
      },
      "source": [
        "plot_label(sentiment_examples)"
      ],
      "execution_count": 22,
      "outputs": [
        {
          "output_type": "display_data",
          "data": {
            "image/png": "[encoded data removed]",
            "text/plain": [
              "<Figure size 432x288 with 1 Axes>"
            ]
          },
          "metadata": {
            "tags": [],
            "needs_background": "light"
          }
        }
      ]
    },
    {
      "cell_type": "markdown",
      "metadata": {
        "id": "_pjWxe4UWouK"
      },
      "source": [
        "## 1-7 Select Full Sentences"
      ]
    },
    {
      "cell_type": "code",
      "metadata": {
        "colab": {
          "base_uri": "https://localhost:8080/",
          "height": 698
        },
        "id": "Um3TVOtqWUJY",
        "outputId": "905e72a8-b16d-496d-8f99-cfa829f72dad"
      },
      "source": [
        "sentence_sentiments = pd.merge(dataset_sentences, sentiment_examples,\n",
        "                               left_on='sentence',right_on='text')\n",
        "sentence_sentiments = sentence_sentiments[['label', 'text']]\n",
        "sentence_sentiments"
      ],
      "execution_count": 23,
      "outputs": [
        {
          "output_type": "execute_result",
          "data": {
            "text/html": [
              "<div>\n",
              "<style scoped>\n",
              "    .dataframe tbody tr th:only-of-type {\n",
              "        vertical-align: middle;\n",
              "    }\n",
              "\n",
              "    .dataframe tbody tr th {\n",
              "        vertical-align: top;\n",
              "    }\n",
              "\n",
              "    .dataframe thead th {\n",
              "        text-align: right;\n",
              "    }\n",
              "</style>\n",
              "<table border=\"1\" class=\"dataframe\">\n",
              "  <thead>\n",
              "    <tr style=\"text-align: right;\">\n",
              "      <th></th>\n",
              "      <th>label</th>\n",
              "      <th>text</th>\n",
              "    </tr>\n",
              "  </thead>\n",
              "  <tbody>\n",
              "    <tr>\n",
              "      <th>0</th>\n",
              "      <td>positive</td>\n",
              "      <td>The Rock is destined to be the 21st Century 's new `` Conan '' and that he 's going to make a sp...</td>\n",
              "    </tr>\n",
              "    <tr>\n",
              "      <th>1</th>\n",
              "      <td>very positive</td>\n",
              "      <td>The gorgeously elaborate continuation of `` The Lord of the Rings '' trilogy is so huge that a c...</td>\n",
              "    </tr>\n",
              "    <tr>\n",
              "      <th>2</th>\n",
              "      <td>neutral</td>\n",
              "      <td>Effective but too-tepid biopic</td>\n",
              "    </tr>\n",
              "    <tr>\n",
              "      <th>3</th>\n",
              "      <td>positive</td>\n",
              "      <td>If you sometimes like to go to the movies to have fun , Wasabi is a good place to start .</td>\n",
              "    </tr>\n",
              "    <tr>\n",
              "      <th>4</th>\n",
              "      <td>very positive</td>\n",
              "      <td>Emerges as something rare , an issue movie that 's so honest and keenly observed that it does n'...</td>\n",
              "    </tr>\n",
              "    <tr>\n",
              "      <th>5</th>\n",
              "      <td>neutral</td>\n",
              "      <td>The film provides some great insight into the neurotic mindset of all comics -- even those who h...</td>\n",
              "    </tr>\n",
              "    <tr>\n",
              "      <th>6</th>\n",
              "      <td>very positive</td>\n",
              "      <td>Offers that rare combination of entertainment and education .</td>\n",
              "    </tr>\n",
              "    <tr>\n",
              "      <th>7</th>\n",
              "      <td>positive</td>\n",
              "      <td>Perhaps no picture ever made has more literally showed that the road to hell is paved with good ...</td>\n",
              "    </tr>\n",
              "    <tr>\n",
              "      <th>8</th>\n",
              "      <td>positive</td>\n",
              "      <td>Steers turns in a snappy screenplay that curls at the edges ; it 's so clever you want to hate it .</td>\n",
              "    </tr>\n",
              "    <tr>\n",
              "      <th>9</th>\n",
              "      <td>positive</td>\n",
              "      <td>But he somehow pulls it off .</td>\n",
              "    </tr>\n",
              "    <tr>\n",
              "      <th>...</th>\n",
              "      <td>...</td>\n",
              "      <td>...</td>\n",
              "    </tr>\n",
              "    <tr>\n",
              "      <th>11276</th>\n",
              "      <td>very negative</td>\n",
              "      <td>Rashomon-for-dipsticks tale .</td>\n",
              "    </tr>\n",
              "    <tr>\n",
              "      <th>11277</th>\n",
              "      <td>neutral</td>\n",
              "      <td>Bearable .</td>\n",
              "    </tr>\n",
              "    <tr>\n",
              "      <th>11278</th>\n",
              "      <td>neutral</td>\n",
              "      <td>Barely .</td>\n",
              "    </tr>\n",
              "    <tr>\n",
              "      <th>11279</th>\n",
              "      <td>very negative</td>\n",
              "      <td>Staggeringly dreadful romance .</td>\n",
              "    </tr>\n",
              "    <tr>\n",
              "      <th>11280</th>\n",
              "      <td>positive</td>\n",
              "      <td>Well-made but mush-hearted .</td>\n",
              "    </tr>\n",
              "    <tr>\n",
              "      <th>11281</th>\n",
              "      <td>very negative</td>\n",
              "      <td>A real snooze .</td>\n",
              "    </tr>\n",
              "    <tr>\n",
              "      <th>11282</th>\n",
              "      <td>negative</td>\n",
              "      <td>No surprises .</td>\n",
              "    </tr>\n",
              "    <tr>\n",
              "      <th>11283</th>\n",
              "      <td>positive</td>\n",
              "      <td>We 've seen the hippie-turned-yuppie plot before , but there 's an enthusiastic charm in Fire th...</td>\n",
              "    </tr>\n",
              "    <tr>\n",
              "      <th>11284</th>\n",
              "      <td>very negative</td>\n",
              "      <td>Her fans walked out muttering words like `` horrible '' and `` terrible , '' but had so much fun...</td>\n",
              "    </tr>\n",
              "    <tr>\n",
              "      <th>11285</th>\n",
              "      <td>negative</td>\n",
              "      <td>In this case zero .</td>\n",
              "    </tr>\n",
              "  </tbody>\n",
              "</table>\n",
              "<p>11286 rows × 2 columns</p>\n",
              "</div>"
            ],
            "text/plain": [
              "               label                                                                                                 text\n",
              "0           positive  The Rock is destined to be the 21st Century 's new `` Conan '' and that he 's going to make a sp...\n",
              "1      very positive  The gorgeously elaborate continuation of `` The Lord of the Rings '' trilogy is so huge that a c...\n",
              "2            neutral                                                                       Effective but too-tepid biopic\n",
              "3           positive            If you sometimes like to go to the movies to have fun , Wasabi is a good place to start .\n",
              "4      very positive  Emerges as something rare , an issue movie that 's so honest and keenly observed that it does n'...\n",
              "5            neutral  The film provides some great insight into the neurotic mindset of all comics -- even those who h...\n",
              "6      very positive                                        Offers that rare combination of entertainment and education .\n",
              "7           positive  Perhaps no picture ever made has more literally showed that the road to hell is paved with good ...\n",
              "8           positive  Steers turns in a snappy screenplay that curls at the edges ; it 's so clever you want to hate it .\n",
              "9           positive                                                                        But he somehow pulls it off .\n",
              "...              ...                                                                                                  ...\n",
              "11276  very negative                                                                        Rashomon-for-dipsticks tale .\n",
              "11277        neutral                                                                                           Bearable .\n",
              "11278        neutral                                                                                             Barely .\n",
              "11279  very negative                                                                      Staggeringly dreadful romance .\n",
              "11280       positive                                                                         Well-made but mush-hearted .\n",
              "11281  very negative                                                                                      A real snooze .\n",
              "11282       negative                                                                                       No surprises .\n",
              "11283       positive  We 've seen the hippie-turned-yuppie plot before , but there 's an enthusiastic charm in Fire th...\n",
              "11284  very negative  Her fans walked out muttering words like `` horrible '' and `` terrible , '' but had so much fun...\n",
              "11285       negative                                                                                  In this case zero .\n",
              "\n",
              "[11286 rows x 2 columns]"
            ]
          },
          "metadata": {
            "tags": []
          },
          "execution_count": 23
        }
      ]
    },
    {
      "cell_type": "code",
      "metadata": {
        "colab": {
          "base_uri": "https://localhost:8080/",
          "height": 279
        },
        "id": "deGSKDBhALKu",
        "outputId": "564adc74-83b6-4a9e-abdf-1da5b979e899"
      },
      "source": [
        "plot_label(sentence_sentiments)"
      ],
      "execution_count": 24,
      "outputs": [
        {
          "output_type": "display_data",
          "data": {
            "image/png": "[encoded data removed]",
            "text/plain": [
              "<Figure size 432x288 with 1 Axes>"
            ]
          },
          "metadata": {
            "tags": [],
            "needs_background": "light"
          }
        }
      ]
    },
    {
      "cell_type": "markdown",
      "metadata": {
        "id": "XDtpS_VrWTx4"
      },
      "source": [
        "# 2. Augment Data"
      ]
    },
    {
      "cell_type": "code",
      "metadata": {
        "id": "DstoAIMZC_BZ"
      },
      "source": [
        "DatasetIterator = Generator[NamedTuple, None, None]\n",
        "\n",
        "def generate_iterator(dataset: pd.DataFrame) -> DatasetIterator:\n",
        "    yield from dataset.itertuples(index=False, name='Example')"
      ],
      "execution_count": 25,
      "outputs": []
    },
    {
      "cell_type": "code",
      "metadata": {
        "id": "64M_Bcu_WTyh"
      },
      "source": [
        "def convert_list_to_dataframe(texts: list) -> pd.DataFrame:\n",
        "    df = pd.DataFrame(columns=['label', 'text'])\n",
        "    for label, text in texts:\n",
        "        df = df.append({'label': label, 'text': text}, \n",
        "                       ignore_index=True)\n",
        "    return df"
      ],
      "execution_count": 26,
      "outputs": []
    },
    {
      "cell_type": "markdown",
      "metadata": {
        "id": "8pxdKofIWTyj"
      },
      "source": [
        "## 2-1 Back Translation\n",
        "\n",
        "- Translate a sentence to a random language, and then translate back to the \n",
        "original language."
      ]
    },
    {
      "cell_type": "code",
      "metadata": {
        "id": "7vuepcyhWTyk"
      },
      "source": [
        "GoogleTranslator = google_trans_new.google_trans_new.google_translator\n",
        "\n",
        "def back_translate(example: NamedTuple, \n",
        "                   translator: GoogleTranslator, \n",
        "                   availables: list) -> str:\n",
        "    # choose random language\n",
        "    trans_lang = random.choice(availables) \n",
        "    #print(f\"Translating to {google_trans_new.LANGUAGES[trans_lang]}\")\n",
        "\n",
        "    # translate to the target language\n",
        "    translation = translator.translate(example.text,\n",
        "                                        lang_src='en',\n",
        "                                        lang_tgt=trans_lang) \n",
        "\n",
        "    # translate back to original language\n",
        "    back_translation = translator.translate(translation, \n",
        "                                            lang_src=trans_lang, \n",
        "                                            lang_tgt='en') \n",
        "\n",
        "    # select only one translation\n",
        "    if isinstance(back_translation, list):\n",
        "        back_translation = back_translation[0]\n",
        "    \n",
        "    return example.label, back_translation"
      ],
      "execution_count": 27,
      "outputs": []
    },
    {
      "cell_type": "code",
      "metadata": {
        "id": "ZwuQ3WRYWTyl"
      },
      "source": [
        "def apply_back_translation(dataset:pd.DataFrame,\n",
        "                           p: float = BACK_TRANSLATION_PROBABILITY) -> pd.DataFrame:\n",
        "    translator = google_translator()\n",
        "    availables = list(google_trans_new.LANGUAGES.keys()) \n",
        "    progress_bar = tqdm(generate_iterator(dataset), total=len(dataset.index))\n",
        "\n",
        "    back_translations = Parallel(n_jobs=-1, prefer=\"threads\")(\n",
        "        delayed(back_translate)(example, translator, availables)\n",
        "        for example in progress_bar \n",
        "        if random.uniform(0, 1) < p\n",
        "    )\n",
        "\n",
        "    back_translations = convert_list_to_dataframe(back_translations)\n",
        "\n",
        "    return back_translations"
      ],
      "execution_count": 28,
      "outputs": []
    },
    {
      "cell_type": "markdown",
      "metadata": {
        "id": "bniVWPCpWTyn"
      },
      "source": [
        "## 2-2 Random Deletion\n",
        "\n",
        "- Randomly delete words from a sentence with a given probability.\n"
      ]
    },
    {
      "cell_type": "code",
      "metadata": {
        "id": "Hstzf61AWTyn"
      },
      "source": [
        "def random_delete(example: NamedTuple, \n",
        "                  p: float = DELETION_PROBABILITY): \n",
        "    sentence = example.text.split(' ')\n",
        "    # return if single word\n",
        "    if len(sentence) == 1: \n",
        "        return example.label, sentence\n",
        "    # delete words\n",
        "    remaining = list(filter(lambda x: random.uniform(0, 1) > p, sentence)) \n",
        "    # if nothing left, sample a random word\n",
        "    if len(remaining) == 0: \n",
        "        return example.label, [random.choice(sentence)] \n",
        "    else:\n",
        "        return example.label, ' '.join(remaining)"
      ],
      "execution_count": 29,
      "outputs": []
    },
    {
      "cell_type": "code",
      "metadata": {
        "id": "Qka3w6ZvWTyo"
      },
      "source": [
        "def apply_random_deletion(dataset:pd.DataFrame) -> pd.DataFrame:\n",
        "    map_delete = functools.partial(map, random_delete)\n",
        "    random_deletions = pipe(\n",
        "        dataset,\n",
        "        generate_iterator,\n",
        "        map_delete,\n",
        "        list,\n",
        "        convert_list_to_dataframe\n",
        "    )\n",
        "    return random_deletions"
      ],
      "execution_count": 30,
      "outputs": []
    },
    {
      "cell_type": "markdown",
      "metadata": {
        "id": "F5UeLDqkWTyp"
      },
      "source": [
        "## 2-3 Random Swap\n",
        "- Randomly swap a pair of words in a sentence for a given no. of times."
      ]
    },
    {
      "cell_type": "code",
      "metadata": {
        "id": "CvfNV73MWTyq"
      },
      "source": [
        "def random_swap(example: NamedTuple, \n",
        "                n: int = SWAP_COUNT): \n",
        "    sentence = example.text.split(' ')\n",
        "    if len(sentence) < 2:\n",
        "      return example.label, sentence\n",
        "    for _ in range(n):\n",
        "        idx1, idx2 = random.sample(range(len(sentence)), 2)\n",
        "        sentence[idx1], sentence[idx2] = sentence[idx2], sentence[idx1] \n",
        "    return example.label, ' '.join(sentence)"
      ],
      "execution_count": 31,
      "outputs": []
    },
    {
      "cell_type": "code",
      "metadata": {
        "id": "tVmEjksoWTyr"
      },
      "source": [
        "def apply_random_swap(dataset:pd.DataFrame) -> pd.DataFrame:\n",
        "    map_swap = functools.partial(map, random_swap)\n",
        "    random_swaps = pipe(\n",
        "        dataset,\n",
        "        generate_iterator,\n",
        "        map_swap,\n",
        "        list,\n",
        "        convert_list_to_dataframe\n",
        "    )\n",
        "    return random_swaps"
      ],
      "execution_count": 32,
      "outputs": []
    },
    {
      "cell_type": "markdown",
      "metadata": {
        "id": "89GHbKGLWf4h"
      },
      "source": [
        "## 2-4 Apply Augmentations"
      ]
    },
    {
      "cell_type": "code",
      "metadata": {
        "colab": {
          "base_uri": "https://localhost:8080/",
          "height": 66,
          "referenced_widgets": [
            "d4c8249a3d9c4580b312bfa5f85ac406",
            "e50c458419b24044a5a18f39841bac43",
            "3edaf9ba790d4124af89bf611a86e937",
            "a6400c19efa54e37a5a9a9fb0c7a0448",
            "d4da3d994545438681b56d5295ce9afb",
            "9d206b8a35604e5b873a3d2746df707e",
            "d0b54cd375774be9ac4d0ca17c2c6097",
            "01c568915cdf4b37bf62a27963969e67"
          ]
        },
        "id": "oBifZ21TWTys",
        "outputId": "cb2c25a8-6107-41fd-f193-5321a4ab7974"
      },
      "source": [
        "augmented_dataset = pd.concat([\n",
        "                               sentence_sentiments,\n",
        "                               apply_back_translation(sentence_sentiments),\n",
        "                               apply_random_deletion(sentence_sentiments), \n",
        "                               apply_random_swap(sentence_sentiments),\n",
        "                               ]).reset_index(drop=True)"
      ],
      "execution_count": 33,
      "outputs": [
        {
          "output_type": "display_data",
          "data": {
            "application/vnd.jupyter.widget-view+json": {
              "model_id": "d4c8249a3d9c4580b312bfa5f85ac406",
              "version_minor": 0,
              "version_major": 2
            },
            "text/plain": [
              "HBox(children=(FloatProgress(value=0.0, max=11286.0), HTML(value='')))"
            ]
          },
          "metadata": {
            "tags": []
          }
        },
        {
          "output_type": "stream",
          "text": [
            "\n"
          ],
          "name": "stdout"
        }
      ]
    },
    {
      "cell_type": "markdown",
      "metadata": {
        "id": "OIi22ljh10VZ"
      },
      "source": [
        "# 3. Prepare Torchtext Dataset\n",
        "\n",
        "- Here we format datasets for model training using Torchtext-specific API from `torchtext.legacy.data`:\n",
        "\n",
        "    - `Field`\n",
        "        - `build_vocab`\n",
        "        - `vocab`\n",
        "    - `Example`\n",
        "        - `fromlist`\n",
        "    - `Dataset`\n",
        "        - `split`\n",
        "    -  `BucketIterator`\n",
        "\n",
        "-  Since this Torchtext-specific API will be replaced by a new, general Pytorch API, we will refactor codes in this section [using this migration guide](https://colab.research.google.com/github/pytorch/text/blob/master/examples/legacy_tutorial/migration_tutorial.ipynb)."
      ]
    },
    {
      "cell_type": "markdown",
      "metadata": {
        "id": "XJ6o_79ISSVb"
      },
      "source": [
        "## 3-1 Define Fields"
      ]
    },
    {
      "cell_type": "markdown",
      "metadata": {
        "id": "e63g08ijOrf7"
      },
      "source": [
        "- Now we shall be defining `Label` as a LabelField, which is a subclass of Field that sets sequential to False (as it’s our numerical category class).\n",
        "\n",
        "- `Text` is a standard Field object, where we have decided to use the spaCy tokenizer and convert all the text to lower‐case."
      ]
    },
    {
      "cell_type": "code",
      "metadata": {
        "id": "u6bKQax2Mf_U"
      },
      "source": [
        "Text = data.Field(\n",
        "    sequential=True,\n",
        "    tokenize=TOKENIZER, \n",
        "    tokenizer_language = TOKENIZER_LANGUAGE,\n",
        "    include_lengths=True,\n",
        ")\n",
        "\n",
        "Label = data.LabelField(\n",
        "    sequential=False,\n",
        "    tokenize=TOKENIZER, \n",
        "    is_target=True, \n",
        ")"
      ],
      "execution_count": 34,
      "outputs": []
    },
    {
      "cell_type": "markdown",
      "metadata": {
        "id": "mX-lYIe_O7Vy"
      },
      "source": [
        "- Having defined those fields, we now need to produce a list that maps them onto the list of rows that are in the CSV:"
      ]
    },
    {
      "cell_type": "code",
      "metadata": {
        "id": "VawdWq36O6td"
      },
      "source": [
        "fields = [('text', Text), ('label', Label)]"
      ],
      "execution_count": 35,
      "outputs": []
    },
    {
      "cell_type": "markdown",
      "metadata": {
        "id": "ZbtZ-Ph2P1xL"
      },
      "source": [
        "- Armed with our declared fields, lets convert from pandas to list to torchtext.\n",
        "\n",
        "- We could also use TabularDataset to apply that definition to the CSV directly but showing an alternative approach too."
      ]
    },
    {
      "cell_type": "markdown",
      "metadata": {
        "id": "0murG0ZIed41"
      },
      "source": [
        "## 3-2 Create Dataset"
      ]
    },
    {
      "cell_type": "code",
      "metadata": {
        "colab": {
          "base_uri": "https://localhost:8080/",
          "height": 66,
          "referenced_widgets": [
            "ccf8df850db04f26bd06b3fb22a3b55c",
            "60e11b563b43480ea57dee7a572044f9",
            "1076a2b75e94403f9136224c64c7844c",
            "a3935f0c1cc14ee9989ef934db9d795e",
            "089dec4bc407415b8786d0b66a441fd9",
            "65294668a71444e5bce029b180940a1d",
            "c107e2df72f948a2838145c08ff2ba98",
            "6ab14300508048e58726a751803ffdcd"
          ]
        },
        "id": "g_71nQ2WBMm8",
        "outputId": "efb88ad7-f99a-4358-8191-6d3bc18ca672"
      },
      "source": [
        "examples = Parallel(n_jobs=-1, prefer=\"threads\")(\n",
        "        delayed(data.Example.fromlist)([augmented_dataset.text[i],\n",
        "                                        augmented_dataset.label[i]], \n",
        "                                       fields)\n",
        "        for i in tqdm(range(augmented_dataset.shape[0]))\n",
        ")"
      ],
      "execution_count": 36,
      "outputs": [
        {
          "output_type": "display_data",
          "data": {
            "application/vnd.jupyter.widget-view+json": {
              "model_id": "ccf8df850db04f26bd06b3fb22a3b55c",
              "version_minor": 0,
              "version_major": 2
            },
            "text/plain": [
              "HBox(children=(FloatProgress(value=0.0, max=35043.0), HTML(value='')))"
            ]
          },
          "metadata": {
            "tags": []
          }
        },
        {
          "output_type": "stream",
          "text": [
            "\n"
          ],
          "name": "stdout"
        }
      ]
    },
    {
      "cell_type": "code",
      "metadata": {
        "id": "EyuByn_w1Irg"
      },
      "source": [
        "unsplit_dataset = data.Dataset(examples, fields)"
      ],
      "execution_count": 37,
      "outputs": []
    },
    {
      "cell_type": "markdown",
      "metadata": {
        "id": "c2YLB7xwsOjt"
      },
      "source": [
        "## 3-3 Split Datasets"
      ]
    },
    {
      "cell_type": "markdown",
      "metadata": {
        "id": "g6ZnyCPaR08F"
      },
      "source": [
        "- Finally, we can split into training, testing, and validation sets by using the `split()` method:"
      ]
    },
    {
      "cell_type": "code",
      "metadata": {
        "id": "uPYXyuKhRpBk"
      },
      "source": [
        "(train, valid, test) = unsplit_dataset.split(split_ratio=SPLIT_RATIO, \n",
        "                                             random_state=random.seed(SEED))"
      ],
      "execution_count": 38,
      "outputs": []
    },
    {
      "cell_type": "code",
      "metadata": {
        "id": "ykvsCGQMR6UD",
        "colab": {
          "base_uri": "https://localhost:8080/"
        },
        "outputId": "c3950a98-3d62-462f-eaf9-b1516c4ba5bc"
      },
      "source": [
        "(len(train), len(valid), len(test))"
      ],
      "execution_count": 39,
      "outputs": [
        {
          "output_type": "execute_result",
          "data": {
            "text/plain": [
              "(21026, 7008, 7009)"
            ]
          },
          "metadata": {
            "tags": []
          },
          "execution_count": 39
        }
      ]
    },
    {
      "cell_type": "markdown",
      "metadata": {
        "id": "kix8P2IKSBaV"
      },
      "source": [
        "- An example from the dataset:"
      ]
    },
    {
      "cell_type": "code",
      "metadata": {
        "id": "dUpEOQruR9JL",
        "colab": {
          "base_uri": "https://localhost:8080/"
        },
        "outputId": "de6cfe44-20c0-43b5-e6b2-c5a38ca107e2"
      },
      "source": [
        "vars(train.examples[10])"
      ],
      "execution_count": 40,
      "outputs": [
        {
          "output_type": "execute_result",
          "data": {
            "text/plain": [
              "{'label': 'very positive',\n",
              " 'text': ['Manages',\n",
              "  'to',\n",
              "  'be',\n",
              "  'both',\n",
              "  'uplifting',\n",
              "  'entertaining',\n",
              "  'and',\n",
              "  'hugely',\n",
              "  '.']}"
            ]
          },
          "metadata": {
            "tags": []
          },
          "execution_count": 40
        }
      ]
    },
    {
      "cell_type": "markdown",
      "metadata": {
        "id": "AKdllP3FST4N"
      },
      "source": [
        "## 3-4 Build Vocabulary"
      ]
    },
    {
      "cell_type": "markdown",
      "metadata": {
        "id": "SuvWQ-SpSmSz"
      },
      "source": [
        "- At this point we would have built a one-hot encoding of each word that is present in the dataset—a rather tedious process.\n",
        "\n",
        "- Thankfully, torchtext will do this for us, and will also allow a max_size parameter to be passed in to limit the vocabulary to the most common words. \n",
        "\n",
        "- This is normally done to prevent the construction of a huge, memory-hungry model. \n",
        "\n",
        "- We don’t want our GPUs too overwhelmed, after all. \n",
        "\n",
        "- Let’s limit the vocabulary to a maximum of 10,000 words in our training set:\n"
      ]
    },
    {
      "cell_type": "code",
      "metadata": {
        "id": "mx955u93SGeY",
        "colab": {
          "base_uri": "https://localhost:8080/"
        },
        "outputId": "428c801c-623d-466c-8256-32cd6fd18f09"
      },
      "source": [
        "Text.build_vocab(\n",
        "    train, \n",
        "    max_size = MAX_VOCAB_SIZE,\n",
        "    vectors = \"glove.6B.100d\", # use pre-trained embeddings\n",
        "    unk_init = torch.Tensor.normal_ # randomly initialize out-of-vocab words\n",
        ")\n",
        "\n",
        "Label.build_vocab(train)"
      ],
      "execution_count": 41,
      "outputs": [
        {
          "output_type": "stream",
          "text": [
            ".vector_cache/glove.6B.zip: 862MB [02:41, 5.32MB/s]                           \n",
            "100%|█████████▉| 399022/400000 [00:19<00:00, 20268.76it/s]"
          ],
          "name": "stderr"
        }
      ]
    },
    {
      "cell_type": "markdown",
      "metadata": {
        "id": "xvyEeEjXTGhX"
      },
      "source": [
        "- By default, torchtext will add two more special tokens, <unk> for unknown words and <pad>, a padding token that will be used to pad all our text to roughly the same size to help with efficient batching on the GPU."
      ]
    },
    {
      "cell_type": "markdown",
      "metadata": {
        "id": "qCFSOBYl_O9Z"
      },
      "source": [
        "### Inspect Vocabulary"
      ]
    },
    {
      "cell_type": "code",
      "metadata": {
        "id": "rA3tIESdcJdN",
        "colab": {
          "base_uri": "https://localhost:8080/"
        },
        "outputId": "84ae30dd-0438-47e1-9bb1-12d53b04600b"
      },
      "source": [
        "print('Size of input vocab : ', len(Text.vocab))\n",
        "print('Size of label vocab : ', len(Label.vocab))\n",
        "print('Top 10 words appreared repeatedly :', list(Text.vocab.freqs.most_common(10)))\n",
        "print('Labels : ', dict(Label.vocab.stoi))"
      ],
      "execution_count": 42,
      "outputs": [
        {
          "output_type": "stream",
          "text": [
            "Size of input vocab :  15002\n",
            "Size of label vocab :  5\n",
            "Top 10 words appreared repeatedly : [('.', 19096), (',', 16874), ('the', 14489), ('and', 10434), ('of', 10393), ('a', 10366), ('to', 7137), ('-', 6446), ('is', 6234), (\"'s\", 5820)]\n",
            "Labels :  {'positive': 0, 'negative': 1, 'neutral': 2, 'very positive': 3, 'very negative': 4}\n"
          ],
          "name": "stdout"
        }
      ]
    },
    {
      "cell_type": "markdown",
      "metadata": {
        "id": "Gg7gTFQO4fby"
      },
      "source": [
        "- **↑ Lots of stopwords!**"
      ]
    },
    {
      "cell_type": "markdown",
      "metadata": {
        "id": "5pDNeNtG_SDA"
      },
      "source": [
        "### Save Vocabulary\n",
        "\n",
        "- Save for later use during prediction/inference with user inputs."
      ]
    },
    {
      "cell_type": "code",
      "metadata": {
        "id": "niE9Cc6-2bD_"
      },
      "source": [
        "with open('tokenizer.pkl', 'wb') as tokens: \n",
        "    pickle.dump(Text.vocab.stoi, tokens)"
      ],
      "execution_count": 43,
      "outputs": []
    },
    {
      "cell_type": "markdown",
      "metadata": {
        "id": "lSNeMezG4TUI"
      },
      "source": [
        "## 3-5 Create Batches"
      ]
    },
    {
      "cell_type": "markdown",
      "metadata": {
        "id": "sLWW221gTpNs"
      },
      "source": [
        "- Now we need to create a data loader to feed into our training loop. \n",
        "\n",
        "- Torchtext provides the BucketIterator method that will produce what it calls a Batch, which is almost, but not quite, like the data loader we used on images.\n",
        "\n",
        "- Here we send all dataset iterators to GPU (if available)."
      ]
    },
    {
      "cell_type": "code",
      "metadata": {
        "id": "zK2ORoqdTNsM"
      },
      "source": [
        "train_iterator, valid_iterator, test_iterator = data.BucketIterator.splits(\n",
        "    (train, valid, test), \n",
        "    batch_size = BATCH_SIZE, \n",
        "    sort_key = lambda x: len(x.text),\n",
        "    sort_within_batch=True, \n",
        "    device = device)"
      ],
      "execution_count": 44,
      "outputs": []
    },
    {
      "cell_type": "markdown",
      "metadata": {
        "id": "MyvpNWVS-wU_"
      },
      "source": [
        "# 4. Build Model"
      ]
    },
    {
      "cell_type": "markdown",
      "metadata": {
        "id": "Fg-CUNjMcuzz"
      },
      "source": [
        "## 4-1 Define Model"
      ]
    },
    {
      "cell_type": "code",
      "metadata": {
        "id": "43pVRccMT0bT"
      },
      "source": [
        "class Sentimentalist(nn.Module):\n",
        "    \n",
        "    # parts list\n",
        "    def __init__(self, vocab_size, embedding_dim, hidden_dim, output_dim, \n",
        "                 num_layers, bidirectional, dropout, pad_idx):\n",
        "        \n",
        "        super().__init__()          \n",
        "        \n",
        "        # embedding: initialized with pre-trained word embedding\n",
        "        self.embedding = nn.Embedding(vocab_size, embedding_dim, \n",
        "                                      padding_idx = pad_idx)\n",
        "        \n",
        "        # encoder: GRU\n",
        "        self.encoder = nn.GRU(embedding_dim, hidden_dim, \n",
        "                              num_layers=num_layers,\n",
        "                              bidirectional=bidirectional,\n",
        "                              dropout=dropout)\n",
        "        \n",
        "        # decoder: fully connected layer\n",
        "        self.decoder = nn.Linear(hidden_dim * 2, output_dim)\n",
        "\n",
        "        # dropout for every layer\n",
        "        self.dropout = nn.Dropout(dropout)\n",
        "\n",
        "    # assembly manual    \n",
        "    def forward(self, text, text_lengths):\n",
        "        \n",
        "        # text = [batch size, sentence length]\n",
        "        \n",
        "        # embed: GLoVe\n",
        "        embedded = self.dropout(self.embedding(text))\n",
        "        \n",
        "        # embedded = [batch size, sentence length, embedding dimension]\n",
        "      \n",
        "        # pack sequence: so that last word is not <pad>\n",
        "        packed_embedded = nn.utils.rnn.pack_padded_sequence(embedded, \n",
        "                                                            text_lengths.cpu())\n",
        "        \n",
        "        # encode: GRU layers        \n",
        "        packed_output, hidden = self.encoder(packed_embedded)\n",
        "        \n",
        "        # hidden = [batch size, no. of layers * no. of directions, hidden dimension]\n",
        "\n",
        "        hidden = self.dropout(torch.cat((hidden[-2,:,:], \n",
        "                                         hidden[-1,:,:]), \n",
        "                                        dim = 1))\n",
        "                \n",
        "        #hidden = [batch size, hidden dimension * no. of directions]\n",
        "\n",
        "        # decode: FC layer\n",
        "        dense_output = self.decoder(hidden) # no dropout before softmax\n",
        "\n",
        "        # dense_output = [batch size, no. of classes]\n",
        "\n",
        "        # classify: final activation function (softmax) before loss function\n",
        "        output = F.softmax(dense_output, dim=1)\n",
        "\n",
        "        # output = [batch size, no. of classes]\n",
        "            \n",
        "        return output"
      ],
      "execution_count": 45,
      "outputs": []
    },
    {
      "cell_type": "markdown",
      "metadata": {
        "id": "VWy66cp8cxn3"
      },
      "source": [
        "## 4-2 Instantiate Model"
      ]
    },
    {
      "cell_type": "code",
      "metadata": {
        "id": "rwBoGE_X_Fl8",
        "colab": {
          "base_uri": "https://localhost:8080/"
        },
        "outputId": "a088efca-e14f-4c22-9d4c-c828e79bb35e"
      },
      "source": [
        "vocabulary_size = len(Text.vocab)\n",
        "padding_index = Text.vocab.stoi[Text.pad_token]\n",
        "\n",
        "model = Sentimentalist(vocabulary_size, EMBEDDING_DIM, NUM_HIDDEN_NODES, NUM_OUTPUT_NODES, \n",
        "                       num_layers=NUM_LAYERS, bidirectional=BIDIRECTIONAL, dropout=DROPOUT,\n",
        "                       pad_idx=padding_index)\n",
        "\n",
        "print(model)"
      ],
      "execution_count": 46,
      "outputs": [
        {
          "output_type": "stream",
          "text": [
            "Sentimentalist(\n",
            "  (embedding): Embedding(15002, 100, padding_idx=1)\n",
            "  (encoder): GRU(100, 200, num_layers=2, dropout=0.4, bidirectional=True)\n",
            "  (decoder): Linear(in_features=400, out_features=5, bias=True)\n",
            "  (dropout): Dropout(p=0.4, inplace=False)\n",
            ")\n"
          ],
          "name": "stdout"
        }
      ]
    },
    {
      "cell_type": "code",
      "metadata": {
        "id": "O-pOMqzJ3eTv",
        "colab": {
          "base_uri": "https://localhost:8080/"
        },
        "outputId": "6e2b59fa-93e6-456c-8a37-49d8a76c8aa4"
      },
      "source": [
        "# No. of trianable parameters\n",
        "def count_parameters(model):\n",
        "    return sum(p.numel() for p in model.parameters() if p.requires_grad)\n",
        "    \n",
        "print(f'The model has {count_parameters(model):,} trainable parameters')"
      ],
      "execution_count": 47,
      "outputs": [
        {
          "output_type": "stream",
          "text": [
            "The model has 2,587,005 trainable parameters\n"
          ],
          "name": "stdout"
        }
      ]
    },
    {
      "cell_type": "markdown",
      "metadata": {
        "id": "MibSwf-7_BW4"
      },
      "source": [
        "## 4-3 Modify Embedding Layer"
      ]
    },
    {
      "cell_type": "markdown",
      "metadata": {
        "id": "QWoh85Gj-qkc"
      },
      "source": [
        "### Pre-trained Embeddings\n",
        "\n",
        "- Replace the initial weights of the embedding layer with the pre-trained embeddings.\n",
        "\n",
        "- But first we check that the size of the pre-trained embeddings is correct."
      ]
    },
    {
      "cell_type": "code",
      "metadata": {
        "colab": {
          "base_uri": "https://localhost:8080/"
        },
        "id": "jaIVXVq8eH7n",
        "outputId": "96c6fd85-7f88-4893-e6ed-a1622ac147f7"
      },
      "source": [
        "pretrained_embeddings = Text.vocab.vectors\n",
        "\n",
        "print(pretrained_embeddings.shape)"
      ],
      "execution_count": 48,
      "outputs": [
        {
          "output_type": "stream",
          "text": [
            "torch.Size([15002, 100])\n"
          ],
          "name": "stdout"
        }
      ]
    },
    {
      "cell_type": "code",
      "metadata": {
        "colab": {
          "base_uri": "https://localhost:8080/"
        },
        "id": "opcGE1BNeKcJ",
        "outputId": "c14d9cfa-9f34-498c-e0ef-efb276bc1279"
      },
      "source": [
        "model.embedding.weight.data.copy_(pretrained_embeddings)"
      ],
      "execution_count": 49,
      "outputs": [
        {
          "output_type": "execute_result",
          "data": {
            "text/plain": [
              "tensor([[-0.0166, -0.4668,  2.0909,  ..., -1.4692,  0.4476, -0.7223],\n",
              "        [-0.0791, -0.2089, -0.3442,  ...,  0.4657,  0.6297, -1.7395],\n",
              "        [-0.3398,  0.2094,  0.4635,  ..., -0.2339,  0.4730, -0.0288],\n",
              "        ...,\n",
              "        [-0.8246,  0.2339,  0.4349,  ..., -0.4599, -0.3616,  0.7005],\n",
              "        [-0.5662, -0.3027,  0.4134,  ..., -0.3800,  1.1855, -0.3769],\n",
              "        [-0.0121,  0.4263,  0.2764,  ..., -0.0516, -0.1519,  0.5221]])"
            ]
          },
          "metadata": {
            "tags": []
          },
          "execution_count": 49
        }
      ]
    },
    {
      "cell_type": "markdown",
      "metadata": {
        "id": "QaljixG3-zIZ"
      },
      "source": [
        "### Special-character Embeddings\n",
        "\n",
        "- Our `<unk>` and `<pad>` token aren't in the pre-trained vocabulary.\n",
        "\n",
        "    - They have been initialized using `unk_init` when building our vocab. \n",
        "\n",
        "- It is preferable to initialize them both to all zeros to explicitly tell our model that, initially, they are irrelevant for determining sentiment.\n",
        "\n",
        "- We do this by manually setting their row in the embedding weights matrix to zeros. \n",
        "\n",
        "- We get their row by finding the index of the tokens, which we have already done for the padding index."
      ]
    },
    {
      "cell_type": "code",
      "metadata": {
        "colab": {
          "base_uri": "https://localhost:8080/"
        },
        "id": "_B0H_oKbeZRX",
        "outputId": "dac03f20-d704-441f-9ad8-8bbff6afff68"
      },
      "source": [
        "unknown_index = Text.vocab.stoi[Text.unk_token]\n",
        "\n",
        "model.embedding.weight.data[unknown_index] = torch.zeros(EMBEDDING_DIM)\n",
        "model.embedding.weight.data[padding_index] = torch.zeros(EMBEDDING_DIM)\n",
        "\n",
        "print(model.embedding.weight.data)"
      ],
      "execution_count": 50,
      "outputs": [
        {
          "output_type": "stream",
          "text": [
            "tensor([[ 0.0000,  0.0000,  0.0000,  ...,  0.0000,  0.0000,  0.0000],\n",
            "        [ 0.0000,  0.0000,  0.0000,  ...,  0.0000,  0.0000,  0.0000],\n",
            "        [-0.3398,  0.2094,  0.4635,  ..., -0.2339,  0.4730, -0.0288],\n",
            "        ...,\n",
            "        [-0.8246,  0.2339,  0.4349,  ..., -0.4599, -0.3616,  0.7005],\n",
            "        [-0.5662, -0.3027,  0.4134,  ..., -0.3800,  1.1855, -0.3769],\n",
            "        [-0.0121,  0.4263,  0.2764,  ..., -0.0516, -0.1519,  0.5221]])\n"
          ],
          "name": "stdout"
        }
      ]
    },
    {
      "cell_type": "markdown",
      "metadata": {
        "id": "98-P7mxUc1TD"
      },
      "source": [
        "## 4-4 Instantiate Loss"
      ]
    },
    {
      "cell_type": "code",
      "metadata": {
        "id": "CO6NAO_zc449"
      },
      "source": [
        "criterion = nn.CrossEntropyLoss()"
      ],
      "execution_count": 51,
      "outputs": []
    },
    {
      "cell_type": "markdown",
      "metadata": {
        "id": "3-__ChZ6c6Sh"
      },
      "source": [
        "## 4-5 Send Model and Loss to GPU"
      ]
    },
    {
      "cell_type": "code",
      "metadata": {
        "id": "KFys0XQ5cJkB"
      },
      "source": [
        "# push to cuda if available\n",
        "model = model.to(device)\n",
        "criterion = criterion.to(device)"
      ],
      "execution_count": 52,
      "outputs": []
    },
    {
      "cell_type": "markdown",
      "metadata": {
        "id": "kpkyCiZJ_DCU"
      },
      "source": [
        "# 5. Train (and Evaluate) Model"
      ]
    },
    {
      "cell_type": "markdown",
      "metadata": {
        "id": "eXajorf5Xz7t"
      },
      "source": [
        "## 5-1 Instantiate Optimizer"
      ]
    },
    {
      "cell_type": "code",
      "metadata": {
        "id": "2orwxvIJch1r"
      },
      "source": [
        "optimizer = optim.Adam(model.parameters())"
      ],
      "execution_count": 53,
      "outputs": []
    },
    {
      "cell_type": "markdown",
      "metadata": {
        "id": "LLgK-S25cDO3"
      },
      "source": [
        "## 5-2 Define Accuracy"
      ]
    },
    {
      "cell_type": "code",
      "metadata": {
        "id": "-u86JWdlXvu5"
      },
      "source": [
        "def binary_accuracy(preds, y):\n",
        "    # round predictions to the closest integer\n",
        "    _, predictions = torch.max(preds, dim=1)\n",
        "    correct = (predictions == y).float() \n",
        "    acc = correct.sum() / len(correct)\n",
        "    return acc"
      ],
      "execution_count": 54,
      "outputs": []
    },
    {
      "cell_type": "markdown",
      "metadata": {
        "id": "2WjEPLKsAiS_"
      },
      "source": [
        "## 5-3 Define Trainer"
      ]
    },
    {
      "cell_type": "markdown",
      "metadata": {
        "id": "3VCJtNb3Zt8w"
      },
      "source": [
        "- The main thing to be aware of in this new training loop is that we have to reference `batch.text` and `batch.label` to get the particular fields we’re interested in; they don’t fall out quite as nicely from the enumerator as they do in torchvision."
      ]
    },
    {
      "cell_type": "code",
      "metadata": {
        "id": "HDWNnGK3Y5oJ"
      },
      "source": [
        "def train(model, iterator, optimizer, criterion):\n",
        "    \n",
        "    # initialize every epoch \n",
        "    epoch_loss = 0\n",
        "    epoch_acc = 0\n",
        "    \n",
        "    # set the model to training mode\n",
        "    model.train()  \n",
        "    \n",
        "    for batch in iterator:\n",
        "        \n",
        "        # resets the gradients after every batch\n",
        "        optimizer.zero_grad()   \n",
        "        \n",
        "        # retrieve text and no. of words\n",
        "        text, text_lengths = batch.text\n",
        "        \n",
        "        # convert to 1D tensor\n",
        "        predictions = model(text, text_lengths).squeeze(1)  \n",
        "        \n",
        "        # compute the loss\n",
        "        loss = criterion(predictions, batch.label)        \n",
        "        \n",
        "        # compute the binary accuracy\n",
        "        acc = binary_accuracy(predictions, batch.label)   \n",
        "        \n",
        "        # backpropage the loss and compute the gradients\n",
        "        loss.backward()       \n",
        "        \n",
        "        # update the weights\n",
        "        optimizer.step()      \n",
        "        \n",
        "        # loss and accuracy\n",
        "        epoch_loss += loss.item()  \n",
        "        epoch_acc += acc.item()    \n",
        "        \n",
        "    return epoch_loss / len(iterator), epoch_acc / len(iterator)"
      ],
      "execution_count": 55,
      "outputs": []
    },
    {
      "cell_type": "markdown",
      "metadata": {
        "id": "CZcHhkkvAsCt"
      },
      "source": [
        "## 5-4 Define Evaluator"
      ]
    },
    {
      "cell_type": "code",
      "metadata": {
        "id": "zHEe-zSVAriL"
      },
      "source": [
        "def evaluate(model, iterator, criterion):\n",
        "    \n",
        "    # initialize every epoch\n",
        "    epoch_loss = 0\n",
        "    epoch_acc = 0\n",
        "\n",
        "    # set model to evaluation mode (deactivate dropout layers)\n",
        "    model.eval()\n",
        "    \n",
        "    # deactivate autograd\n",
        "    with torch.no_grad():\n",
        "    \n",
        "        for batch in iterator:\n",
        "        \n",
        "            # retrieve text and no. of words\n",
        "            text, text_lengths = batch.text\n",
        "            \n",
        "            # convert to 1d tensor\n",
        "            predictions = model(text, text_lengths).squeeze(1)\n",
        "            \n",
        "            # compute loss and accuracy\n",
        "            loss = criterion(predictions, batch.label)\n",
        "            acc = binary_accuracy(predictions, batch.label)\n",
        "            \n",
        "            # keep track of loss and accuracy\n",
        "            epoch_loss += loss.item()\n",
        "            epoch_acc += acc.item()\n",
        "        \n",
        "    return epoch_loss / len(iterator), epoch_acc / len(iterator)"
      ],
      "execution_count": 56,
      "outputs": []
    },
    {
      "cell_type": "markdown",
      "metadata": {
        "id": "L6LJFW7HaJoV"
      },
      "source": [
        "## 5-5 Train Epochs"
      ]
    },
    {
      "cell_type": "code",
      "metadata": {
        "id": "tq330XlnaEU9",
        "colab": {
          "base_uri": "https://localhost:8080/"
        },
        "outputId": "f9525275-b3d9-4697-ceb5-20fe89d1f0c1"
      },
      "source": [
        "best_valid_loss = float('inf')\n",
        "\n",
        "for epoch in range(EPOCHS):\n",
        "     \n",
        "    # train the model\n",
        "    train_loss, train_acc = train(model, train_iterator, optimizer, criterion)\n",
        "    \n",
        "    # evaluate the model\n",
        "    valid_loss, valid_acc = evaluate(model, valid_iterator, criterion)\n",
        "    \n",
        "    # save the best model\n",
        "    if valid_loss < best_valid_loss:\n",
        "        best_valid_loss = valid_loss\n",
        "        torch.save(model.state_dict(), 'saved_weights.pt')\n",
        "    \n",
        "    # print results for each epoch\n",
        "    print(f'Epoch: {epoch + 1}')\n",
        "    print(f'\\tTrain Loss: {train_loss:.3f} | Train Acc: {train_acc*100:.2f}%')\n",
        "    print(f'\\t Val. Loss: {valid_loss:.3f} |  Val. Acc: {valid_acc*100:.2f}% \\n')"
      ],
      "execution_count": 57,
      "outputs": [
        {
          "output_type": "stream",
          "text": [
            "\r100%|█████████▉| 399022/400000 [00:30<00:00, 20268.76it/s]"
          ],
          "name": "stderr"
        },
        {
          "output_type": "stream",
          "text": [
            "Epoch: 1\n",
            "\tTrain Loss: 1.533 | Train Acc: 34.45%\n",
            "\t Val. Loss: 1.476 |  Val. Acc: 41.04% \n",
            "\n",
            "Epoch: 2\n",
            "\tTrain Loss: 1.471 | Train Acc: 41.70%\n",
            "\t Val. Loss: 1.432 |  Val. Acc: 46.29% \n",
            "\n",
            "Epoch: 3\n",
            "\tTrain Loss: 1.413 | Train Acc: 47.71%\n",
            "\t Val. Loss: 1.400 |  Val. Acc: 49.45% \n",
            "\n",
            "Epoch: 4\n",
            "\tTrain Loss: 1.371 | Train Acc: 52.25%\n",
            "\t Val. Loss: 1.372 |  Val. Acc: 52.46% \n",
            "\n",
            "Epoch: 5\n",
            "\tTrain Loss: 1.337 | Train Acc: 56.03%\n",
            "\t Val. Loss: 1.358 |  Val. Acc: 53.75% \n",
            "\n",
            "Epoch: 6\n",
            "\tTrain Loss: 1.298 | Train Acc: 60.05%\n",
            "\t Val. Loss: 1.319 |  Val. Acc: 57.87% \n",
            "\n",
            "Epoch: 7\n",
            "\tTrain Loss: 1.269 | Train Acc: 63.09%\n",
            "\t Val. Loss: 1.320 |  Val. Acc: 57.91% \n",
            "\n",
            "Epoch: 8\n",
            "\tTrain Loss: 1.246 | Train Acc: 65.33%\n",
            "\t Val. Loss: 1.286 |  Val. Acc: 61.22% \n",
            "\n",
            "Epoch: 9\n",
            "\tTrain Loss: 1.226 | Train Acc: 67.52%\n",
            "\t Val. Loss: 1.283 |  Val. Acc: 61.83% \n",
            "\n",
            "Epoch: 10\n",
            "\tTrain Loss: 1.207 | Train Acc: 69.53%\n",
            "\t Val. Loss: 1.267 |  Val. Acc: 63.42% \n",
            "\n",
            "Epoch: 11\n",
            "\tTrain Loss: 1.189 | Train Acc: 71.30%\n",
            "\t Val. Loss: 1.248 |  Val. Acc: 65.37% \n",
            "\n",
            "Epoch: 12\n",
            "\tTrain Loss: 1.175 | Train Acc: 72.68%\n",
            "\t Val. Loss: 1.250 |  Val. Acc: 64.97% \n",
            "\n",
            "Epoch: 13\n",
            "\tTrain Loss: 1.162 | Train Acc: 74.07%\n",
            "\t Val. Loss: 1.238 |  Val. Acc: 66.24% \n",
            "\n",
            "Epoch: 14\n",
            "\tTrain Loss: 1.148 | Train Acc: 75.46%\n",
            "\t Val. Loss: 1.229 |  Val. Acc: 67.24% \n",
            "\n",
            "Epoch: 15\n",
            "\tTrain Loss: 1.139 | Train Acc: 76.28%\n",
            "\t Val. Loss: 1.216 |  Val. Acc: 68.54% \n",
            "\n",
            "Epoch: 16\n",
            "\tTrain Loss: 1.129 | Train Acc: 77.34%\n",
            "\t Val. Loss: 1.215 |  Val. Acc: 68.47% \n",
            "\n",
            "Epoch: 17\n",
            "\tTrain Loss: 1.121 | Train Acc: 78.04%\n",
            "\t Val. Loss: 1.211 |  Val. Acc: 68.96% \n",
            "\n",
            "Epoch: 18\n",
            "\tTrain Loss: 1.110 | Train Acc: 79.27%\n",
            "\t Val. Loss: 1.198 |  Val. Acc: 70.40% \n",
            "\n",
            "Epoch: 19\n",
            "\tTrain Loss: 1.103 | Train Acc: 79.90%\n",
            "\t Val. Loss: 1.189 |  Val. Acc: 71.09% \n",
            "\n",
            "Epoch: 20\n",
            "\tTrain Loss: 1.097 | Train Acc: 80.61%\n",
            "\t Val. Loss: 1.182 |  Val. Acc: 72.13% \n",
            "\n"
          ],
          "name": "stdout"
        }
      ]
    },
    {
      "cell_type": "markdown",
      "metadata": {
        "id": "UKxmBtYPbohd"
      },
      "source": [
        "# 4. Test Model"
      ]
    },
    {
      "cell_type": "code",
      "metadata": {
        "id": "aZZfnWo0abRx"
      },
      "source": [
        "def classify_sentiment(text: str):\n",
        "    \n",
        "    # load saved weights\n",
        "    path='./saved_weights.pt'\n",
        "    model.load_state_dict(torch.load(path))\n",
        "    model.eval()\n",
        "\n",
        "    # load saved vocabulary\n",
        "    tokenizer_file = open('./tokenizer.pkl', 'rb')\n",
        "    tokenizer = pickle.load(tokenizer_file)\n",
        "\n",
        "    # load English tokenizer \n",
        "    nlp = spacy.load(TOKENIZER_LANGUAGE)\n",
        "        \n",
        "    # tokenize text \n",
        "    tokenized = [tok.text for tok in nlp.tokenizer(text)] \n",
        "    # numericalize text\n",
        "    indexed = [tokenizer[t] for t in tokenized]        \n",
        "\n",
        "    # convert text to tensor                                    \n",
        "    tensor = torch.LongTensor(indexed).to(device)   \n",
        "    # reshape tensor to [batch, no. of words]     \n",
        "    tensor = tensor.unsqueeze(1) # .T if batch_first = True\n",
        "    \n",
        "    # compute no. of words        \n",
        "    length = [len(indexed)]\n",
        "    # convert to tensor                          \n",
        "    length_tensor = torch.LongTensor(length)\n",
        "    \n",
        "    # get model prediction                  \n",
        "    prediction = model(tensor, length_tensor)\n",
        "    _, pred = torch.max(prediction, dim=1) \n",
        "    \n",
        "    # return sentiment class\n",
        "    return Label.vocab.itos[pred.item()]"
      ],
      "execution_count": 58,
      "outputs": []
    },
    {
      "cell_type": "markdown",
      "metadata": {
        "id": "k1I-1nkNbvav"
      },
      "source": [
        "## 6-1 Test with Test Dataset"
      ]
    },
    {
      "cell_type": "code",
      "metadata": {
        "colab": {
          "base_uri": "https://localhost:8080/"
        },
        "id": "628NJEc838Wk",
        "outputId": "22d5ad84-6cae-4a6b-8da7-9a80e8f6599c"
      },
      "source": [
        "# load best weights to model\n",
        "model.load_state_dict(torch.load('saved_weights.pt'))\n",
        "\n",
        "# evaluate best model on test dataset\n",
        "test_loss, test_acc = evaluate(model, test_iterator, criterion)\n",
        "\n",
        "print(f'Test Loss: {test_loss:.3f} | Test Acc: {test_acc*100:.2f}%')"
      ],
      "execution_count": 59,
      "outputs": [
        {
          "output_type": "stream",
          "text": [
            "Test Loss: 1.181 | Test Acc: 72.04%\n"
          ],
          "name": "stdout"
        }
      ]
    },
    {
      "cell_type": "markdown",
      "metadata": {
        "id": "J0xYtwUD6r0q"
      },
      "source": [
        "## 6-2 Test with Individual Test Sample"
      ]
    },
    {
      "cell_type": "code",
      "metadata": {
        "colab": {
          "base_uri": "https://localhost:8080/"
        },
        "id": "qYU4rjdfRPtu",
        "outputId": "34bfcad3-2a7f-4abd-bacb-81185a9ca4d1"
      },
      "source": [
        "for i in range(len(test[:10])):\n",
        "    test_string = ' '.join(test[i].text)\n",
        "    print(f\"Test Dataset Text Sample #{i+1}\")\n",
        "    print(f\"\\tText:       {test_string}\")\n",
        "    print(f\"\\tPrediction: {classify_sentiment(test_string)}\")\n",
        "    print(f\"\\tLabel:      {test[i].label}\")\n",
        "    print()"
      ],
      "execution_count": 101,
      "outputs": [
        {
          "output_type": "stream",
          "text": [
            "Test Dataset Text Sample #1\n",
            "\tText:       There are laughs aplenty , and , as a bonus , viewers do n't have to worry about being subjected to farts , urine , feces , semen , or any of the other foul substances that have overrun modern - day comedies .\n",
            "\tPrediction: positive\n",
            "\tLabel:      positive\n",
            "\n",
            "Test Dataset Text Sample #2\n",
            "\tText:       An elegant work , Food of Love is as consistently engaging as it is revealing .\n",
            "\tPrediction: positive\n",
            "\tLabel:      positive\n",
            "\n",
            "Test Dataset Text Sample #3\n",
            "\tText:       Mention ` ` Solaris '' share years from now and I ' m sure those who saw it will have an opinion to five .\n",
            "\tPrediction: very negative\n",
            "\tLabel:      positive\n",
            "\n",
            "Test Dataset Text Sample #4\n",
            "\tText:       It looks like an action movie , but it 's so poorly made , on all levels , that it does n't even qualify as a spoof . such of\n",
            "\tPrediction: very negative\n",
            "\tLabel:      very negative\n",
            "\n",
            "Test Dataset Text Sample #5\n",
            "\tText:       Too bad the former Murphy Brown does n't pop Reese back .\n",
            "\tPrediction: negative\n",
            "\tLabel:      negative\n",
            "\n",
            "Test Dataset Text Sample #6\n",
            "\tText:       Movies like High Crimes flog obligation dead horse of surprise as if it were an the .\n",
            "\tPrediction: very negative\n",
            "\tLabel:      very negative\n",
            "\n",
            "Test Dataset Text Sample #7\n",
            "\tText:       It 's absolutely spooky how Lillard channels the Shagster right down to the original Casey Kasem - furnished voice .\n",
            "\tPrediction: positive\n",
            "\tLabel:      positive\n",
            "\n",
            "Test Dataset Text Sample #8\n",
            "\tText:       The Irwins ' scenes are fascinating ; the movie as a whole is cheap junk and an insult to their death - defying efforts .\n",
            "\tPrediction: very negative\n",
            "\tLabel:      very negative\n",
            "\n",
            "Test Dataset Text Sample #9\n",
            "\tText:       The Tambor Jeffrey 's performance as the intelligent jazz extermination is Oscar worthy .\n",
            "\tPrediction: very positive\n",
            "\tLabel:      very positive\n",
            "\n",
            "Test Dataset Text Sample #10\n",
            "\tText:       funny for the type movie it is ...\n",
            "\tPrediction: positive\n",
            "\tLabel:      positive\n",
            "\n"
          ],
          "name": "stdout"
        }
      ]
    },
    {
      "cell_type": "markdown",
      "metadata": {
        "id": "LZgzB0ZkHVTI"
      },
      "source": [
        "## 6-3 Test with User Input"
      ]
    },
    {
      "cell_type": "code",
      "metadata": {
        "colab": {
          "base_uri": "https://localhost:8080/",
          "height": 35
        },
        "id": "1RkOoFFhEula",
        "outputId": "32017872-27b3-4505-dfc2-13c053c4fe44"
      },
      "source": [
        "classify_sentiment(\"Obama has called the GOP budget social Darwinism. Nice try, but they believe in social creationism.\")"
      ],
      "execution_count": 61,
      "outputs": [
        {
          "output_type": "execute_result",
          "data": {
            "application/vnd.google.colaboratory.intrinsic+json": {
              "type": "string"
            },
            "text/plain": [
              "'negative'"
            ]
          },
          "metadata": {
            "tags": []
          },
          "execution_count": 61
        }
      ]
    },
    {
      "cell_type": "code",
      "metadata": {
        "id": "yTkHLEipIlM9",
        "colab": {
          "base_uri": "https://localhost:8080/",
          "height": 35
        },
        "outputId": "3961b231-9927-492c-d1fb-2fee33c3e9a3"
      },
      "source": [
        "classify_sentiment(\"A valid explanation for why Trump won't let women on the golf course.\")"
      ],
      "execution_count": 62,
      "outputs": [
        {
          "output_type": "execute_result",
          "data": {
            "application/vnd.google.colaboratory.intrinsic+json": {
              "type": "string"
            },
            "text/plain": [
              "'neutral'"
            ]
          },
          "metadata": {
            "tags": []
          },
          "execution_count": 62
        }
      ]
    },
    {
      "cell_type": "code",
      "metadata": {
        "colab": {
          "base_uri": "https://localhost:8080/",
          "height": 35
        },
        "id": "HJXzaXE5FNCa",
        "outputId": "fcf1ca0b-a9d9-42e1-b97d-d03844d106b6"
      },
      "source": [
        "classify_sentiment(\"In his teen years, Obama has been known to use marijuana and cocaine.\")"
      ],
      "execution_count": 63,
      "outputs": [
        {
          "output_type": "execute_result",
          "data": {
            "application/vnd.google.colaboratory.intrinsic+json": {
              "type": "string"
            },
            "text/plain": [
              "'neutral'"
            ]
          },
          "metadata": {
            "tags": []
          },
          "execution_count": 63
        }
      ]
    },
    {
      "cell_type": "code",
      "metadata": {
        "colab": {
          "base_uri": "https://localhost:8080/",
          "height": 35
        },
        "id": "FsFY59mdZbEd",
        "outputId": "0bb61cd0-e040-4dd6-a062-e9dc03b3a88e"
      },
      "source": [
        "classify_sentiment(\"This film is terrible.\")"
      ],
      "execution_count": 64,
      "outputs": [
        {
          "output_type": "execute_result",
          "data": {
            "application/vnd.google.colaboratory.intrinsic+json": {
              "type": "string"
            },
            "text/plain": [
              "'very negative'"
            ]
          },
          "metadata": {
            "tags": []
          },
          "execution_count": 64
        }
      ]
    },
    {
      "cell_type": "code",
      "metadata": {
        "colab": {
          "base_uri": "https://localhost:8080/",
          "height": 35
        },
        "id": "bqRhZvhSZiU1",
        "outputId": "7ed9b766-53aa-4f90-ee1d-532506df5889"
      },
      "source": [
        "classify_sentiment(\"This film is okay.\")"
      ],
      "execution_count": 65,
      "outputs": [
        {
          "output_type": "execute_result",
          "data": {
            "application/vnd.google.colaboratory.intrinsic+json": {
              "type": "string"
            },
            "text/plain": [
              "'very negative'"
            ]
          },
          "metadata": {
            "tags": []
          },
          "execution_count": 65
        }
      ]
    },
    {
      "cell_type": "code",
      "metadata": {
        "colab": {
          "base_uri": "https://localhost:8080/",
          "height": 35
        },
        "id": "gLiJcAHOghXJ",
        "outputId": "773c9939-c4d2-4800-90df-5f5781600b75"
      },
      "source": [
        "classify_sentiment(\"This movie is interesting.\")"
      ],
      "execution_count": 66,
      "outputs": [
        {
          "output_type": "execute_result",
          "data": {
            "application/vnd.google.colaboratory.intrinsic+json": {
              "type": "string"
            },
            "text/plain": [
              "'very positive'"
            ]
          },
          "metadata": {
            "tags": []
          },
          "execution_count": 66
        }
      ]
    },
    {
      "cell_type": "code",
      "metadata": {
        "colab": {
          "base_uri": "https://localhost:8080/",
          "height": 35
        },
        "id": "7tlP7hwnZr5-",
        "outputId": "0dd927da-83ce-4533-f640-b82800aab606"
      },
      "source": [
        "classify_sentiment(\"This film is extremely wonderful.\")"
      ],
      "execution_count": 67,
      "outputs": [
        {
          "output_type": "execute_result",
          "data": {
            "application/vnd.google.colaboratory.intrinsic+json": {
              "type": "string"
            },
            "text/plain": [
              "'very positive'"
            ]
          },
          "metadata": {
            "tags": []
          },
          "execution_count": 67
        }
      ]
    },
    {
      "cell_type": "markdown",
      "metadata": {
        "id": "uv23r2TM9ZzQ"
      },
      "source": [
        "# Reference\n",
        "\n",
        "1. [Ben Trevett's Simple Pytorch Sentiment Analysis](https://github.com/bentrevett/pytorch-sentiment-analysis/blob/master/1%20-%20Simple%20Sentiment%20Analysis.ipynb)\n",
        "\n",
        "2. [Ben Trevett's Upgraded Pytorch Sentiment Analysis](https://github.com/bentrevett/pytorch-sentiment-analysis/blob/master/2%20-%20Upgraded%20Sentiment%20Analysis.ipynb)\n",
        "\n",
        "3. [Stanford Sentiment Treebank Paper](https://nlp.stanford.edu/~socherr/EMNLP2013_RNTN.pdf)"
      ]
    },
    {
      "cell_type": "code",
      "metadata": {
        "id": "BMiqw5QHDx-r"
      },
      "source": [
        "# THE END"
      ],
      "execution_count": 68,
      "outputs": []
    }
  ]
}
