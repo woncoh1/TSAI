{
  "nbformat": 4,
  "nbformat_minor": 0,
  "metadata": {
    "colab": {
      "name": "Assignment_Session_3.ipynb",
      "provenance": [],
      "collapsed_sections": []
    },
    "kernelspec": {
      "name": "python3",
      "display_name": "Python 3"
    }
  },
  "cells": [
    {
      "cell_type": "markdown",
      "metadata": {
        "id": "Fzj8ldUDQA43"
      },
      "source": [
        "# Q1. PTS:100  \n",
        "Write a function using only  \n",
        "1. list \n",
        "2. filter \n",
        "3. lambda  \n",
        "\n",
        "that can tell whether a number is a Fibonacci number or not.    \n",
        "\n",
        "You can use a pre-calculated list/dict to store fab numbers till 10000.   "
      ]
    },
    {
      "cell_type": "code",
      "metadata": {
        "id": "ShVApgRSRTJM"
      },
      "source": [
        "def fibs(n: \"total number of Fibonacci numbers to be calculated\"):\n",
        "  a = 0\n",
        "  b = 1\n",
        "  for _ in range(n):\n",
        "    yield a\n",
        "    a, b = b, a + b\n",
        "\n",
        "# pre-calculated list of Fibonacci numbers\n",
        "fibs = [fib for fib in fibs(10000)]"
      ],
      "execution_count": null,
      "outputs": []
    },
    {
      "cell_type": "code",
      "metadata": {
        "id": "VO0Qixjxk2Ot",
        "outputId": "6bb20963-50ef-42ef-a9d9-cc45c1efc39f",
        "colab": {
          "base_uri": "https://localhost:8080/"
        }
      },
      "source": [
        "def is_fib(n: \"the number to be tested\"):\n",
        "  return len(list(filter(lambda x: x == n , fibs))) != 0\n",
        "\n",
        "# check whether a number is Fibonacci\n",
        "is_fib(10000)"
      ],
      "execution_count": null,
      "outputs": [
        {
          "output_type": "execute_result",
          "data": {
            "text/plain": [
              "False"
            ]
          },
          "metadata": {
            "tags": []
          },
          "execution_count": 166
        }
      ]
    },
    {
      "cell_type": "markdown",
      "metadata": {
        "id": "QK_lztY1m5qV"
      },
      "source": [
        "# Q2. PTS:100   \n",
        "Using list comprehension (and zip/lambda/etc if required) write five different expressions that: \n",
        "1. Add 2 iterables a and b such that a is even and b is odd\n",
        "2. Strips every vowel from a string provided (tsai>>ts)\n",
        "3. Acts like a ReLU function for a 1D array\n",
        "4. Acts like a sigmoid function for a 1D array\n",
        "5. Takes a small character string and shifts all characters by 5 (handle boundary conditions) tsai>>yxfn"
      ]
    },
    {
      "cell_type": "code",
      "metadata": {
        "id": "ZUtE1VunnHuT"
      },
      "source": [
        "string = 'tsai'\n",
        "vowels = ['a', 'e', 'i', 'o', 'u', 'A', 'E', 'I', 'O', 'U']\n",
        "one_d_array = [-2, -1, -0.01, 0, 0.1, 1, 2]"
      ],
      "execution_count": null,
      "outputs": []
    },
    {
      "cell_type": "markdown",
      "metadata": {
        "id": "8IqhpSdrfyhq"
      },
      "source": [
        "### 1. Add 2 iterables a and b such that a is even and b is odd"
      ]
    },
    {
      "cell_type": "code",
      "metadata": {
        "id": "PSV0FJ2jgVHo",
        "outputId": "7a01dc2a-287b-4600-d205-f6d3abb97926",
        "colab": {
          "base_uri": "https://localhost:8080/"
        }
      },
      "source": [
        "a = range(0, 20)\n",
        "b = range(0, 20)\n",
        "\n",
        "a_even = [a for a in a if a % 2 == 0]\n",
        "b_odd  = [b for b in b if b % 2 == 1]\n",
        "\n",
        "[a + b for a, b in zip(a_even, b_odd)]"
      ],
      "execution_count": 17,
      "outputs": [
        {
          "output_type": "execute_result",
          "data": {
            "text/plain": [
              "[1, 5, 9, 13, 17, 21, 25, 29, 33, 37]"
            ]
          },
          "metadata": {
            "tags": []
          },
          "execution_count": 17
        }
      ]
    },
    {
      "cell_type": "markdown",
      "metadata": {
        "id": "ScB6w4Flf7pG"
      },
      "source": [
        "### 2. Strips every vowel from a string provided (tsai>>ts)"
      ]
    },
    {
      "cell_type": "code",
      "metadata": {
        "id": "_cWvLlEPv0ia",
        "outputId": "37b960f7-9b66-48b3-cafa-f5016cc5d6ec",
        "colab": {
          "base_uri": "https://localhost:8080/",
          "height": 35
        }
      },
      "source": [
        "''.join([c for c in string if c not in vowels])"
      ],
      "execution_count": null,
      "outputs": [
        {
          "output_type": "execute_result",
          "data": {
            "application/vnd.google.colaboratory.intrinsic+json": {
              "type": "string"
            },
            "text/plain": [
              "'ts'"
            ]
          },
          "metadata": {
            "tags": []
          },
          "execution_count": 169
        }
      ]
    },
    {
      "cell_type": "markdown",
      "metadata": {
        "id": "9fYVNGzNgL4e"
      },
      "source": [
        "### 3. Acts like a ReLU function for a 1D array"
      ]
    },
    {
      "cell_type": "code",
      "metadata": {
        "id": "M9eOCjeroiRG",
        "outputId": "2c03a567-35a0-4f8d-9b8b-15b90a9e9e26",
        "colab": {
          "base_uri": "https://localhost:8080/"
        }
      },
      "source": [
        "[0 if x <= 0 else x for x in one_d_array]"
      ],
      "execution_count": null,
      "outputs": [
        {
          "output_type": "execute_result",
          "data": {
            "text/plain": [
              "[0, 0, 0, 0, 0.1, 1, 2]"
            ]
          },
          "metadata": {
            "tags": []
          },
          "execution_count": 170
        }
      ]
    },
    {
      "cell_type": "markdown",
      "metadata": {
        "id": "8XPBrTw_gPMy"
      },
      "source": [
        "### 4. Acts like a sigmoid function for a 1D array"
      ]
    },
    {
      "cell_type": "code",
      "metadata": {
        "id": "sMZeNve9qP30",
        "outputId": "49aaf333-c8ea-4508-e366-28fc2ffa4034",
        "colab": {
          "base_uri": "https://localhost:8080/"
        }
      },
      "source": [
        "import math\n",
        "[1 / (1 + math.exp(-x)) for x in one_d_array]"
      ],
      "execution_count": null,
      "outputs": [
        {
          "output_type": "execute_result",
          "data": {
            "text/plain": [
              "[0.11920292202211755,\n",
              " 0.2689414213699951,\n",
              " 0.49750002083312506,\n",
              " 0.5,\n",
              " 0.52497918747894,\n",
              " 0.7310585786300049,\n",
              " 0.8807970779778823]"
            ]
          },
          "metadata": {
            "tags": []
          },
          "execution_count": 171
        }
      ]
    },
    {
      "cell_type": "markdown",
      "metadata": {
        "id": "SO9F-tN2gSiZ"
      },
      "source": [
        "### 5. Takes a small character string and shifts all characters by 5 (handle boundary conditions) tsai>>yxfn"
      ]
    },
    {
      "cell_type": "code",
      "metadata": {
        "id": "TFietLAJqrTC",
        "outputId": "b6fed582-450d-4bef-c8b9-2dc0f3b6e678",
        "colab": {
          "base_uri": "https://localhost:8080/",
          "height": 35
        }
      },
      "source": [
        "''.join([chr((ord(c) + 5) % 122 + 96) if ord(c) + 5 > 122 \n",
        "         else chr(ord(c) + 5) for c in string])"
      ],
      "execution_count": null,
      "outputs": [
        {
          "output_type": "execute_result",
          "data": {
            "application/vnd.google.colaboratory.intrinsic+json": {
              "type": "string"
            },
            "text/plain": [
              "'yxfn'"
            ]
          },
          "metadata": {
            "tags": []
          },
          "execution_count": 172
        }
      ]
    },
    {
      "cell_type": "markdown",
      "metadata": {
        "id": "4PtJ_dn1I5_j"
      },
      "source": [
        "# Q3. PTS:200  \n",
        "A list comprehension expression that takes a ~200 word paragraph (write your own paragraph to check), and checks whether it has any of the swear words mentioned in https://github.com/RobertJGabriel/Google-profanity-words/blob/master/list.txt"
      ]
    },
    {
      "cell_type": "code",
      "metadata": {
        "id": "sk6JHedGyK76",
        "outputId": "4a6baacd-5677-4ec7-c28d-7d7843350bd8",
        "colab": {
          "base_uri": "https://localhost:8080/"
        }
      },
      "source": [
        "!wget https://raw.githubusercontent.com/RobertJGabriel/Google-profanity-words/master/list.txt\n",
        "\n",
        "with open(\"list.txt\") as f:\n",
        "    swear_words = f.read().split('\\n')\n",
        "\n",
        "print(f'No of words: {len(swear_words)}')\n",
        "print(f'Some of the words: {swear_words}')"
      ],
      "execution_count": null,
      "outputs": [
        {
          "output_type": "stream",
          "text": [
            "--2020-11-05 08:40:21--  https://raw.githubusercontent.com/RobertJGabriel/Google-profanity-words/master/list.txt\n",
            "Resolving raw.githubusercontent.com (raw.githubusercontent.com)... 151.101.0.133, 151.101.64.133, 151.101.128.133, ...\n",
            "Connecting to raw.githubusercontent.com (raw.githubusercontent.com)|151.101.0.133|:443... connected.\n",
            "HTTP request sent, awaiting response... 200 OK\n",
            "Length: 3622 (3.5K) [text/plain]\n",
            "Saving to: ‘list.txt.7’\n",
            "\n",
            "\rlist.txt.7            0%[                    ]       0  --.-KB/s               \rlist.txt.7          100%[===================>]   3.54K  --.-KB/s    in 0s      \n",
            "\n",
            "2020-11-05 08:40:21 (13.0 MB/s) - ‘list.txt.7’ saved [3622/3622]\n",
            "\n",
            "No of words: 452\n",
            "Some of the words: ['4r5e', '5h1t', '5hit', 'a55', 'anal', 'anus', 'ar5e', 'arrse', 'arse', 'ass', 'ass-fucker', 'asses', 'assfucker', 'assfukka', 'asshole', 'assholes', 'asswhole', 'a_s_s', 'b!tch', 'b00bs', 'b17ch', 'b1tch', 'ballbag', 'balls', 'ballsack', 'bastard', 'beastial', 'beastiality', 'bellend', 'bestial', 'bestiality', 'bi+ch', 'biatch', 'bitch', 'bitcher', 'bitchers', 'bitches', 'bitchin', 'bitching', 'bloody', 'blow job', 'blowjob', 'blowjobs', 'boiolas', 'bollock', 'bollok', 'boner', 'boob', 'boobs', 'booobs', 'boooobs', 'booooobs', 'booooooobs', 'breasts', 'buceta', 'bugger', 'bum', 'bunny fucker', 'butt', 'butthole', 'buttmunch', 'buttplug', 'c0ck', 'c0cksucker', 'carpet muncher', 'cawk', 'chink', 'cipa', 'cl1t', 'clit', 'clitoris', 'clits', 'cnut', 'cock', 'cock-sucker', 'cockface', 'cockhead', 'cockmunch', 'cockmuncher', 'cocks', 'cocksuck ', 'cocksucked ', 'cocksucker', 'cocksucking', 'cocksucks ', 'cocksuka', 'cocksukka', 'cok', 'cokmuncher', 'coksucka', 'coon', 'cox', 'crap', 'cum', 'cummer', 'cumming', 'cums', 'cumshot', 'cunilingus', 'cunillingus', 'cunnilingus', 'cunt', 'cuntlick ', 'cuntlicker ', 'cuntlicking ', 'cunts', 'cyalis', 'cyberfuc', 'cyberfuck ', 'cyberfucked ', 'cyberfucker', 'cyberfuckers', 'cyberfucking ', 'd1ck', 'damn', 'dick', 'dickhead', 'dildo', 'dildos', 'dink', 'dinks', 'dirsa', 'dlck', 'dog-fucker', 'doggin', 'dogging', 'donkeyribber', 'doosh', 'duche', 'dyke', 'ejaculate', 'ejaculated', 'ejaculates ', 'ejaculating ', 'ejaculatings', 'ejaculation', 'ejakulate', 'f u c k', 'f u c k e r', 'f4nny', 'fag', 'fagging', 'faggitt', 'faggot', 'faggs', 'fagot', 'fagots', 'fags', 'fanny', 'fannyflaps', 'fannyfucker', 'fanyy', 'fatass', 'fcuk', 'fcuker', 'fcuking', 'feck', 'fecker', 'felching', 'fellate', 'fellatio', 'fingerfuck ', 'fingerfucked ', 'fingerfucker ', 'fingerfuckers', 'fingerfucking ', 'fingerfucks ', 'fistfuck', 'fistfucked ', 'fistfucker ', 'fistfuckers ', 'fistfucking ', 'fistfuckings ', 'fistfucks ', 'flange', 'fook', 'fooker', 'fuck', 'fucka', 'fucked', 'fucker', 'fuckers', 'fuckhead', 'fuckheads', 'fuckin', 'fucking', 'fuckings', 'fuckingshitmotherfucker', 'fuckme ', 'fucks', 'fuckwhit', 'fuckwit', 'fudge packer', 'fudgepacker', 'fuk', 'fuker', 'fukker', 'fukkin', 'fuks', 'fukwhit', 'fukwit', 'fux', 'fux0r', 'f_u_c_k', 'gangbang', 'gangbanged ', 'gangbangs ', 'gaylord', 'gaysex', 'goatse', 'God', 'god-dam', 'god-damned', 'goddamn', 'goddamned', 'hardcoresex ', 'hell', 'heshe', 'hoar', 'hoare', 'hoer', 'homo', 'hore', 'horniest', 'horny', 'hotsex', 'jack-off ', 'jackoff', 'jap', 'jerk-off ', 'jism', 'jiz ', 'jizm ', 'jizz', 'kawk', 'knob', 'knobead', 'knobed', 'knobend', 'knobhead', 'knobjocky', 'knobjokey', 'kock', 'kondum', 'kondums', 'kum', 'kummer', 'kumming', 'kums', 'kunilingus', 'l3i+ch', 'l3itch', 'labia', 'lmfao', 'lust', 'lusting', 'm0f0', 'm0fo', 'm45terbate', 'ma5terb8', 'ma5terbate', 'masochist', 'master-bate', 'masterb8', 'masterbat*', 'masterbat3', 'masterbate', 'masterbation', 'masterbations', 'masturbate', 'mo-fo', 'mof0', 'mofo', 'mothafuck', 'mothafucka', 'mothafuckas', 'mothafuckaz', 'mothafucked ', 'mothafucker', 'mothafuckers', 'mothafuckin', 'mothafucking ', 'mothafuckings', 'mothafucks', 'mother fucker', 'motherfuck', 'motherfucked', 'motherfucker', 'motherfuckers', 'motherfuckin', 'motherfucking', 'motherfuckings', 'motherfuckka', 'motherfucks', 'muff', 'mutha', 'muthafecker', 'muthafuckker', 'muther', 'mutherfucker', 'n1gga', 'n1gger', 'nazi', 'nigg3r', 'nigg4h', 'nigga', 'niggah', 'niggas', 'niggaz', 'nigger', 'niggers ', 'nob', 'nob jokey', 'nobhead', 'nobjocky', 'nobjokey', 'numbnuts', 'nutsack', 'orgasim ', 'orgasims ', 'orgasm', 'orgasms ', 'p0rn', 'pawn', 'pecker', 'penis', 'penisfucker', 'phonesex', 'phuck', 'phuk', 'phuked', 'phuking', 'phukked', 'phukking', 'phuks', 'phuq', 'pigfucker', 'pimpis', 'piss', 'pissed', 'pisser', 'pissers', 'pisses ', 'pissflaps', 'pissin ', 'pissing', 'pissoff ', 'poop', 'porn', 'porno', 'pornography', 'pornos', 'prick', 'pricks ', 'pron', 'pube', 'pusse', 'pussi', 'pussies', 'pussy', 'pussys ', 'rectum', 'retard', 'rimjaw', 'rimming', 's hit', 's.o.b.', 'sadist', 'schlong', 'screwing', 'scroat', 'scrote', 'scrotum', 'semen', 'sex', 'sh!+', 'sh!t', 'sh1t', 'shag', 'shagger', 'shaggin', 'shagging', 'shemale', 'shi+', 'shit', 'shitdick', 'shite', 'shited', 'shitey', 'shitfuck', 'shitfull', 'shithead', 'shiting', 'shitings', 'shits', 'shitted', 'shitter', 'shitters ', 'shitting', 'shittings', 'shitty ', 'skank', 'slut', 'sluts', 'smegma', 'smut', 'snatch', 'son-of-a-bitch', 'spac', 'spunk', 's_h_i_t', 't1tt1e5', 't1tties', 'teets', 'teez', 'testical', 'testicle', 'tit', 'titfuck', 'tits', 'titt', 'tittie5', 'tittiefucker', 'titties', 'tittyfuck', 'tittywank', 'titwank', 'tosser', 'turd', 'tw4t', 'twat', 'twathead', 'twatty', 'twunt', 'twunter', 'v14gra', 'v1gra', 'vagina', 'viagra', 'vulva', 'w00se', 'wang', 'wank', 'wanker', 'wanky', 'whoar', 'whore', 'willies', 'willy', 'xrated', 'xxx', '']\n"
          ],
          "name": "stdout"
        }
      ]
    },
    {
      "cell_type": "code",
      "metadata": {
        "id": "8mjUpvH_2H1R",
        "outputId": "c69cc471-ed85-487b-87b8-b2d7b6faddda",
        "colab": {
          "base_uri": "https://localhost:8080/"
        }
      },
      "source": [
        "import nltk\n",
        "from nltk import word_tokenize\n",
        "nltk.download('punkt')"
      ],
      "execution_count": null,
      "outputs": [
        {
          "output_type": "stream",
          "text": [
            "[nltk_data] Downloading package punkt to /root/nltk_data...\n",
            "[nltk_data]   Package punkt is already up-to-date!\n"
          ],
          "name": "stdout"
        },
        {
          "output_type": "execute_result",
          "data": {
            "text/plain": [
              "True"
            ]
          },
          "metadata": {
            "tags": []
          },
          "execution_count": 174
        }
      ]
    },
    {
      "cell_type": "code",
      "metadata": {
        "id": "DL-SUKU91PfK"
      },
      "source": [
        "text = \"\"\"\n",
        "On the brink of another fuckin industrial revolution, we face a radical revision of what constitute primary factors of production. \n",
        "Data will become more precious than natural resources, \n",
        "and a piece of land will derive value primarily based on the capacity of computing infrastructure it holds. \n",
        "Robots and bots will become more productive than humans, as standardization of tools and processes accelerate automation. \n",
        "Parallelization and distribution of computation, fueled by Moore's law and suitable programming paradigms, \n",
        "will evolve more complex computational agents with intellectual and physical capabilities surpassing those of humans.\n",
        "\"\"\""
      ],
      "execution_count": null,
      "outputs": []
    },
    {
      "cell_type": "code",
      "metadata": {
        "id": "UekjSBlB1YMj",
        "outputId": "173d80d9-cbd9-4866-8445-7e5814ab75b7",
        "colab": {
          "base_uri": "https://localhost:8080/"
        }
      },
      "source": [
        "words = word_tokenize(text)\n",
        "len(words)"
      ],
      "execution_count": null,
      "outputs": [
        {
          "output_type": "execute_result",
          "data": {
            "text/plain": [
              "101"
            ]
          },
          "metadata": {
            "tags": []
          },
          "execution_count": 176
        }
      ]
    },
    {
      "cell_type": "code",
      "metadata": {
        "id": "sWWf6sAQFI-9",
        "outputId": "edd47260-4be2-4fda-ee20-d2872ff4519b",
        "colab": {
          "base_uri": "https://localhost:8080/"
        }
      },
      "source": [
        "[word for word in words if word in swear_words]"
      ],
      "execution_count": null,
      "outputs": [
        {
          "output_type": "execute_result",
          "data": {
            "text/plain": [
              "['fuckin']"
            ]
          },
          "metadata": {
            "tags": []
          },
          "execution_count": 177
        }
      ]
    },
    {
      "cell_type": "markdown",
      "metadata": {
        "id": "pf4WAsRKfGjv"
      },
      "source": [
        "# Q4. PTS:100  \n",
        "Using reduce functions: \n",
        "1. Add only even numbers in a list  \n",
        "2. Find the biggest character in a string (printable ascii characters)  \n",
        "3. Add every 3rd number in a list  "
      ]
    },
    {
      "cell_type": "code",
      "metadata": {
        "id": "B2ogEISNfCit"
      },
      "source": [
        "from functools import reduce\n",
        "\n",
        "l = [1, 2, 3, 4, 5, 6, 7, 8, 9, 10]\n",
        "s = ['a', 'b', 'c', 'd', 'e']"
      ],
      "execution_count": null,
      "outputs": []
    },
    {
      "cell_type": "markdown",
      "metadata": {
        "id": "F1TGJTnLge6H"
      },
      "source": [
        "### 1. Add only even numbers in a list  \n",
        "\n"
      ]
    },
    {
      "cell_type": "code",
      "metadata": {
        "id": "rgCLViswfo_u",
        "outputId": "1f8e059c-00c2-45ec-c5fc-c58762f1bd0f",
        "colab": {
          "base_uri": "https://localhost:8080/"
        }
      },
      "source": [
        "reduce(lambda x, y: x + y if y % 2 == 0 else x, l, 0)"
      ],
      "execution_count": null,
      "outputs": [
        {
          "output_type": "execute_result",
          "data": {
            "text/plain": [
              "30"
            ]
          },
          "metadata": {
            "tags": []
          },
          "execution_count": 179
        }
      ]
    },
    {
      "cell_type": "markdown",
      "metadata": {
        "id": "kUv8vB0Ogk3F"
      },
      "source": [
        "### 2. Find the biggest character in a string (printable ascii characters)  "
      ]
    },
    {
      "cell_type": "code",
      "metadata": {
        "id": "e1RWNHJNF01b",
        "outputId": "ebda51fb-a1e9-4b6b-9560-80dc9e7605ed",
        "colab": {
          "base_uri": "https://localhost:8080/",
          "height": 35
        }
      },
      "source": [
        "reduce(lambda x, y: x if ord(x) > ord(y) else y, s)"
      ],
      "execution_count": null,
      "outputs": [
        {
          "output_type": "execute_result",
          "data": {
            "application/vnd.google.colaboratory.intrinsic+json": {
              "type": "string"
            },
            "text/plain": [
              "'e'"
            ]
          },
          "metadata": {
            "tags": []
          },
          "execution_count": 180
        }
      ]
    },
    {
      "cell_type": "markdown",
      "metadata": {
        "id": "2dvey6zpgoSS"
      },
      "source": [
        "### 3. Add every 3rd number in a list"
      ]
    },
    {
      "cell_type": "code",
      "metadata": {
        "id": "5xGkX3_2GPy7",
        "outputId": "3b1f04b0-cbcd-496e-c1b6-5e69171db06e",
        "colab": {
          "base_uri": "https://localhost:8080/"
        }
      },
      "source": [
        "every_3rds = [val for idx, val in enumerate(l) if idx % 3 == 2]\n",
        "reduce(lambda x, y: x + y, every_3rds)"
      ],
      "execution_count": null,
      "outputs": [
        {
          "output_type": "execute_result",
          "data": {
            "text/plain": [
              "18"
            ]
          },
          "metadata": {
            "tags": []
          },
          "execution_count": 181
        }
      ]
    },
    {
      "cell_type": "markdown",
      "metadata": {
        "id": "d0_R7gzcIvWJ"
      },
      "source": [
        "# Q5. PTS:100  \n",
        "Using  \n",
        "1. randint, \n",
        "2. random.choice and  \n",
        "3. list comprehensions,  \n",
        "\n",
        "write an expression that generates 15 random KADDAADDDD number plates, where KA is fixed, D stands for a digit, and A stands for Capital alphabets. 10<<DD<<99 & 1000<<DDDD<<9999"
      ]
    },
    {
      "cell_type": "code",
      "metadata": {
        "id": "1SQ5LOFxIQ0m",
        "outputId": "554cc1bb-2e97-49d0-c70a-6d46e033f986",
        "colab": {
          "base_uri": "https://localhost:8080/"
        }
      },
      "source": [
        "import random\n",
        "import string\n",
        "\n",
        "def dd(): return str(random.randint(10, 100))\n",
        "def dddd(): return str(random.randint(1000, 10000))\n",
        "def a1(): return random.choice(string.ascii_uppercase)\n",
        "def a2(): return random.choice(string.ascii_uppercase)\n",
        "\n",
        "['KA' + dd() + a1() + a2() + dddd() for _ in range(15)]"
      ],
      "execution_count": null,
      "outputs": [
        {
          "output_type": "execute_result",
          "data": {
            "text/plain": [
              "['KA71IJ2263',\n",
              " 'KA21TJ3691',\n",
              " 'KA22SW3940',\n",
              " 'KA32OF8746',\n",
              " 'KA97GY4841',\n",
              " 'KA90AW1250',\n",
              " 'KA64FE5152',\n",
              " 'KA48UX2997',\n",
              " 'KA23EJ8953',\n",
              " 'KA15ZX6472',\n",
              " 'KA66UE3315',\n",
              " 'KA80DR6039',\n",
              " 'KA75NT3635',\n",
              " 'KA81RT6928',\n",
              " 'KA36ES3218']"
            ]
          },
          "metadata": {
            "tags": []
          },
          "execution_count": 131
        }
      ]
    },
    {
      "cell_type": "markdown",
      "metadata": {
        "id": "7QzidP3mN4yE"
      },
      "source": [
        "# Q6. PTS: 100  \n",
        "Write the above again from scratch where KA can be changed to DL, and 1000/9999 ranges can be provided."
      ]
    },
    {
      "cell_type": "code",
      "metadata": {
        "id": "2sjTcIB8N8hc",
        "outputId": "59343042-0cd5-4989-be62-6a4372b5f6a1",
        "colab": {
          "base_uri": "https://localhost:8080/"
        }
      },
      "source": [
        "def number_plates(prefix, min, max):\n",
        "  def dd(): return str(random.randint(10, 100))\n",
        "  def a1(): return random.choice(string.ascii_uppercase)\n",
        "  def a2(): return random.choice(string.ascii_uppercase)\n",
        "  def dddd(): return str(random.randint(min, max)).zfill(4)[:4]\n",
        "  return [prefix + dd() + a1() + a2() + dddd() for _ in range(15)]\n",
        "\n",
        "number_plates('DL', 0, 1000)"
      ],
      "execution_count": null,
      "outputs": [
        {
          "output_type": "execute_result",
          "data": {
            "text/plain": [
              "['DL64PL0546',\n",
              " 'DL11HR0103',\n",
              " 'DL55KM0478',\n",
              " 'DL20VG0657',\n",
              " 'DL49PO0864',\n",
              " 'DL15QK0124',\n",
              " 'DL39YX0858',\n",
              " 'DL96UB0732',\n",
              " 'DL72RH0910',\n",
              " 'DL70HX0520',\n",
              " 'DL29JG0927',\n",
              " 'DL72XO0454',\n",
              " 'DL19WQ0990',\n",
              " 'DL40NW0182',\n",
              " 'DL18PH0557']"
            ]
          },
          "metadata": {
            "tags": []
          },
          "execution_count": 153
        }
      ]
    }
  ]
}