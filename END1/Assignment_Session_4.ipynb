{
  "nbformat": 4,
  "nbformat_minor": 0,
  "metadata": {
    "colab": {
      "name": "Assignment_Session_4.ipynb",
      "provenance": [],
      "collapsed_sections": [
        "ffAKjtYIQnjf",
        "V_TFgvjhRwOG"
      ],
      "toc_visible": true,
      "authorship_tag": "ABX9TyOFPX43mC9A/n2Mx7J3yJ/n",
      "include_colab_link": true
    },
    "kernelspec": {
      "name": "python3",
      "display_name": "Python 3"
    },
    "accelerator": "GPU"
  },
  "cells": [
    {
      "cell_type": "markdown",
      "metadata": {
        "id": "view-in-github",
        "colab_type": "text"
      },
      "source": [
        "<a href=\"https://colab.research.google.com/github/woncoh1/END/blob/main/Assignment_Session_4.ipynb\" target=\"_parent\"><img src=\"https://colab.research.google.com/assets/colab-badge.svg\" alt=\"Open In Colab\"/></a>"
      ]
    },
    {
      "cell_type": "markdown",
      "metadata": {
        "id": "zV11lZcanTMj"
      },
      "source": [
        "#Instructions  \n",
        "Use this as a [reference](https://github.com/bentrevett/pytorch-sentiment-analysis/blob/master/2%20-%20Upgraded%20Sentiment%20Analysis.ipynb). \n",
        "\n",
        "Change this code in such a way that:\n",
        "\n",
        "- it has **3** LSTM layers &\n",
        "- it has used a **for loop** to do so in the **forward** function\n",
        "  - see **2. Build the Model**, *1) define model structure*\n",
        "- the dropout value used is **0.2**  \n",
        "  - see **2. Build the Model**, *2) define model constants*\n",
        "- trained on the text that is **reversed** (for example, \"my name is Rohan\"\n",
        " becomes \"Rohan is name my\")\n",
        "  - see **1. Prepare Data**, *3) reverse training text data in-place*\n",
        "  - also, `bidirectional=False`\n",
        "  - lastly, slight modifications in the `RNN` class definition (`__init__` and `forward`)\n",
        "- achieves **87% or more** accuracy  \n",
        "  - After 7 epochs, validation accuracy = **87.93%** and testing accuracy = **86.58%**\n",
        "\n",
        "- once done, share the **Github link** as well (after training on Google Colab, move the file to GitHub).  "
      ]
    },
    {
      "cell_type": "markdown",
      "metadata": {
        "id": "ffAKjtYIQnjf"
      },
      "source": [
        "# 1. Prepare Data"
      ]
    },
    {
      "cell_type": "markdown",
      "metadata": {
        "id": "TgfoNfX8sFO1"
      },
      "source": [
        "### Setup"
      ]
    },
    {
      "cell_type": "code",
      "metadata": {
        "id": "ltfCnxTYPhyK"
      },
      "source": [
        "# 1) setup preprocessing\n",
        "\n",
        "import torch\n",
        "from torchtext import data\n",
        "\n",
        "SEED = 1234\n",
        "\n",
        "torch.manual_seed(SEED)\n",
        "torch.backends.cudnn.deterministic = True\n",
        "\n",
        "TEXT = data.Field(tokenize = 'spacy', include_lengths = True)\n",
        "LABEL = data.LabelField(dtype = torch.float)\n",
        "\n",
        "device = torch.device('cuda' if torch.cuda.is_available() else 'cpu')"
      ],
      "execution_count": null,
      "outputs": []
    },
    {
      "cell_type": "markdown",
      "metadata": {
        "id": "6xqxvfACsax3"
      },
      "source": [
        "### Split training, validation and testing data"
      ]
    },
    {
      "cell_type": "code",
      "metadata": {
        "id": "VTuR9_j0d4Pj"
      },
      "source": [
        "# 2) split training and testing data\n",
        "\n",
        "from torchtext import datasets\n",
        "\n",
        "train_data, test_data = datasets.IMDB.splits(TEXT, LABEL)"
      ],
      "execution_count": null,
      "outputs": []
    },
    {
      "cell_type": "code",
      "metadata": {
        "id": "e_Oni1VQd5c5"
      },
      "source": [
        "# 3) split validation data from training data\n",
        "\n",
        "import random\n",
        "\n",
        "train_data, valid_data = train_data.split(random_state = random.seed(SEED))"
      ],
      "execution_count": null,
      "outputs": []
    },
    {
      "cell_type": "markdown",
      "metadata": {
        "id": "oXB7vPsssgi4"
      },
      "source": [
        "### Reverse text in training data"
      ]
    },
    {
      "cell_type": "code",
      "metadata": {
        "id": "vB_FqvNHiyfN"
      },
      "source": [
        "# 4) reverse training text data in-place,\n",
        "#    leaving validation and testing data unchanged\n",
        "\n",
        "for train_datum in train_data.examples:\n",
        "    vars(train_datum).get('text').reverse()"
      ],
      "execution_count": null,
      "outputs": []
    },
    {
      "cell_type": "markdown",
      "metadata": {
        "id": "qUV9PzgwsnGA"
      },
      "source": [
        "### Build vocabulary using pre-trained word embeddings"
      ]
    },
    {
      "cell_type": "code",
      "metadata": {
        "id": "SwdOrFAJP9hq"
      },
      "source": [
        "# 5) build vocabulary using pre-trained word embeddings\n",
        "\n",
        "MAX_VOCAB_SIZE = 25_000\n",
        "\n",
        "TEXT.build_vocab(train_data, \n",
        "                 max_size = MAX_VOCAB_SIZE, \n",
        "                 vectors = \"glove.6B.100d\", \n",
        "                 unk_init = torch.Tensor.normal_)\n",
        "\n",
        "LABEL.build_vocab(train_data)"
      ],
      "execution_count": null,
      "outputs": []
    },
    {
      "cell_type": "markdown",
      "metadata": {
        "id": "rhsND9ATs1GN"
      },
      "source": [
        "### Build batches of split data "
      ]
    },
    {
      "cell_type": "code",
      "metadata": {
        "id": "WmlBzDLSQCbg"
      },
      "source": [
        "# 6) build batches\n",
        "\n",
        "BATCH_SIZE = 64\n",
        "\n",
        "train_iterator, valid_iterator, test_iterator = data.BucketIterator.splits(\n",
        "    (train_data, valid_data, test_data), \n",
        "    batch_size = BATCH_SIZE,\n",
        "    sort_within_batch = True,\n",
        "    device = device) # send data to GPU (if available)"
      ],
      "execution_count": null,
      "outputs": []
    },
    {
      "cell_type": "markdown",
      "metadata": {
        "id": "77cbpgOXQz6g"
      },
      "source": [
        "#2. Build the Model"
      ]
    },
    {
      "cell_type": "markdown",
      "metadata": {
        "id": "-foNKmzLtJHQ"
      },
      "source": [
        "### Define and instantiate model"
      ]
    },
    {
      "cell_type": "code",
      "metadata": {
        "id": "e4qez07CQNgQ"
      },
      "source": [
        "# 1) define model (neural network) structure\n",
        "\n",
        "import torch.nn as nn\n",
        "\n",
        "class RNN(nn.Module):\n",
        "\n",
        "    #parts list for building blocks\n",
        "    def __init__(self, vocab_size, embedding_dim, hidden_dim, output_dim, \n",
        "                 n_layers, bidirectional, dropout, pad_idx):\n",
        "        \n",
        "        super().__init__()\n",
        "        \n",
        "        self.embedding = nn.Embedding(vocab_size, embedding_dim, \n",
        "                                      padding_idx = pad_idx)\n",
        "        \n",
        "        #the 3 lstm layers\n",
        "        self.rnns = nn.ModuleList([nn.LSTM(embedding_dim, hidden_dim, \n",
        "                                           bidirectional=bidirectional)])\n",
        "        for _ in range(n_layers - 1):\n",
        "            self.rnns.append(nn.LSTM(hidden_dim, hidden_dim, \n",
        "                                     bidirectional=bidirectional))\n",
        "        \n",
        "        self.fc = nn.Linear(hidden_dim, output_dim)\n",
        "        \n",
        "        self.dropout = nn.Dropout(dropout)\n",
        "    \n",
        "    #step-by-step manual for assembling building blocks    \n",
        "    def forward(self, text, text_lengths):\n",
        "        \n",
        "        #text = [sent len, batch size]\n",
        "        \n",
        "        embedded = self.dropout(self.embedding(text))\n",
        "        \n",
        "        #embedded = [sent len, batch size, emb dim]\n",
        "        \n",
        "        #pack sequence\n",
        "        packed_embedded = nn.utils.rnn.pack_padded_sequence(embedded, text_lengths)\n",
        "        \n",
        "        #stack multiple (3) LSTM layers with dropouts in between\n",
        "        x = packed_embedded\n",
        "        for rnn in self.rnns[:-1]:\n",
        "            x, (_, _) = rnn(x) # cf. _, (x, _)\n",
        "            x, length = nn.utils.rnn.pad_packed_sequence(x)\n",
        "            x = self.dropout(x) \n",
        "            x = nn.utils.rnn.pack_padded_sequence(x, length)\n",
        "        _, (hidden, _) = self.rnns[-1](x) # dropout only between LSTM layers\n",
        "\n",
        "        #hidden = final layer's final hidden state = [1, batch size, hid dim]\n",
        "            \n",
        "        return self.fc(hidden.squeeze(0)) #softmax depends on the loss function"
      ],
      "execution_count": null,
      "outputs": []
    },
    {
      "cell_type": "code",
      "metadata": {
        "id": "qQjiNB6eQWSw"
      },
      "source": [
        "# 2) define model constants (hyperparameters)\n",
        "\n",
        "INPUT_DIM = len(TEXT.vocab)\n",
        "EMBEDDING_DIM = 100\n",
        "HIDDEN_DIM = 256\n",
        "OUTPUT_DIM = 1\n",
        "N_LAYERS = 3          \n",
        "BIDIRECTIONAL = False #changed from True to False\n",
        "DROPOUT = 0.2         #changed from 0.5 to 0.2\n",
        "PAD_IDX = TEXT.vocab.stoi[TEXT.pad_token]"
      ],
      "execution_count": null,
      "outputs": []
    },
    {
      "cell_type": "code",
      "metadata": {
        "id": "Z1c22Q58Tfeu",
        "colab": {
          "base_uri": "https://localhost:8080/"
        },
        "outputId": "9548c639-88bb-41e0-f4df-e2bde8872f85"
      },
      "source": [
        "# 3) instantiate and check model\n",
        "\n",
        "model = RNN(INPUT_DIM, \n",
        "            EMBEDDING_DIM, \n",
        "            HIDDEN_DIM, \n",
        "            OUTPUT_DIM, \n",
        "            N_LAYERS, \n",
        "            BIDIRECTIONAL, \n",
        "            DROPOUT, \n",
        "            PAD_IDX)\n",
        "\n",
        "print(model)"
      ],
      "execution_count": null,
      "outputs": [
        {
          "output_type": "stream",
          "text": [
            "RNN(\n",
            "  (embedding): Embedding(25002, 100, padding_idx=1)\n",
            "  (rnns): ModuleList(\n",
            "    (0): LSTM(100, 256)\n",
            "    (1): LSTM(256, 256)\n",
            "    (2): LSTM(256, 256)\n",
            "  )\n",
            "  (fc): Linear(in_features=256, out_features=1, bias=True)\n",
            "  (dropout): Dropout(p=0.2, inplace=False)\n",
            ")\n"
          ],
          "name": "stdout"
        }
      ]
    },
    {
      "cell_type": "code",
      "metadata": {
        "id": "M9BHTOJ-QY2q",
        "colab": {
          "base_uri": "https://localhost:8080/"
        },
        "outputId": "c6106c8e-5620-49c9-eafb-e6b9ca1e9118"
      },
      "source": [
        "# 4) count number of parameters (weights)\n",
        "\n",
        "def count_parameters(model):\n",
        "    return sum(p.numel() for p in model.parameters() if p.requires_grad)\n",
        "\n",
        "print(f'The model has {count_parameters(model):,} trainable parameters')"
      ],
      "execution_count": null,
      "outputs": [
        {
          "output_type": "stream",
          "text": [
            "The model has 3,919,721 trainable parameters\n"
          ],
          "name": "stdout"
        }
      ]
    },
    {
      "cell_type": "markdown",
      "metadata": {
        "id": "krtcCdiitPd2"
      },
      "source": [
        "### Copy pre-trained word embeddings into model's embedding layer"
      ]
    },
    {
      "cell_type": "code",
      "metadata": {
        "id": "1lFn0XbgQbRx",
        "colab": {
          "base_uri": "https://localhost:8080/"
        },
        "outputId": "daee7e01-9de7-4ebb-86ef-31e6b4dc1fb4"
      },
      "source": [
        "# 5) inspect pre-trained word embeddings\n",
        "\n",
        "pretrained_embeddings = TEXT.vocab.vectors\n",
        "\n",
        "print(pretrained_embeddings.shape)"
      ],
      "execution_count": null,
      "outputs": [
        {
          "output_type": "stream",
          "text": [
            "torch.Size([25002, 100])\n"
          ],
          "name": "stdout"
        }
      ]
    },
    {
      "cell_type": "code",
      "metadata": {
        "id": "wdxUfSWAQefW",
        "colab": {
          "base_uri": "https://localhost:8080/"
        },
        "outputId": "225df78b-ee63-41e7-b60f-a1adc4f98066"
      },
      "source": [
        "# 6) copy pre-trained word embeddings from vocabulary to model\n",
        "\n",
        "model.embedding.weight.data.copy_(pretrained_embeddings)"
      ],
      "execution_count": null,
      "outputs": [
        {
          "output_type": "execute_result",
          "data": {
            "text/plain": [
              "tensor([[-0.1117, -0.4966,  0.1631,  ...,  1.2647, -0.2753, -0.1325],\n",
              "        [-0.8555, -0.7208,  1.3755,  ...,  0.0825, -1.1314,  0.3997],\n",
              "        [-0.0382, -0.2449,  0.7281,  ..., -0.1459,  0.8278,  0.2706],\n",
              "        ...,\n",
              "        [-0.1007, -1.4210, -0.1203,  ...,  0.6521,  0.6981,  0.5187],\n",
              "        [-0.6459,  0.3102, -1.3546,  ...,  0.7732,  0.4767,  0.3603],\n",
              "        [ 0.0668,  0.5928, -1.6730,  ...,  0.2781,  0.4265,  0.0204]])"
            ]
          },
          "metadata": {
            "tags": []
          },
          "execution_count": 112
        }
      ]
    },
    {
      "cell_type": "code",
      "metadata": {
        "id": "PdmZ5uTEQhT2",
        "colab": {
          "base_uri": "https://localhost:8080/"
        },
        "outputId": "689b718c-5598-4d02-db1a-7a7d633f5e80"
      },
      "source": [
        "# 7) zero weights for <unk> and <pad> tokens\n",
        "\n",
        "UNK_IDX = TEXT.vocab.stoi[TEXT.unk_token]\n",
        "\n",
        "model.embedding.weight.data[UNK_IDX] = torch.zeros(EMBEDDING_DIM)\n",
        "model.embedding.weight.data[PAD_IDX] = torch.zeros(EMBEDDING_DIM)\n",
        "\n",
        "print(model.embedding.weight.data)"
      ],
      "execution_count": null,
      "outputs": [
        {
          "output_type": "stream",
          "text": [
            "tensor([[ 0.0000,  0.0000,  0.0000,  ...,  0.0000,  0.0000,  0.0000],\n",
            "        [ 0.0000,  0.0000,  0.0000,  ...,  0.0000,  0.0000,  0.0000],\n",
            "        [-0.0382, -0.2449,  0.7281,  ..., -0.1459,  0.8278,  0.2706],\n",
            "        ...,\n",
            "        [-0.1007, -1.4210, -0.1203,  ...,  0.6521,  0.6981,  0.5187],\n",
            "        [-0.6459,  0.3102, -1.3546,  ...,  0.7732,  0.4767,  0.3603],\n",
            "        [ 0.0668,  0.5928, -1.6730,  ...,  0.2781,  0.4265,  0.0204]])\n"
          ],
          "name": "stdout"
        }
      ]
    },
    {
      "cell_type": "markdown",
      "metadata": {
        "id": "P7aC8WYjQ3iE"
      },
      "source": [
        "#3. Train the Model"
      ]
    },
    {
      "cell_type": "markdown",
      "metadata": {
        "id": "JY3wAXqBt2Xf"
      },
      "source": [
        "### Build loss and optimizer"
      ]
    },
    {
      "cell_type": "code",
      "metadata": {
        "id": "9lw5lC6wRCYJ"
      },
      "source": [
        "# 1) build loss function (Sigmoid + Binary Cross-Entropy Loss in one layer)\n",
        "\n",
        "criterion = nn.BCEWithLogitsLoss()"
      ],
      "execution_count": null,
      "outputs": []
    },
    {
      "cell_type": "code",
      "metadata": {
        "id": "IAZtX1HjRB68"
      },
      "source": [
        "# 2) build optimizer (Adam)\n",
        "\n",
        "import torch.optim as optim\n",
        "\n",
        "optimizer = optim.Adam(model.parameters(), lr=1e-3) # learning rate adjustable"
      ],
      "execution_count": null,
      "outputs": []
    },
    {
      "cell_type": "code",
      "metadata": {
        "id": "4bUNcYc4UEp1"
      },
      "source": [
        "# 3) send model and loss to GPU (if available), while\n",
        "#    optimizer not sent to GPU (see https://github.com/pytorch/pytorch/issues/8741)\n",
        "\n",
        "model = model.to(device)\n",
        "criterion = criterion.to(device)"
      ],
      "execution_count": null,
      "outputs": []
    },
    {
      "cell_type": "markdown",
      "metadata": {
        "id": "Vn-JkbsOuBJL"
      },
      "source": [
        "### Prepare for training\n",
        "\n"
      ]
    },
    {
      "cell_type": "code",
      "metadata": {
        "id": "8zKPoMdeRJI7"
      },
      "source": [
        "# 4) define how to calculate accuracy for training, validation and testing\n",
        "\n",
        "def binary_accuracy(preds, y):\n",
        "    \"\"\"\n",
        "    Returns accuracy per batch, \n",
        "    i.e. if you get 8/10 right, this returns 0.8, NOT 8\n",
        "    \"\"\"\n",
        "\n",
        "    #round predictions to the closest integer\n",
        "    rounded_preds = torch.round(torch.sigmoid(preds))\n",
        "    correct = (rounded_preds == y).float() #convert into float for division \n",
        "    acc = correct.sum() / len(correct)\n",
        "    return acc"
      ],
      "execution_count": null,
      "outputs": []
    },
    {
      "cell_type": "code",
      "metadata": {
        "id": "9VvTaukgRNxy"
      },
      "source": [
        "# 5) define how to train the model\n",
        "\n",
        "def train(model, iterator, optimizer, criterion):\n",
        "    \n",
        "    epoch_loss = 0\n",
        "    epoch_acc = 0\n",
        "    \n",
        "    model.train()\n",
        "    \n",
        "    for batch in iterator:\n",
        "        \n",
        "        optimizer.zero_grad()\n",
        "        \n",
        "        text, text_lengths = batch.text\n",
        "\n",
        "        text_lengths = text_lengths.cpu() #runtime type is GPU, while model expects CPU tensor\n",
        "\n",
        "        predictions = model(text, text_lengths).squeeze(1) #cf. squeeze(0) if batch_first=True\n",
        "        \n",
        "        loss = criterion(predictions, batch.label)\n",
        "        \n",
        "        acc = binary_accuracy(predictions, batch.label)\n",
        "        \n",
        "        loss.backward()\n",
        "        \n",
        "        optimizer.step()\n",
        "        \n",
        "        epoch_loss += loss.item()\n",
        "        epoch_acc += acc.item()\n",
        "        \n",
        "    return epoch_loss / len(iterator), epoch_acc / len(iterator) #average loss and accuracy per batch"
      ],
      "execution_count": null,
      "outputs": []
    },
    {
      "cell_type": "code",
      "metadata": {
        "id": "zdihIJrpRQWB"
      },
      "source": [
        "# 6) define how to evaluate the model\n",
        "\n",
        "def evaluate(model, iterator, criterion): #no optimizer\n",
        "    \n",
        "    epoch_loss = 0\n",
        "    epoch_acc = 0\n",
        "    \n",
        "    model.eval() #no dropout, batch normalization, etc\n",
        "    \n",
        "    with torch.no_grad(): #no gradient calculation\n",
        "    \n",
        "        for batch in iterator:\n",
        "\n",
        "            #no optimizer.zero_grad()\n",
        "\n",
        "            text, text_lengths = batch.text\n",
        "            \n",
        "            text_lengths = text_lengths.cpu()\n",
        "\n",
        "            predictions = model(text, text_lengths).squeeze(1)\n",
        "            \n",
        "            loss = criterion(predictions, batch.label)\n",
        "            \n",
        "            acc = binary_accuracy(predictions, batch.label)\n",
        "\n",
        "            #no loss.backward() & optimizer.step()\n",
        "\n",
        "            epoch_loss += loss.item()\n",
        "            epoch_acc += acc.item()\n",
        "        \n",
        "    return epoch_loss / len(iterator), epoch_acc / len(iterator)"
      ],
      "execution_count": null,
      "outputs": []
    },
    {
      "cell_type": "code",
      "metadata": {
        "id": "rhQ-743nRULI"
      },
      "source": [
        "# 7) define how to calculate time spent per epoch\n",
        "\n",
        "import time\n",
        "\n",
        "def epoch_time(start_time, end_time):\n",
        "    elapsed_time = end_time - start_time\n",
        "    elapsed_mins = int(elapsed_time / 60)\n",
        "    elapsed_secs = int(elapsed_time - (elapsed_mins * 60))\n",
        "    return elapsed_mins, elapsed_secs"
      ],
      "execution_count": null,
      "outputs": []
    },
    {
      "cell_type": "markdown",
      "metadata": {
        "id": "Y1S-erR8uhGQ"
      },
      "source": [
        "### Carry out training"
      ]
    },
    {
      "cell_type": "code",
      "metadata": {
        "id": "rlAa7wm6RWnU",
        "colab": {
          "base_uri": "https://localhost:8080/"
        },
        "outputId": "0c0c3a5c-04c2-4642-e464-0096528550fe"
      },
      "source": [
        "# 8) data, model, loss, and optimizer all come together to actually train model\n",
        "\n",
        "N_EPOCHS = 13\n",
        "\n",
        "best_valid_loss = float('inf')\n",
        "\n",
        "for epoch in range(N_EPOCHS):\n",
        "\n",
        "    start_time = time.time()\n",
        "    \n",
        "    train_loss, train_acc = train(model, train_iterator, optimizer, criterion)\n",
        "    valid_loss, valid_acc = evaluate(model, valid_iterator, criterion)\n",
        "    \n",
        "    end_time = time.time()\n",
        "\n",
        "    epoch_mins, epoch_secs = epoch_time(start_time, end_time)\n",
        "    \n",
        "    if valid_loss < best_valid_loss:\n",
        "        best_valid_loss = valid_loss\n",
        "        torch.save(model.state_dict(), 'tut2-model.pt') #save best parameters for testing\n",
        "    \n",
        "    print(f'Epoch: {epoch+1:02} | Epoch Time: {epoch_mins}m {epoch_secs}s')\n",
        "    print(f'\\tTrain Loss: {train_loss:.3f} | Train Acc: {train_acc*100:.2f}%')\n",
        "    print(f'\\t Val. Loss: {valid_loss:.3f} |  Val. Acc: {valid_acc*100:.2f}%')"
      ],
      "execution_count": null,
      "outputs": [
        {
          "output_type": "stream",
          "text": [
            "Epoch: 01 | Epoch Time: 0m 32s\n",
            "\tTrain Loss: 0.659 | Train Acc: 60.82%\n",
            "\t Val. Loss: 0.651 |  Val. Acc: 61.46%\n",
            "Epoch: 02 | Epoch Time: 0m 32s\n",
            "\tTrain Loss: 0.694 | Train Acc: 51.89%\n",
            "\t Val. Loss: 0.717 |  Val. Acc: 49.56%\n",
            "Epoch: 03 | Epoch Time: 0m 32s\n",
            "\tTrain Loss: 0.696 | Train Acc: 49.83%\n",
            "\t Val. Loss: 0.693 |  Val. Acc: 50.79%\n",
            "Epoch: 04 | Epoch Time: 0m 32s\n",
            "\tTrain Loss: 0.694 | Train Acc: 49.79%\n",
            "\t Val. Loss: 0.693 |  Val. Acc: 50.79%\n",
            "Epoch: 05 | Epoch Time: 0m 32s\n",
            "\tTrain Loss: 0.694 | Train Acc: 50.11%\n",
            "\t Val. Loss: 0.695 |  Val. Acc: 50.79%\n",
            "Epoch: 06 | Epoch Time: 0m 32s\n",
            "\tTrain Loss: 0.693 | Train Acc: 50.18%\n",
            "\t Val. Loss: 0.691 |  Val. Acc: 50.07%\n",
            "Epoch: 07 | Epoch Time: 0m 32s\n",
            "\tTrain Loss: 0.598 | Train Acc: 66.88%\n",
            "\t Val. Loss: 0.419 |  Val. Acc: 82.39%\n",
            "Epoch: 08 | Epoch Time: 0m 32s\n",
            "\tTrain Loss: 0.324 | Train Acc: 87.74%\n",
            "\t Val. Loss: 0.340 |  Val. Acc: 86.46%\n",
            "Epoch: 09 | Epoch Time: 0m 32s\n",
            "\tTrain Loss: 0.237 | Train Acc: 91.15%\n",
            "\t Val. Loss: 0.319 |  Val. Acc: 86.71%\n",
            "Epoch: 10 | Epoch Time: 0m 32s\n",
            "\tTrain Loss: 0.180 | Train Acc: 93.75%\n",
            "\t Val. Loss: 0.313 |  Val. Acc: 87.93%\n",
            "Epoch: 11 | Epoch Time: 0m 32s\n",
            "\tTrain Loss: 0.380 | Train Acc: 76.64%\n",
            "\t Val. Loss: 0.531 |  Val. Acc: 70.82%\n",
            "Epoch: 12 | Epoch Time: 0m 32s\n",
            "\tTrain Loss: 0.161 | Train Acc: 93.25%\n",
            "\t Val. Loss: 0.433 |  Val. Acc: 82.28%\n",
            "Epoch: 13 | Epoch Time: 0m 32s\n",
            "\tTrain Loss: 0.136 | Train Acc: 94.32%\n",
            "\t Val. Loss: 0.505 |  Val. Acc: 75.32%\n"
          ],
          "name": "stdout"
        }
      ]
    },
    {
      "cell_type": "markdown",
      "metadata": {
        "id": "D0RTjj15uk32"
      },
      "source": [
        "### Test the trained model"
      ]
    },
    {
      "cell_type": "code",
      "metadata": {
        "id": "a3TDUOttRY23",
        "colab": {
          "base_uri": "https://localhost:8080/"
        },
        "outputId": "656dfbe2-40c3-4051-96c6-d802ae049f15"
      },
      "source": [
        "# 9) test model using testing dataset\n",
        "\n",
        "model.load_state_dict(torch.load('tut2-model.pt'))\n",
        "\n",
        "test_loss, test_acc = evaluate(model, test_iterator, criterion)\n",
        "\n",
        "print(f'Test Loss: {test_loss:.3f} | Test Acc: {test_acc*100:.2f}%')"
      ],
      "execution_count": null,
      "outputs": [
        {
          "output_type": "stream",
          "text": [
            "Test Loss: 0.343 | Test Acc: 86.58%\n"
          ],
          "name": "stdout"
        }
      ]
    },
    {
      "cell_type": "markdown",
      "metadata": {
        "id": "V_TFgvjhRwOG"
      },
      "source": [
        "#4. Test with User Input"
      ]
    },
    {
      "cell_type": "code",
      "metadata": {
        "id": "5VjUpreURxyr"
      },
      "source": [
        "# 1) define how to test the model using arbitrary user input\n",
        "\n",
        "import spacy\n",
        "nlp = spacy.load('en')\n",
        "\n",
        "def predict_sentiment(model, sentence):\n",
        "    model.eval()\n",
        "    tokenized = [tok.text for tok in nlp.tokenizer(sentence)]\n",
        "    indexed = [TEXT.vocab.stoi[t] for t in tokenized]\n",
        "    length = [len(indexed)]\n",
        "    tensor = torch.LongTensor(indexed).to(device)\n",
        "    tensor = tensor.unsqueeze(1)\n",
        "    length_tensor = torch.LongTensor(length)\n",
        "    prediction = torch.sigmoid(model(tensor, length_tensor))\n",
        "    return prediction.item()"
      ],
      "execution_count": null,
      "outputs": []
    },
    {
      "cell_type": "code",
      "metadata": {
        "id": "4AQngH-IRz3o",
        "colab": {
          "base_uri": "https://localhost:8080/"
        },
        "outputId": "3b957d6d-bd6b-4b8a-e9c1-c524d7ddadf1"
      },
      "source": [
        "# 2) test the model using a negative sentence\n",
        "\n",
        "predict_sentiment(model, \"This film is terrible\")"
      ],
      "execution_count": null,
      "outputs": [
        {
          "output_type": "execute_result",
          "data": {
            "text/plain": [
              "0.10009177029132843"
            ]
          },
          "metadata": {
            "tags": []
          },
          "execution_count": 124
        }
      ]
    },
    {
      "cell_type": "code",
      "metadata": {
        "id": "8sfHOFQ4R1xE",
        "colab": {
          "base_uri": "https://localhost:8080/"
        },
        "outputId": "a0123e0b-917f-487b-e076-beaebf4d87ae"
      },
      "source": [
        "# 3) test the model using a positive sentence\n",
        "\n",
        "predict_sentiment(model, \"This film is great\")"
      ],
      "execution_count": null,
      "outputs": [
        {
          "output_type": "execute_result",
          "data": {
            "text/plain": [
              "0.6731292009353638"
            ]
          },
          "metadata": {
            "tags": []
          },
          "execution_count": 125
        }
      ]
    }
  ]
}